{
 "cells": [
  {
   "cell_type": "code",
   "execution_count": 3,
   "id": "29551895-eeaa-4131-a19b-709f9147ef96",
   "metadata": {},
   "outputs": [],
   "source": [
    "def test1():\n",
    "    a = 5 + 14\n",
    "    return a"
   ]
  },
  {
   "cell_type": "code",
   "execution_count": 4,
   "id": "419c9d9e-c978-4764-8e2e-20ed18ae7119",
   "metadata": {},
   "outputs": [
    {
     "data": {
      "text/plain": [
       "19"
      ]
     },
     "execution_count": 4,
     "metadata": {},
     "output_type": "execute_result"
    }
   ],
   "source": [
    "test1()"
   ]
  },
  {
   "cell_type": "code",
   "execution_count": 5,
   "id": "76d00973-b316-4a15-b5a4-3aedde4e3450",
   "metadata": {},
   "outputs": [],
   "source": [
    "def test2(a,b):\n",
    "    return a+b\n",
    "    "
   ]
  },
  {
   "cell_type": "code",
   "execution_count": 7,
   "id": "1023b0c2-7777-47cd-8f49-2bd8dd19d3c5",
   "metadata": {},
   "outputs": [
    {
     "data": {
      "text/plain": [
       "5"
      ]
     },
     "execution_count": 7,
     "metadata": {},
     "output_type": "execute_result"
    }
   ],
   "source": [
    "test2(2,3)"
   ]
  },
  {
   "cell_type": "code",
   "execution_count": 9,
   "id": "7e443968-0651-4283-80b3-1747740e26c5",
   "metadata": {},
   "outputs": [
    {
     "data": {
      "text/plain": [
       "'eliyashello'"
      ]
     },
     "execution_count": 9,
     "metadata": {},
     "output_type": "execute_result"
    }
   ],
   "source": [
    "test2(\"eliyas\",\"hello\")"
   ]
  },
  {
   "cell_type": "code",
   "execution_count": 12,
   "id": "e762a82e-a673-4346-84b3-9036586432a2",
   "metadata": {},
   "outputs": [
    {
     "data": {
      "text/plain": [
       "' eliyashello'"
      ]
     },
     "execution_count": 12,
     "metadata": {},
     "output_type": "execute_result"
    }
   ],
   "source": [
    "test2(b=\"hello\",a = \" eliyas\")"
   ]
  },
  {
   "cell_type": "code",
   "execution_count": 13,
   "id": "5f34eeb8-f904-4fa6-a414-b3a51af8afb2",
   "metadata": {},
   "outputs": [],
   "source": [
    "def see(a,b):\n",
    "    return a,b"
   ]
  },
  {
   "cell_type": "code",
   "execution_count": 15,
   "id": "9af108fa-e00e-4bd1-b59b-29b532f0a861",
   "metadata": {},
   "outputs": [
    {
     "data": {
      "text/plain": [
       "tuple"
      ]
     },
     "execution_count": 15,
     "metadata": {},
     "output_type": "execute_result"
    }
   ],
   "source": [
    "type(see(1,2))"
   ]
  },
  {
   "cell_type": "code",
   "execution_count": 16,
   "id": "5b16f43c-0bd7-445f-80a1-e28266ae7a47",
   "metadata": {},
   "outputs": [],
   "source": [
    "def test3(*args):\n",
    "    return args"
   ]
  },
  {
   "cell_type": "code",
   "execution_count": 19,
   "id": "cdb92a01-6fcc-4e9f-bf04-587d6fef28a8",
   "metadata": {},
   "outputs": [
    {
     "data": {
      "text/plain": [
       "(1, 2, 3, 4, 5)"
      ]
     },
     "execution_count": 19,
     "metadata": {},
     "output_type": "execute_result"
    }
   ],
   "source": [
    "test3(1, 2, 3, 4, 5)"
   ]
  },
  {
   "cell_type": "code",
   "execution_count": 20,
   "id": "72cf682c-bf14-420c-8227-8c26e0fa75b3",
   "metadata": {},
   "outputs": [
    {
     "data": {
      "text/plain": [
       "(1, 3, 4, [1, 4, 'elli'], ('nice', 1, 2), (5+4j))"
      ]
     },
     "execution_count": 20,
     "metadata": {},
     "output_type": "execute_result"
    }
   ],
   "source": [
    "test3(1, 3, 4, [1, 4, \"elli\"],(\"nice\",1,2),5+4j)"
   ]
  },
  {
   "cell_type": "code",
   "execution_count": 21,
   "id": "9a6d0289-54c7-488f-bfad-9299456e0c24",
   "metadata": {},
   "outputs": [],
   "source": [
    "def test4(*args):\n",
    "    return list(args)"
   ]
  },
  {
   "cell_type": "code",
   "execution_count": 23,
   "id": "56091d35-bf46-4e6f-990b-4de6f07c3774",
   "metadata": {},
   "outputs": [
    {
     "data": {
      "text/plain": [
       "[1, 2, 3, ['elli', 'sdf'], True, (4+7j), 34.5]"
      ]
     },
     "execution_count": 23,
     "metadata": {},
     "output_type": "execute_result"
    }
   ],
   "source": [
    "test4(1,2,3,[\"elli\",\"sdf\"],True,4+7j,34.5)"
   ]
  },
  {
   "cell_type": "code",
   "execution_count": 24,
   "id": "1f107d46-f26b-4930-8fa3-f92af1dfa495",
   "metadata": {},
   "outputs": [],
   "source": [
    "def test5(*args):\n",
    "    lis = []\n",
    "    for i in args:\n",
    "        lis.append(i)\n",
    "    return lis"
   ]
  },
  {
   "cell_type": "code",
   "execution_count": 25,
   "id": "fc89c2ff-4d71-4151-bb1f-73fb80fd417a",
   "metadata": {},
   "outputs": [
    {
     "data": {
      "text/plain": [
       "[1, 2, 3, ['elli', 'sdf'], True, (4+7j), 34.5]"
      ]
     },
     "execution_count": 25,
     "metadata": {},
     "output_type": "execute_result"
    }
   ],
   "source": [
    "test5(1,2,3,[\"elli\",\"sdf\"],True,4+7j,34.5)"
   ]
  },
  {
   "cell_type": "code",
   "execution_count": 26,
   "id": "49d9e5f5-6a01-49c9-9612-7d1e24682bb7",
   "metadata": {},
   "outputs": [],
   "source": [
    "def test6(*elli):\n",
    "    return list(elli)\n"
   ]
  },
  {
   "cell_type": "code",
   "execution_count": 27,
   "id": "67387b8e-08be-455d-b030-9336686d1b8e",
   "metadata": {},
   "outputs": [
    {
     "data": {
      "text/plain": [
       "[22, 3, 3, 44, 55]"
      ]
     },
     "execution_count": 27,
     "metadata": {},
     "output_type": "execute_result"
    }
   ],
   "source": [
    "test6(22,3,3,44,55)"
   ]
  },
  {
   "cell_type": "code",
   "execution_count": 28,
   "id": "3574766f-6fe2-4679-94a4-7a1dbd8853f7",
   "metadata": {},
   "outputs": [
    {
     "data": {
      "text/plain": [
       "dict"
      ]
     },
     "execution_count": 28,
     "metadata": {},
     "output_type": "execute_result"
    }
   ],
   "source": [
    "d = {}\n",
    "type(d)"
   ]
  },
  {
   "cell_type": "code",
   "execution_count": 29,
   "id": "e1b46ba6-4105-4654-babb-33a0f6b91428",
   "metadata": {},
   "outputs": [],
   "source": [
    "d1 = {2,3,4}"
   ]
  },
  {
   "cell_type": "code",
   "execution_count": 30,
   "id": "9b88a4da-ee83-4373-a1b5-a15f222c28e6",
   "metadata": {},
   "outputs": [
    {
     "data": {
      "text/plain": [
       "set"
      ]
     },
     "execution_count": 30,
     "metadata": {},
     "output_type": "execute_result"
    }
   ],
   "source": [
    "type(d1)"
   ]
  },
  {
   "cell_type": "code",
   "execution_count": 31,
   "id": "c10da65e-2ca4-47b8-89c2-c29acdc02938",
   "metadata": {},
   "outputs": [],
   "source": [
    "d1 = {2,}"
   ]
  },
  {
   "cell_type": "code",
   "execution_count": 32,
   "id": "69fc7581-1814-470d-862a-2b6d46b9a195",
   "metadata": {},
   "outputs": [
    {
     "data": {
      "text/plain": [
       "set"
      ]
     },
     "execution_count": 32,
     "metadata": {},
     "output_type": "execute_result"
    }
   ],
   "source": [
    "type(d1)"
   ]
  },
  {
   "cell_type": "code",
   "execution_count": 33,
   "id": "99bf0d89-20cb-4160-a69e-406386b1c208",
   "metadata": {},
   "outputs": [],
   "source": [
    "d2 = {\"key1\": \"eliyas\", \"key2\":[1,2,3,4]}"
   ]
  },
  {
   "cell_type": "code",
   "execution_count": 34,
   "id": "d332aae8-a146-416c-8bcc-3ff748b7fc67",
   "metadata": {},
   "outputs": [
    {
     "data": {
      "text/plain": [
       "{'key1': 'eliyas', 'key2': [1, 2, 3, 4]}"
      ]
     },
     "execution_count": 34,
     "metadata": {},
     "output_type": "execute_result"
    }
   ],
   "source": [
    "d2"
   ]
  },
  {
   "cell_type": "code",
   "execution_count": 43,
   "id": "7ff348d7-0659-44b5-b75c-fdf2cf60fb3a",
   "metadata": {},
   "outputs": [],
   "source": [
    "d3 = { 1223: \"eliyas\"}"
   ]
  },
  {
   "cell_type": "code",
   "execution_count": 44,
   "id": "2464c69a-e259-445b-b7ef-0aa80ebd06f2",
   "metadata": {},
   "outputs": [
    {
     "data": {
      "text/plain": [
       "{1223: 'eliyas'}"
      ]
     },
     "execution_count": 44,
     "metadata": {},
     "output_type": "execute_result"
    }
   ],
   "source": [
    "d3"
   ]
  },
  {
   "cell_type": "code",
   "execution_count": 40,
   "id": "17134597-d3e7-4c83-9414-27a3c3739cf5",
   "metadata": {},
   "outputs": [
    {
     "ename": "SyntaxError",
     "evalue": "invalid syntax (1696056898.py, line 1)",
     "output_type": "error",
     "traceback": [
      "\u001b[0;36m  Cell \u001b[0;32mIn [40], line 1\u001b[0;36m\u001b[0m\n\u001b[0;31m    d4 = { @elli:\"sd\"}\u001b[0m\n\u001b[0m           ^\u001b[0m\n\u001b[0;31mSyntaxError\u001b[0m\u001b[0;31m:\u001b[0m invalid syntax\n"
     ]
    }
   ],
   "source": [
    "d4 = { @elli:\"sd\"}"
   ]
  },
  {
   "cell_type": "code",
   "execution_count": 39,
   "id": "763197eb-7257-4ba7-9aa3-91ec3ee5e960",
   "metadata": {},
   "outputs": [
    {
     "data": {
      "text/plain": [
       "{'@': 'sd'}"
      ]
     },
     "execution_count": 39,
     "metadata": {},
     "output_type": "execute_result"
    }
   ],
   "source": [
    "d4"
   ]
  },
  {
   "cell_type": "code",
   "execution_count": 45,
   "id": "d3a23b76-3f42-42f1-936f-b36604e15892",
   "metadata": {},
   "outputs": [
    {
     "ename": "TypeError",
     "evalue": "unhashable type: 'list'",
     "output_type": "error",
     "traceback": [
      "\u001b[0;31m---------------------------------------------------------------------------\u001b[0m",
      "\u001b[0;31mTypeError\u001b[0m                                 Traceback (most recent call last)",
      "Cell \u001b[0;32mIn [45], line 1\u001b[0m\n\u001b[0;32m----> 1\u001b[0m d5 \u001b[38;5;241m=\u001b[39m {[\u001b[38;5;241m1\u001b[39m,\u001b[38;5;241m2\u001b[39m,\u001b[38;5;241m3\u001b[39m,\u001b[38;5;241m4\u001b[39m]:\u001b[38;5;124m\"\u001b[39m\u001b[38;5;124meliyas\u001b[39m\u001b[38;5;124m\"\u001b[39m}\n",
      "\u001b[0;31mTypeError\u001b[0m: unhashable type: 'list'"
     ]
    }
   ],
   "source": [
    "d5 = {[1,2,3,4]:\"eliyas\"}"
   ]
  },
  {
   "cell_type": "code",
   "execution_count": 46,
   "id": "7959194c-8205-4054-a314-3fc5ad9376da",
   "metadata": {},
   "outputs": [],
   "source": [
    "d6 = {(1,2,3,4):\"eliyas\"}"
   ]
  },
  {
   "cell_type": "code",
   "execution_count": 47,
   "id": "e212bbf8-c95f-4201-bb94-fdb28b701764",
   "metadata": {},
   "outputs": [
    {
     "data": {
      "text/plain": [
       "{(1, 2, 3, 4): 'eliyas'}"
      ]
     },
     "execution_count": 47,
     "metadata": {},
     "output_type": "execute_result"
    }
   ],
   "source": [
    "d6"
   ]
  },
  {
   "cell_type": "code",
   "execution_count": 50,
   "id": "26aa251c-fd65-4a8b-9d27-56bef833301f",
   "metadata": {},
   "outputs": [],
   "source": [
    "d7 = {\"name\":\"elli\", \"mail\":\"elyaschs2b@gmail.com\", \"name\":\"elyas\", \"new_name\":\"elyas\"}"
   ]
  },
  {
   "cell_type": "code",
   "execution_count": 51,
   "id": "fd4d7890-d0a5-4b35-a2f2-00f4a34b788e",
   "metadata": {},
   "outputs": [
    {
     "data": {
      "text/plain": [
       "{'name': 'elyas', 'mail': 'elyaschs2b@gmail.com', 'new_name': 'elyas'}"
      ]
     },
     "execution_count": 51,
     "metadata": {},
     "output_type": "execute_result"
    }
   ],
   "source": [
    "d7"
   ]
  },
  {
   "cell_type": "code",
   "execution_count": 53,
   "id": "3236c133-475d-49ce-b630-4bcf2c24f230",
   "metadata": {},
   "outputs": [],
   "source": [
    "d8 = { \"name\":\"ineuron\", \"mentor\":{\"first\":\"sudanshu\", \"second\":\"krish\"} }"
   ]
  },
  {
   "cell_type": "code",
   "execution_count": 54,
   "id": "9f80c8b6-c563-4841-8dde-17d92d6c594c",
   "metadata": {},
   "outputs": [
    {
     "data": {
      "text/plain": [
       "{'name': 'ineuron', 'mentor': {'first': 'sudanshu', 'second': 'krish'}}"
      ]
     },
     "execution_count": 54,
     "metadata": {},
     "output_type": "execute_result"
    }
   ],
   "source": [
    "d8\n"
   ]
  },
  {
   "cell_type": "code",
   "execution_count": 58,
   "id": "32d05d9f-dc48-4045-9348-2cf7694abe32",
   "metadata": {},
   "outputs": [
    {
     "data": {
      "text/plain": [
       "'elyaschs2b@gmail.com'"
      ]
     },
     "execution_count": 58,
     "metadata": {},
     "output_type": "execute_result"
    }
   ],
   "source": [
    "d7['mail']"
   ]
  },
  {
   "cell_type": "code",
   "execution_count": 61,
   "id": "02203b58-bcd7-4f4e-89bc-31e3a9ca4982",
   "metadata": {},
   "outputs": [
    {
     "data": {
      "text/plain": [
       "'sudanshu'"
      ]
     },
     "execution_count": 61,
     "metadata": {},
     "output_type": "execute_result"
    }
   ],
   "source": [
    "d8[\"mentor\"][\"first\"]"
   ]
  },
  {
   "cell_type": "code",
   "execution_count": 66,
   "id": "cdb72568-4e2a-494a-9b14-c11b25c4dd08",
   "metadata": {},
   "outputs": [
    {
     "data": {
      "text/plain": [
       "['name', 'mail', 'new_name']"
      ]
     },
     "execution_count": 66,
     "metadata": {},
     "output_type": "execute_result"
    }
   ],
   "source": [
    "list(d7.keys())"
   ]
  },
  {
   "cell_type": "code",
   "execution_count": 70,
   "id": "27ffe50a-a9ed-40bd-bf9a-c4a3545f02a0",
   "metadata": {},
   "outputs": [
    {
     "data": {
      "text/plain": [
       "dict_values(['elyas', 'elyaschs2b@gmail.com', 'elyas'])"
      ]
     },
     "execution_count": 70,
     "metadata": {},
     "output_type": "execute_result"
    }
   ],
   "source": [
    "d7.values()"
   ]
  },
  {
   "cell_type": "code",
   "execution_count": 73,
   "id": "722ee37c-6653-4ed8-b20c-89f59a516aa7",
   "metadata": {},
   "outputs": [
    {
     "data": {
      "text/plain": [
       "dict_items([('name', 'elyas'), ('mail', 'elyaschs2b@gmail.com'), ('new_name', 'elyas')])"
      ]
     },
     "execution_count": 73,
     "metadata": {},
     "output_type": "execute_result"
    }
   ],
   "source": [
    "d7.items()"
   ]
  },
  {
   "cell_type": "code",
   "execution_count": 74,
   "id": "253ea960-38c5-44a0-a755-1948087023f1",
   "metadata": {},
   "outputs": [
    {
     "data": {
      "text/plain": [
       "{'name': 'ineuron', 'mentor': {'first': 'sudanshu', 'second': 'krish'}}"
      ]
     },
     "execution_count": 74,
     "metadata": {},
     "output_type": "execute_result"
    }
   ],
   "source": [
    "d8"
   ]
  },
  {
   "cell_type": "code",
   "execution_count": 77,
   "id": "e47253e8-6c4b-41d3-bfe3-adb1f15bbce5",
   "metadata": {},
   "outputs": [
    {
     "data": {
      "text/plain": [
       "['sudanshu', 'krish']"
      ]
     },
     "execution_count": 77,
     "metadata": {},
     "output_type": "execute_result"
    }
   ],
   "source": [
    "list(d8['mentor'].values())"
   ]
  },
  {
   "cell_type": "code",
   "execution_count": 78,
   "id": "afa4957c-e853-4e3a-8fb2-ccbf0ea277be",
   "metadata": {},
   "outputs": [
    {
     "data": {
      "text/plain": [
       "{'name': 'ineuron', 'mentor': {'first': 'sudanshu', 'second': 'krish'}}"
      ]
     },
     "execution_count": 78,
     "metadata": {},
     "output_type": "execute_result"
    }
   ],
   "source": [
    "d8"
   ]
  },
  {
   "cell_type": "code",
   "execution_count": 89,
   "id": "1549dad0-e25f-40de-a76c-03264840c205",
   "metadata": {},
   "outputs": [],
   "source": [
    "ls = []\n",
    "for i in d8.keys():\n",
    "    if type(d8[i]) == dict:\n",
    "        ls.append(list(d8[i].values()))"
   ]
  },
  {
   "cell_type": "code",
   "execution_count": 90,
   "id": "8ad207e6-d49a-4a81-9674-ad53cd679b2c",
   "metadata": {},
   "outputs": [
    {
     "data": {
      "text/plain": [
       "[['sudanshu', 'krish']]"
      ]
     },
     "execution_count": 90,
     "metadata": {},
     "output_type": "execute_result"
    }
   ],
   "source": [
    "ls"
   ]
  },
  {
   "cell_type": "code",
   "execution_count": 105,
   "id": "48f6104f-915f-4b51-a249-e713f4d48e4c",
   "metadata": {},
   "outputs": [],
   "source": [
    "l = []\n",
    "for i in d8.values():\n",
    "    if type(i) == dict:\n",
    "        l.append(list(i.values()))\n",
    "        "
   ]
  },
  {
   "cell_type": "code",
   "execution_count": 106,
   "id": "79a7c746-7d32-4638-8ce5-ae94bcb9f879",
   "metadata": {},
   "outputs": [
    {
     "data": {
      "text/plain": [
       "[['sudanshu', 'krish']]"
      ]
     },
     "execution_count": 106,
     "metadata": {},
     "output_type": "execute_result"
    }
   ],
   "source": [
    "l"
   ]
  },
  {
   "cell_type": "code",
   "execution_count": 100,
   "id": "d942ee73-1ff5-4e00-9352-62c2571a2d2c",
   "metadata": {},
   "outputs": [],
   "source": [
    "d9 = { \"name\":\"ineuron\", \"mentor\":{\"first\":\"sudanshu\", \"second\":\"krish\"},\"email\":{\"elli\":\"eliyaschozhakkad@gmail.com\",\"hana\":\"hana@gmail.com\"} }"
   ]
  },
  {
   "cell_type": "code",
   "execution_count": 107,
   "id": "e4b677b8-fd60-47c3-9a94-e3059db314db",
   "metadata": {},
   "outputs": [],
   "source": [
    "l = []\n",
    "for i in d9.values():\n",
    "    if type(i) == dict:\n",
    "        l.append(list(i.values()))"
   ]
  },
  {
   "cell_type": "code",
   "execution_count": 108,
   "id": "6abc182d-13af-411f-9ba9-1f6c7af3bf3a",
   "metadata": {},
   "outputs": [
    {
     "data": {
      "text/plain": [
       "[['sudanshu', 'krish'], ['eliyaschozhakkad@gmail.com', 'hana@gmail.com']]"
      ]
     },
     "execution_count": 108,
     "metadata": {},
     "output_type": "execute_result"
    }
   ],
   "source": [
    "l"
   ]
  },
  {
   "cell_type": "code",
   "execution_count": 112,
   "id": "fda8054e-2dd8-4048-bfdf-14a66580f74f",
   "metadata": {},
   "outputs": [],
   "source": [
    "def test9(d):\n",
    "    l = []\n",
    "    for i in d.values():\n",
    "        if type(i) == dict:\n",
    "            l.append(list(i.values()))\n",
    "    return l"
   ]
  },
  {
   "cell_type": "code",
   "execution_count": 115,
   "id": "ea558355-0864-4544-8f72-8cacd95425c0",
   "metadata": {},
   "outputs": [
    {
     "data": {
      "text/plain": [
       "[['sudanshu', 'krish'], ['eliyaschozhakkad@gmail.com', 'hana@gmail.com']]"
      ]
     },
     "execution_count": 115,
     "metadata": {},
     "output_type": "execute_result"
    }
   ],
   "source": [
    "test9(d9)"
   ]
  },
  {
   "cell_type": "code",
   "execution_count": 116,
   "id": "916f7a2a-05df-43d3-85fc-99ded280dcf7",
   "metadata": {},
   "outputs": [
    {
     "data": {
      "text/plain": [
       "{'name': 'ineuron', 'mentor': {'first': 'sudanshu', 'second': 'krish'}}"
      ]
     },
     "execution_count": 116,
     "metadata": {},
     "output_type": "execute_result"
    }
   ],
   "source": [
    "d8"
   ]
  },
  {
   "cell_type": "code",
   "execution_count": 117,
   "id": "f325ff20-38f4-452a-bbc2-564728a8a5b8",
   "metadata": {},
   "outputs": [],
   "source": [
    "d8[\"mobile\"] = 8943"
   ]
  },
  {
   "cell_type": "code",
   "execution_count": 118,
   "id": "223ebc1b-96e3-418e-aee9-d500b4ce5c1b",
   "metadata": {},
   "outputs": [
    {
     "data": {
      "text/plain": [
       "{'name': 'ineuron',\n",
       " 'mentor': {'first': 'sudanshu', 'second': 'krish'},\n",
       " 'mobile': 8943}"
      ]
     },
     "execution_count": 118,
     "metadata": {},
     "output_type": "execute_result"
    }
   ],
   "source": [
    "d8"
   ]
  },
  {
   "cell_type": "code",
   "execution_count": 119,
   "id": "5e0ad35d-7053-4d59-81fc-29b2a2d6b8e3",
   "metadata": {},
   "outputs": [],
   "source": [
    "d8[\"mobile\"] = [8943, 1234, 3423]"
   ]
  },
  {
   "cell_type": "code",
   "execution_count": 120,
   "id": "f4146111-69c8-4d33-89fd-e140ea6d96b0",
   "metadata": {},
   "outputs": [
    {
     "data": {
      "text/plain": [
       "{'name': 'ineuron',\n",
       " 'mentor': {'first': 'sudanshu', 'second': 'krish'},\n",
       " 'mobile': [8943, 1234, 3423]}"
      ]
     },
     "execution_count": 120,
     "metadata": {},
     "output_type": "execute_result"
    }
   ],
   "source": [
    "d8"
   ]
  },
  {
   "cell_type": "code",
   "execution_count": 121,
   "id": "a5cac58b-5483-4cc6-b8f6-20d36a948bcd",
   "metadata": {},
   "outputs": [
    {
     "data": {
      "text/plain": [
       "{'name': 'elyas', 'mail': 'elyaschs2b@gmail.com', 'new_name': 'elyas'}"
      ]
     },
     "execution_count": 121,
     "metadata": {},
     "output_type": "execute_result"
    }
   ],
   "source": [
    "d7"
   ]
  },
  {
   "cell_type": "code",
   "execution_count": 122,
   "id": "f1383805-46c0-4d21-b994-ed93212ec788",
   "metadata": {},
   "outputs": [],
   "source": [
    "del d7"
   ]
  },
  {
   "cell_type": "code",
   "execution_count": 123,
   "id": "bd7d1161-3d6c-468c-a349-0f12f6405bb7",
   "metadata": {},
   "outputs": [
    {
     "ename": "NameError",
     "evalue": "name 'd7' is not defined",
     "output_type": "error",
     "traceback": [
      "\u001b[0;31m---------------------------------------------------------------------------\u001b[0m",
      "\u001b[0;31mNameError\u001b[0m                                 Traceback (most recent call last)",
      "Cell \u001b[0;32mIn [123], line 1\u001b[0m\n\u001b[0;32m----> 1\u001b[0m \u001b[43md7\u001b[49m\n",
      "\u001b[0;31mNameError\u001b[0m: name 'd7' is not defined"
     ]
    }
   ],
   "source": [
    "d7"
   ]
  },
  {
   "cell_type": "code",
   "execution_count": 124,
   "id": "07cb3f5a-0249-41f8-8ce6-3328a920e6d2",
   "metadata": {},
   "outputs": [
    {
     "data": {
      "text/plain": [
       "{'name': 'ineuron',\n",
       " 'mentor': {'first': 'sudanshu', 'second': 'krish'},\n",
       " 'mobile': [8943, 1234, 3423]}"
      ]
     },
     "execution_count": 124,
     "metadata": {},
     "output_type": "execute_result"
    }
   ],
   "source": [
    "d8"
   ]
  },
  {
   "cell_type": "code",
   "execution_count": 125,
   "id": "e10f4354-a2f3-4e0a-a181-2f9213519a84",
   "metadata": {},
   "outputs": [],
   "source": [
    "del d8['name']"
   ]
  },
  {
   "cell_type": "code",
   "execution_count": 126,
   "id": "b25f04c5-64a4-409b-8b4f-0695286f7a73",
   "metadata": {},
   "outputs": [
    {
     "data": {
      "text/plain": [
       "{'mentor': {'first': 'sudanshu', 'second': 'krish'},\n",
       " 'mobile': [8943, 1234, 3423]}"
      ]
     },
     "execution_count": 126,
     "metadata": {},
     "output_type": "execute_result"
    }
   ],
   "source": [
    "d8"
   ]
  },
  {
   "cell_type": "code",
   "execution_count": 128,
   "id": "1384c002-ffd1-4070-80a0-12b171107f71",
   "metadata": {},
   "outputs": [
    {
     "data": {
      "text/plain": [
       "('mobile', [8943, 1234, 3423])"
      ]
     },
     "execution_count": 128,
     "metadata": {},
     "output_type": "execute_result"
    }
   ],
   "source": [
    "d8.popitem()"
   ]
  },
  {
   "cell_type": "code",
   "execution_count": 129,
   "id": "cee78450-6d1e-4ea9-b477-fbe4916f4545",
   "metadata": {},
   "outputs": [
    {
     "data": {
      "text/plain": [
       "{'mentor': {'first': 'sudanshu', 'second': 'krish'}}"
      ]
     },
     "execution_count": 129,
     "metadata": {},
     "output_type": "execute_result"
    }
   ],
   "source": [
    "d8"
   ]
  },
  {
   "cell_type": "code",
   "execution_count": 130,
   "id": "0d05deed-b794-44f4-815c-17b0ad12c525",
   "metadata": {},
   "outputs": [
    {
     "data": {
      "text/plain": [
       "{'first': 'sudanshu', 'second': 'krish'}"
      ]
     },
     "execution_count": 130,
     "metadata": {},
     "output_type": "execute_result"
    }
   ],
   "source": [
    "d8.pop('mentor')"
   ]
  },
  {
   "cell_type": "code",
   "execution_count": 136,
   "id": "5e18ca35-905f-466f-abf2-cd0220e9e1a0",
   "metadata": {},
   "outputs": [
    {
     "data": {
      "text/plain": [
       "{(1, 2, 3, 4): 'eliyas'}"
      ]
     },
     "execution_count": 136,
     "metadata": {},
     "output_type": "execute_result"
    }
   ],
   "source": [
    "d6"
   ]
  },
  {
   "cell_type": "code",
   "execution_count": 135,
   "id": "39ed142f-306b-4e06-add2-6553457b0cbb",
   "metadata": {},
   "outputs": [
    {
     "data": {
      "text/plain": [
       "dict_items([((1, 2, 3, 4), 'eliyas')])"
      ]
     },
     "execution_count": 135,
     "metadata": {},
     "output_type": "execute_result"
    }
   ],
   "source": [
    "d6.items()"
   ]
  },
  {
   "cell_type": "code",
   "execution_count": 137,
   "id": "37eadf61-ce27-4937-ac3d-bcd45a4b49c5",
   "metadata": {},
   "outputs": [],
   "source": [
    "def test10(**kwargs):\n",
    "    return kwargs"
   ]
  },
  {
   "cell_type": "code",
   "execution_count": 141,
   "id": "9277e5b1-61c7-4643-89d8-17efee1a79bd",
   "metadata": {},
   "outputs": [
    {
     "data": {
      "text/plain": [
       "{'a': 1, 'b': 2, 'c': 3, 'd': 4}"
      ]
     },
     "execution_count": 141,
     "metadata": {},
     "output_type": "execute_result"
    }
   ],
   "source": [
    "test10(a = 1,b = 2,c = 3,d = 4)"
   ]
  },
  {
   "cell_type": "code",
   "execution_count": 142,
   "id": "4d30da55-870d-429b-97fe-508a624927db",
   "metadata": {},
   "outputs": [],
   "source": [
    "def test11(**elli):\n",
    "    return elli"
   ]
  },
  {
   "cell_type": "code",
   "execution_count": 146,
   "id": "aa12ee78-ac72-46fa-9512-6749b39ab5d3",
   "metadata": {},
   "outputs": [
    {
     "data": {
      "text/plain": [
       "{'a': 2323, 'b': 213}"
      ]
     },
     "execution_count": 146,
     "metadata": {},
     "output_type": "execute_result"
    }
   ],
   "source": [
    "test11(a =2323, b = 213)"
   ]
  },
  {
   "cell_type": "code",
   "execution_count": 17,
   "id": "5b97fc7c-d340-4922-8c14-824040e90ea9",
   "metadata": {},
   "outputs": [],
   "source": [
    "def test12(a):\n",
    "    return a\n",
    "def test13(b):\n",
    "    return b\n",
    "def test14(func):\n",
    "    return func(\"ellis\")"
   ]
  },
  {
   "cell_type": "code",
   "execution_count": 237,
   "id": "6e24f8fd-aa67-4268-b305-46c0e26bc64d",
   "metadata": {},
   "outputs": [
    {
     "data": {
      "text/plain": [
       "'ellis'"
      ]
     },
     "execution_count": 237,
     "metadata": {},
     "output_type": "execute_result"
    }
   ],
   "source": [
    "test14(test12)"
   ]
  },
  {
   "cell_type": "code",
   "execution_count": 158,
   "id": "c3d98fdc-f4a2-47f8-87f5-f6975acdc8b4",
   "metadata": {},
   "outputs": [],
   "source": [
    "def test12(a):\n",
    "    return a\n",
    "def test13(*args):\n",
    "    return \"elli\"\n",
    "def test14(func):\n",
    "    return func(\"elli\")"
   ]
  },
  {
   "cell_type": "code",
   "execution_count": 159,
   "id": "336c9f4c-35b7-4496-b7ae-7c1fe7ba372c",
   "metadata": {},
   "outputs": [
    {
     "data": {
      "text/plain": [
       "'elli'"
      ]
     },
     "execution_count": 159,
     "metadata": {},
     "output_type": "execute_result"
    }
   ],
   "source": [
    "test14(test12)"
   ]
  },
  {
   "cell_type": "code",
   "execution_count": 160,
   "id": "c1e4b8d6-182a-46c9-b7e2-84996c4d5311",
   "metadata": {},
   "outputs": [
    {
     "data": {
      "text/plain": [
       "'elli'"
      ]
     },
     "execution_count": 160,
     "metadata": {},
     "output_type": "execute_result"
    }
   ],
   "source": [
    "test14(test13)"
   ]
  },
  {
   "cell_type": "code",
   "execution_count": 243,
   "id": "26f81a88-6eb2-42b7-ad77-c49448b4bd95",
   "metadata": {},
   "outputs": [],
   "source": [
    "def test15():\n",
    "    print(\"This is my test15\")\n",
    "    \n",
    "    def test16():\n",
    "        print(\"This is my test16\")\n",
    "    def test17():\n",
    "        print(\"This is my test17\")\n",
    "    \n",
    "    "
   ]
  },
  {
   "cell_type": "code",
   "execution_count": 244,
   "id": "74df21fe-58e0-4847-9f5c-175665cb621f",
   "metadata": {},
   "outputs": [
    {
     "name": "stdout",
     "output_type": "stream",
     "text": [
      "This is my test15\n"
     ]
    }
   ],
   "source": [
    "test15()"
   ]
  },
  {
   "cell_type": "code",
   "execution_count": 238,
   "id": "a8b37bbd-2996-42dd-aa2e-51b468546202",
   "metadata": {},
   "outputs": [
    {
     "ename": "NameError",
     "evalue": "name 'test16' is not defined",
     "output_type": "error",
     "traceback": [
      "\u001b[0;31m---------------------------------------------------------------------------\u001b[0m",
      "\u001b[0;31mNameError\u001b[0m                                 Traceback (most recent call last)",
      "Cell \u001b[0;32mIn [238], line 1\u001b[0m\n\u001b[0;32m----> 1\u001b[0m \u001b[43mtest16\u001b[49m()\n",
      "\u001b[0;31mNameError\u001b[0m: name 'test16' is not defined"
     ]
    }
   ],
   "source": [
    "test16()"
   ]
  },
  {
   "cell_type": "code",
   "execution_count": 173,
   "id": "ca22c0b9-a0c7-4520-849a-a9f921f36528",
   "metadata": {},
   "outputs": [
    {
     "ename": "NameError",
     "evalue": "name 'test17' is not defined",
     "output_type": "error",
     "traceback": [
      "\u001b[0;31m---------------------------------------------------------------------------\u001b[0m",
      "\u001b[0;31mNameError\u001b[0m                                 Traceback (most recent call last)",
      "Cell \u001b[0;32mIn [173], line 1\u001b[0m\n\u001b[0;32m----> 1\u001b[0m \u001b[43mtest17\u001b[49m()\n",
      "\u001b[0;31mNameError\u001b[0m: name 'test17' is not defined"
     ]
    }
   ],
   "source": [
    "test17()"
   ]
  },
  {
   "cell_type": "code",
   "execution_count": 174,
   "id": "13e48fd7-09f0-4299-9c6f-533aeb9d393e",
   "metadata": {},
   "outputs": [],
   "source": [
    "def test15(a):\n",
    "    print(\"This is my test15\")\n",
    "    \n",
    "    def test16():\n",
    "        print(\"This is my test16\")\n",
    "    def test17():\n",
    "        print(\"This is my test17\")\n",
    "    if a == \"elli\":\n",
    "        return test16()\n",
    "    if a == \"ch\":\n",
    "        return test17()\n",
    "        "
   ]
  },
  {
   "cell_type": "code",
   "execution_count": 1,
   "id": "47893dac-bf9d-4652-a603-e05d90a85712",
   "metadata": {},
   "outputs": [
    {
     "ename": "NameError",
     "evalue": "name 'test15' is not defined",
     "output_type": "error",
     "traceback": [
      "\u001b[0;31m---------------------------------------------------------------------------\u001b[0m",
      "\u001b[0;31mNameError\u001b[0m                                 Traceback (most recent call last)",
      "Cell \u001b[0;32mIn [1], line 1\u001b[0m\n\u001b[0;32m----> 1\u001b[0m \u001b[43mtest15\u001b[49m(\u001b[38;5;124m\"\u001b[39m\u001b[38;5;124melli\u001b[39m\u001b[38;5;124m\"\u001b[39m)\n",
      "\u001b[0;31mNameError\u001b[0m: name 'test15' is not defined"
     ]
    }
   ],
   "source": [
    "test15(\"elli\")"
   ]
  },
  {
   "cell_type": "code",
   "execution_count": 176,
   "id": "6dd83ab2-6e6c-4fc5-b892-aee0a6c6d0a7",
   "metadata": {},
   "outputs": [
    {
     "name": "stdout",
     "output_type": "stream",
     "text": [
      "This is my test15\n",
      "This is my test17\n"
     ]
    }
   ],
   "source": [
    "test15(\"ch\")"
   ]
  },
  {
   "cell_type": "code",
   "execution_count": 4,
   "id": "69b7b4d9-10eb-4209-ac6d-f8929d98cc5a",
   "metadata": {},
   "outputs": [],
   "source": [
    "def test13(*args):\n",
    "    print (\"this is a return of test13\")"
   ]
  },
  {
   "cell_type": "code",
   "execution_count": 5,
   "id": "b991bba9-51b4-4e66-9b7d-dee754272737",
   "metadata": {},
   "outputs": [],
   "source": [
    "def test18(func):\n",
    "    def test19():\n",
    "        print(\"I am inside test19\")\n",
    "        func()\n",
    "        print(type(func()))\n",
    "    return test19()"
   ]
  },
  {
   "cell_type": "code",
   "execution_count": 6,
   "id": "8cd36970-f070-4228-a116-82cea00d315f",
   "metadata": {},
   "outputs": [
    {
     "name": "stdout",
     "output_type": "stream",
     "text": [
      "I am inside test19\n",
      "this is a return of test13\n",
      "this is a return of test13\n",
      "<class 'NoneType'>\n"
     ]
    }
   ],
   "source": [
    "test18(test13)"
   ]
  },
  {
   "cell_type": "code",
   "execution_count": 7,
   "id": "298b0728-3d8a-4d48-ac55-df3f83a49846",
   "metadata": {},
   "outputs": [
    {
     "ename": "NameError",
     "evalue": "name 'test19' is not defined",
     "output_type": "error",
     "traceback": [
      "\u001b[0;31m---------------------------------------------------------------------------\u001b[0m",
      "\u001b[0;31mNameError\u001b[0m                                 Traceback (most recent call last)",
      "Cell \u001b[0;32mIn [7], line 1\u001b[0m\n\u001b[0;32m----> 1\u001b[0m test18(\u001b[43mtest19\u001b[49m)\n",
      "\u001b[0;31mNameError\u001b[0m: name 'test19' is not defined"
     ]
    }
   ],
   "source": [
    "test18(test19)"
   ]
  },
  {
   "cell_type": "code",
   "execution_count": 8,
   "id": "384caab1-bc2f-4d94-a051-9c6cdcac7368",
   "metadata": {},
   "outputs": [],
   "source": [
    "def test18(func):\n",
    "    def test19():\n",
    "        print(\"I am inside test19\")\n",
    "        func()\n",
    "       \n",
    "    return test19()"
   ]
  },
  {
   "cell_type": "code",
   "execution_count": 9,
   "id": "ec9c9d70-285a-4841-94ef-de9ef47c0ee9",
   "metadata": {},
   "outputs": [
    {
     "name": "stdout",
     "output_type": "stream",
     "text": [
      "I am inside test19\n",
      "this is a return of test13\n"
     ]
    }
   ],
   "source": [
    "test18(test13)"
   ]
  },
  {
   "cell_type": "code",
   "execution_count": 105,
   "id": "e863f957-16d4-466b-abf4-d9c89b93f8cc",
   "metadata": {},
   "outputs": [],
   "source": [
    "import os\n",
    "def test18(func):\n",
    "    def test19():\n",
    "        print(\"I am inside of test19 and act as decorator\")\n",
    "        print(os.getcwd())\n",
    "        func()\n",
    "        \n",
    "    return test19"
   ]
  },
  {
   "cell_type": "code",
   "execution_count": 106,
   "id": "2342b715-cde4-485a-a5a6-d7af57f5ed3a",
   "metadata": {},
   "outputs": [],
   "source": [
    "def test20():\n",
    "    print(\"this is my test20\")"
   ]
  },
  {
   "cell_type": "code",
   "execution_count": 107,
   "id": "652d7074-5478-4bd0-8999-f8c4c8e664c5",
   "metadata": {},
   "outputs": [
    {
     "name": "stdout",
     "output_type": "stream",
     "text": [
      "this is my test20\n"
     ]
    }
   ],
   "source": [
    "test20()"
   ]
  },
  {
   "cell_type": "code",
   "execution_count": 108,
   "id": "3ca7b23a-7ee4-4319-bbe9-518ce83aa732",
   "metadata": {},
   "outputs": [],
   "source": [
    "a = test18(test20)"
   ]
  },
  {
   "cell_type": "code",
   "execution_count": 109,
   "id": "05b7d4b5-4f1c-40c5-bd35-a41ef8b28560",
   "metadata": {},
   "outputs": [],
   "source": [
    "@test18\n",
    "def test20():\n",
    "    print(\"this is my test20\")"
   ]
  },
  {
   "cell_type": "code",
   "execution_count": 110,
   "id": "3e6ac0a3-60a1-4c3c-bacd-5799e5e548e3",
   "metadata": {},
   "outputs": [
    {
     "name": "stdout",
     "output_type": "stream",
     "text": [
      "I am inside of test19 and act as decorator\n",
      "/home/jovyan/work/python\n",
      "this is my test20\n"
     ]
    }
   ],
   "source": [
    "test20()"
   ]
  },
  {
   "cell_type": "code",
   "execution_count": 111,
   "id": "8e7839e7-6377-49f1-9c36-954740afe616",
   "metadata": {},
   "outputs": [],
   "source": [
    "def test20():\n",
    "    print(\"this is my test20\")"
   ]
  },
  {
   "cell_type": "code",
   "execution_count": 112,
   "id": "cc4445b9-8fa7-4820-8ef2-0625bd1ac403",
   "metadata": {},
   "outputs": [
    {
     "name": "stdout",
     "output_type": "stream",
     "text": [
      "this is my test20\n"
     ]
    }
   ],
   "source": [
    "test20()"
   ]
  },
  {
   "cell_type": "code",
   "execution_count": 113,
   "id": "d0cb0c82-b835-44c3-ad89-db3335965a2d",
   "metadata": {},
   "outputs": [
    {
     "data": {
      "text/plain": [
       "'/home/jovyan/work/python'"
      ]
     },
     "execution_count": 113,
     "metadata": {},
     "output_type": "execute_result"
    }
   ],
   "source": [
    "import os\n",
    "os.getcwd()"
   ]
  },
  {
   "cell_type": "code",
   "execution_count": 114,
   "id": "a885f1a5-f764-470b-a7b7-b72423543e88",
   "metadata": {},
   "outputs": [],
   "source": [
    "def test20(func):\n",
    "    def test21():\n",
    "        func()\n",
    "        print(os.getcwd())\n",
    "    return test21"
   ]
  },
  {
   "cell_type": "code",
   "execution_count": 115,
   "id": "866dc4b4-3b55-47ac-9ab0-b966f7b25fa2",
   "metadata": {},
   "outputs": [],
   "source": [
    "@test20\n",
    "def test22():\n",
    "    print(\"This will print inside of test22\")"
   ]
  },
  {
   "cell_type": "code",
   "execution_count": 116,
   "id": "22124088-902a-429b-b99e-275a7c3588ea",
   "metadata": {},
   "outputs": [
    {
     "name": "stdout",
     "output_type": "stream",
     "text": [
      "This will print inside of test22\n",
      "/home/jovyan/work/python\n"
     ]
    }
   ],
   "source": [
    "test22()"
   ]
  },
  {
   "cell_type": "code",
   "execution_count": 117,
   "id": "687e0f6c-bd85-4354-a247-209fb8be22ae",
   "metadata": {},
   "outputs": [],
   "source": [
    "@test18\n",
    "@test20\n",
    "def test22():\n",
    "    print(\"This will print inside of test22\")"
   ]
  },
  {
   "cell_type": "code",
   "execution_count": 118,
   "id": "a0940c14-4ad6-4910-a473-a39adbfeb027",
   "metadata": {},
   "outputs": [
    {
     "name": "stdout",
     "output_type": "stream",
     "text": [
      "I am inside of test19 and act as decorator\n",
      "/home/jovyan/work/python\n",
      "This will print inside of test22\n",
      "/home/jovyan/work/python\n"
     ]
    }
   ],
   "source": [
    "test22()"
   ]
  },
  {
   "cell_type": "code",
   "execution_count": 123,
   "id": "72e475a3-26a1-48f2-87e1-71af4a771849",
   "metadata": {},
   "outputs": [
    {
     "name": "stdout",
     "output_type": "stream",
     "text": [
      "0.026226043701171875\n"
     ]
    }
   ],
   "source": [
    "import time\n",
    "\n",
    "start = time.time()\n",
    "end = time.time()\n",
    "print((end - start)*10**3)"
   ]
  },
  {
   "cell_type": "code",
   "execution_count": 130,
   "id": "db85d74d-9dd3-4e4c-8930-6d9a3e98f827",
   "metadata": {},
   "outputs": [],
   "source": [
    "def tim(func):\n",
    "    def tes():\n",
    "        start = time.time()\n",
    "        func()\n",
    "        end = time.time()\n",
    "        print(f\"time - {(end - start)*10**3}\")\n",
    "        \n",
    "    return tes"
   ]
  },
  {
   "cell_type": "code",
   "execution_count": 141,
   "id": "6fc76a1d-10c7-44cf-a0f1-1b574515ca58",
   "metadata": {},
   "outputs": [],
   "source": [
    "@tim\n",
    "def test22():\n",
    "    for i in range(100000):\n",
    "        if i == 800:\n",
    "            print(\"This will print inside of test22\")"
   ]
  },
  {
   "cell_type": "code",
   "execution_count": 142,
   "id": "7569d498-3930-47bf-ade9-cf90aa877f4b",
   "metadata": {},
   "outputs": [
    {
     "name": "stdout",
     "output_type": "stream",
     "text": [
      "This will print inside of test22\n",
      "time - 5.489826202392578\n"
     ]
    }
   ],
   "source": [
    "test22()"
   ]
  },
  {
   "cell_type": "code",
   "execution_count": 143,
   "id": "0e5513b1-ac07-4df5-96ee-b5e63a736247",
   "metadata": {},
   "outputs": [
    {
     "data": {
      "text/plain": [
       "1681129028.4100635"
      ]
     },
     "execution_count": 143,
     "metadata": {},
     "output_type": "execute_result"
    }
   ],
   "source": [
    "time.time()"
   ]
  },
  {
   "cell_type": "code",
   "execution_count": 170,
   "id": "3c282dbe-14fa-4c84-821a-a2cf65e676f6",
   "metadata": {},
   "outputs": [],
   "source": [
    "def test25(func):\n",
    "    def test26():\n",
    "        print(\"This will give execution time of a function\")\n",
    "        start = time.time()\n",
    "        a = func()\n",
    "        \n",
    "        end = time.time()\n",
    "        print(end - start)\n",
    "    return test26"
   ]
  },
  {
   "cell_type": "code",
   "execution_count": 171,
   "id": "7ac12d06-86eb-44ab-86ae-4c07acfac33e",
   "metadata": {},
   "outputs": [],
   "source": [
    "@test25\n",
    "def test27():\n",
    "    \"\"\"\"this is a function  taking decorator\"\"\"\n",
    "    l = [1, 2, 3, 4, 5]\n",
    "    l1 = []\n",
    "    for i in l:\n",
    "        if type(i) == int:\n",
    "            l1.append(i)\n",
    "    return l1"
   ]
  },
  {
   "cell_type": "code",
   "execution_count": 172,
   "id": "27787791-03a6-4c24-b42d-aa2c6d6c1b39",
   "metadata": {},
   "outputs": [
    {
     "name": "stdout",
     "output_type": "stream",
     "text": [
      "This will give execution time of a function\n",
      "5.0067901611328125e-06\n"
     ]
    }
   ],
   "source": [
    "test27()"
   ]
  },
  {
   "cell_type": "code",
   "execution_count": null,
   "id": "af6138c5-51eb-42dc-8fad-8abd818b01d8",
   "metadata": {},
   "outputs": [],
   "source": []
  }
 ],
 "metadata": {
  "kernelspec": {
   "display_name": "Python 3 (ipykernel)",
   "language": "python",
   "name": "python3"
  },
  "language_info": {
   "codemirror_mode": {
    "name": "ipython",
    "version": 3
   },
   "file_extension": ".py",
   "mimetype": "text/x-python",
   "name": "python",
   "nbconvert_exporter": "python",
   "pygments_lexer": "ipython3",
   "version": "3.10.6"
  }
 },
 "nbformat": 4,
 "nbformat_minor": 5
}
