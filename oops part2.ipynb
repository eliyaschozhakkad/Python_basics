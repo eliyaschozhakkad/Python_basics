{
 "cells": [
  {
   "cell_type": "code",
   "execution_count": 1,
   "id": "cda295a0-5e73-4b96-877f-03c454d03643",
   "metadata": {},
   "outputs": [],
   "source": [
    "class test:\n",
    "    def meth1(self):\n",
    "        return \"this is my first func\""
   ]
  },
  {
   "cell_type": "code",
   "execution_count": 2,
   "id": "e3098951-7cd6-49d5-83e3-a815dbea544a",
   "metadata": {},
   "outputs": [],
   "source": [
    "a = test()"
   ]
  },
  {
   "cell_type": "code",
   "execution_count": 3,
   "id": "dc1fc5a3-828b-4904-9a39-a5d0307ab802",
   "metadata": {},
   "outputs": [
    {
     "data": {
      "text/plain": [
       "'this is my first func'"
      ]
     },
     "execution_count": 3,
     "metadata": {},
     "output_type": "execute_result"
    }
   ],
   "source": [
    "a.meth1()"
   ]
  },
  {
   "cell_type": "code",
   "execution_count": 7,
   "id": "5674162d-c5d1-4ef2-af0c-62c54270edf0",
   "metadata": {},
   "outputs": [
    {
     "data": {
      "text/plain": [
       "'this is my first func'"
      ]
     },
     "execution_count": 7,
     "metadata": {},
     "output_type": "execute_result"
    }
   ],
   "source": [
    "test.meth1(test)"
   ]
  },
  {
   "cell_type": "code",
   "execution_count": 27,
   "id": "720c1076-ae80-479d-ba57-9549ace27b1a",
   "metadata": {},
   "outputs": [],
   "source": [
    "#accessing methods without object creation--->annotate with static method\n",
    "class test1:\n",
    "    @staticmethod\n",
    "    def meth1():\n",
    "        return \"this is a method you can access without creating an object\"\n",
    "    \n",
    "    def meth2(self):\n",
    "        return \"this is a method without static\"\n",
    "    "
   ]
  },
  {
   "cell_type": "code",
   "execution_count": 28,
   "id": "34416e6b-d6d0-499c-9d09-44d293671f4a",
   "metadata": {},
   "outputs": [],
   "source": [
    "b = test1()"
   ]
  },
  {
   "cell_type": "code",
   "execution_count": 29,
   "id": "df6b0e6b-7b13-44fd-96fa-ac64c5b05c25",
   "metadata": {},
   "outputs": [
    {
     "data": {
      "text/plain": [
       "'this is a method you can access without creating an object'"
      ]
     },
     "execution_count": 29,
     "metadata": {},
     "output_type": "execute_result"
    }
   ],
   "source": [
    "b.meth1()"
   ]
  },
  {
   "cell_type": "code",
   "execution_count": 30,
   "id": "76a84889-d7bc-401f-862d-7052f829ccaa",
   "metadata": {},
   "outputs": [
    {
     "data": {
      "text/plain": [
       "'this is a method you can access without creating an object'"
      ]
     },
     "execution_count": 30,
     "metadata": {},
     "output_type": "execute_result"
    }
   ],
   "source": [
    "test1.meth1()"
   ]
  },
  {
   "cell_type": "code",
   "execution_count": 31,
   "id": "9af96a92-72f4-4ce6-868d-f8e46ba3fc70",
   "metadata": {},
   "outputs": [
    {
     "data": {
      "text/plain": [
       "'this is a method without static'"
      ]
     },
     "execution_count": 31,
     "metadata": {},
     "output_type": "execute_result"
    }
   ],
   "source": [
    "b.meth2()"
   ]
  },
  {
   "cell_type": "code",
   "execution_count": 32,
   "id": "8fe31e6d-5702-4d5f-8660-ede389bb6654",
   "metadata": {},
   "outputs": [],
   "source": [
    "#utlility class\n",
    "\n",
    "class test2:\n",
    "    \n",
    "    def __init__(self, a, b, c):\n",
    "        self.a = a\n",
    "        self.b = b\n",
    "        self.c = c\n",
    "    \n",
    "    def meth1(self):\n",
    "        return \"this is my meth1\"\n",
    "    \n",
    "    def meth2(self,n):\n",
    "        return n\n",
    "    \n",
    "    def meth3(self,m):\n",
    "        return m"
   ]
  },
  {
   "cell_type": "code",
   "execution_count": 33,
   "id": "a99e821e-2699-4b89-84da-fb5724128d6a",
   "metadata": {},
   "outputs": [],
   "source": [
    "a_test2 = test2(\"eliyas\",23,\"ch\")\n",
    "b_test2 = test2(\"qwe\",12,\"fd\")"
   ]
  },
  {
   "cell_type": "code",
   "execution_count": 8,
   "id": "69edaba7-b374-45d9-b155-19a276768460",
   "metadata": {},
   "outputs": [],
   "source": [
    "class parent1:\n",
    "    \n",
    "    def parent_meth1(self):\n",
    "        return \"this is a parent 1 method\"\n",
    "\n",
    "class parent2:\n",
    "    \n",
    "    def parent_meth2(self):\n",
    "        return \"this is a parent 2 method\"\n",
    "\n",
    "class parent3:\n",
    "    \n",
    "    def parent_meth3(self):\n",
    "        return \"this is a parent 3 method\"\n",
    "\n",
    "class child(parent1,parent2,parent3):\n",
    "    \n",
    "    def child_meth(self):\n",
    "        return \"this is a child method\"\n",
    "\n",
    "\n",
    "\n",
    "    "
   ]
  },
  {
   "cell_type": "code",
   "execution_count": 9,
   "id": "7b651031-3d37-4f35-b00e-a7c934a8355b",
   "metadata": {},
   "outputs": [],
   "source": [
    "var_child = child()"
   ]
  },
  {
   "cell_type": "code",
   "execution_count": 10,
   "id": "3a274bec-bd82-430e-ad2a-ef0c348f1c61",
   "metadata": {},
   "outputs": [
    {
     "data": {
      "text/plain": [
       "'this is a parent 1 method'"
      ]
     },
     "execution_count": 10,
     "metadata": {},
     "output_type": "execute_result"
    }
   ],
   "source": [
    "var_child.parent_meth1()"
   ]
  },
  {
   "cell_type": "code",
   "execution_count": 11,
   "id": "a2f4678a-abd5-4fe9-ab8d-39a6b72ccde4",
   "metadata": {},
   "outputs": [
    {
     "data": {
      "text/plain": [
       "'this is a parent 2 method'"
      ]
     },
     "execution_count": 11,
     "metadata": {},
     "output_type": "execute_result"
    }
   ],
   "source": [
    "var_child.parent_meth2()"
   ]
  },
  {
   "cell_type": "code",
   "execution_count": 12,
   "id": "6bbaa145-87cc-4cb5-b86b-49f11af4fe14",
   "metadata": {},
   "outputs": [
    {
     "data": {
      "text/plain": [
       "'this is a parent 3 method'"
      ]
     },
     "execution_count": 12,
     "metadata": {},
     "output_type": "execute_result"
    }
   ],
   "source": [
    "var_child.parent_meth3()"
   ]
  },
  {
   "cell_type": "code",
   "execution_count": 13,
   "id": "99f797b0-e160-4e37-a355-ad6bf5f22aa2",
   "metadata": {},
   "outputs": [],
   "source": [
    "#Multilevel inheritance"
   ]
  },
  {
   "cell_type": "code",
   "execution_count": 14,
   "id": "dac1e576-0e68-43da-b2e5-49ab017ae607",
   "metadata": {},
   "outputs": [],
   "source": [
    "class class1:\n",
    "    \n",
    "    def class1_meth(self):\n",
    "        return \"This is class1 method\"\n",
    "\n",
    "class class2(class1):\n",
    "    pass\n",
    "\n",
    "class class3(class2):\n",
    "    \n",
    "    def class3_meth(self):\n",
    "        return \"This is class3 method\""
   ]
  },
  {
   "cell_type": "code",
   "execution_count": 15,
   "id": "88cd40ea-6099-4b20-b38f-66776a2cb0a0",
   "metadata": {},
   "outputs": [],
   "source": [
    "var_class3 = class3()"
   ]
  },
  {
   "cell_type": "code",
   "execution_count": 16,
   "id": "96a0f2f0-3252-4d9c-9197-e3911c9d3189",
   "metadata": {},
   "outputs": [
    {
     "data": {
      "text/plain": [
       "'This is class1 method'"
      ]
     },
     "execution_count": 16,
     "metadata": {},
     "output_type": "execute_result"
    }
   ],
   "source": [
    "var_class3.class1_meth()"
   ]
  },
  {
   "cell_type": "code",
   "execution_count": 17,
   "id": "d7a18f9d-6da6-4d72-9392-e0d366f6a475",
   "metadata": {},
   "outputs": [],
   "source": [
    "#Method overriding"
   ]
  },
  {
   "cell_type": "code",
   "execution_count": 29,
   "id": "9767ab28-5d3c-41bb-b9cb-e81989971ce6",
   "metadata": {},
   "outputs": [],
   "source": [
    "class parent1:\n",
    "    \n",
    "    def test(self):\n",
    "        return \"test meth from parent1\"\n",
    "\n",
    "class parent2:\n",
    "    \n",
    "    def test(self):\n",
    "        return \"test meth from parent2\"\n",
    "\n",
    "class child(parent1):\n",
    "    \n",
    "    def test(self):\n",
    "        return \"test meth from child\""
   ]
  },
  {
   "cell_type": "code",
   "execution_count": 30,
   "id": "a2223c77-6a5c-4c09-b232-b0cba202769f",
   "metadata": {},
   "outputs": [],
   "source": [
    "var_child = child()"
   ]
  },
  {
   "cell_type": "code",
   "execution_count": 31,
   "id": "c6d3a3d4-9716-4de5-a207-54c020db44f3",
   "metadata": {},
   "outputs": [
    {
     "data": {
      "text/plain": [
       "'test meth from child'"
      ]
     },
     "execution_count": 31,
     "metadata": {},
     "output_type": "execute_result"
    }
   ],
   "source": [
    "var_child.test()"
   ]
  },
  {
   "cell_type": "code",
   "execution_count": 32,
   "id": "f79fd1e0-1ac8-4025-9a52-95fe6a7d7d07",
   "metadata": {},
   "outputs": [],
   "source": [
    "#Method overloading"
   ]
  },
  {
   "cell_type": "code",
   "execution_count": 33,
   "id": "3020ba75-2f20-4288-b5ff-676bc3b74597",
   "metadata": {},
   "outputs": [],
   "source": [
    "class test2:\n",
    "    \n",
    "    def test(self,a = 5,b =6 , c = 7):\n",
    "        return a,b,c"
   ]
  },
  {
   "cell_type": "code",
   "execution_count": 34,
   "id": "e1ca5629-bf23-47e4-bb25-56423c26fde1",
   "metadata": {},
   "outputs": [],
   "source": [
    "var_test2 = test2()"
   ]
  },
  {
   "cell_type": "code",
   "execution_count": 35,
   "id": "f50ed9c9-b685-4d1d-af12-88f0ac7d98c0",
   "metadata": {},
   "outputs": [
    {
     "data": {
      "text/plain": [
       "(5, 6, 7)"
      ]
     },
     "execution_count": 35,
     "metadata": {},
     "output_type": "execute_result"
    }
   ],
   "source": [
    "var_test2.test()"
   ]
  },
  {
   "cell_type": "code",
   "execution_count": 36,
   "id": "2df78f69-cfe0-4131-b793-766eb81c8e4e",
   "metadata": {},
   "outputs": [
    {
     "data": {
      "text/plain": [
       "('eliyas', 6, 7)"
      ]
     },
     "execution_count": 36,
     "metadata": {},
     "output_type": "execute_result"
    }
   ],
   "source": [
    "var_test2.test(\"eliyas\")"
   ]
  },
  {
   "cell_type": "code",
   "execution_count": 37,
   "id": "29087f7e-2f66-494b-8441-49d3d9b21780",
   "metadata": {},
   "outputs": [
    {
     "data": {
      "text/plain": [
       "('eliyas', 'ch', 7)"
      ]
     },
     "execution_count": 37,
     "metadata": {},
     "output_type": "execute_result"
    }
   ],
   "source": [
    "var_test2.test(\"eliyas\",\"ch\")"
   ]
  },
  {
   "cell_type": "code",
   "execution_count": 1,
   "id": "f9ae5f7f-7111-44ed-8b91-4b9f09473079",
   "metadata": {},
   "outputs": [],
   "source": [
    "#method overloading is a situation where number of argument and data type will be different\n",
    "#method overriding is a situation where signature of the function means name and parameter will be same,we will just change the definition of function"
   ]
  },
  {
   "cell_type": "code",
   "execution_count": 2,
   "id": "527ac01c-ffe6-4b12-9203-e8a7c5252a6a",
   "metadata": {},
   "outputs": [],
   "source": [
    "#polymorphism"
   ]
  },
  {
   "cell_type": "code",
   "execution_count": 3,
   "id": "14b80807-d5f5-455e-86c1-ddac7f22195d",
   "metadata": {},
   "outputs": [],
   "source": [
    "def test(a, b):\n",
    "    return a+b"
   ]
  },
  {
   "cell_type": "code",
   "execution_count": 4,
   "id": "5c29a4cd-3862-4642-bf53-58886b383840",
   "metadata": {},
   "outputs": [
    {
     "data": {
      "text/plain": [
       "7"
      ]
     },
     "execution_count": 4,
     "metadata": {},
     "output_type": "execute_result"
    }
   ],
   "source": [
    "test(3,4)"
   ]
  },
  {
   "cell_type": "code",
   "execution_count": 5,
   "id": "a7689b19-1b36-48b7-ac6f-7d35bb6ec4f8",
   "metadata": {},
   "outputs": [
    {
     "data": {
      "text/plain": [
       "'eliyas ch'"
      ]
     },
     "execution_count": 5,
     "metadata": {},
     "output_type": "execute_result"
    }
   ],
   "source": [
    "test(\"eliyas \", \"ch\")"
   ]
  },
  {
   "cell_type": "code",
   "execution_count": 6,
   "id": "06521b64-661c-43ec-b24d-f5e86af167c6",
   "metadata": {},
   "outputs": [],
   "source": [
    "class test1:\n",
    "    \n",
    "    def test(self):\n",
    "        return \"this meth is from test1\"\n",
    "    \n",
    "class test2:\n",
    "    \n",
    "    def test(self):\n",
    "        return \"this meth is from test2\"\n",
    "    \n",
    "class test3:\n",
    "    \n",
    "    def test(self):\n",
    "        return \"this meth is from test3\""
   ]
  },
  {
   "cell_type": "code",
   "execution_count": 10,
   "id": "6bf8afb3-1cb6-4086-bb8d-2d2de771ad4c",
   "metadata": {},
   "outputs": [],
   "source": [
    "var_class = [test1(), test2(), test3()]"
   ]
  },
  {
   "cell_type": "code",
   "execution_count": 11,
   "id": "9b3491fc-0912-4722-9f9f-8ea3e9e5c88a",
   "metadata": {},
   "outputs": [
    {
     "name": "stdout",
     "output_type": "stream",
     "text": [
      "this meth is from test1\n",
      "this meth is from test2\n",
      "this meth is from test3\n"
     ]
    }
   ],
   "source": [
    "for i in var_class:\n",
    "    print(i.test())"
   ]
  },
  {
   "cell_type": "code",
   "execution_count": 12,
   "id": "002ff52b-7e2d-4c93-852e-657d93370de8",
   "metadata": {},
   "outputs": [],
   "source": [
    "#q1: create a file class for reading data from one of the file with a method name read and write\n",
    "#use logging and exception handling"
   ]
  },
  {
   "cell_type": "code",
   "execution_count": 5,
   "id": "51cbac16-650f-4de1-8d1b-aca1a2a4f8e9",
   "metadata": {},
   "outputs": [],
   "source": [
    "  \n",
    "def read():\n",
    "        \n",
    "    try:\n",
    "        with open('test.txt','r') as file:\n",
    "            data = file.read()\n",
    "            return data\n",
    "    except FileNotFoundError as e:\n",
    "        print(e)\n"
   ]
  },
  {
   "cell_type": "code",
   "execution_count": 6,
   "id": "4aaa9753-5916-4436-ac09-00e02942659f",
   "metadata": {},
   "outputs": [
    {
     "name": "stdout",
     "output_type": "stream",
     "text": [
      "[Errno 2] No such file or directory: 'test.txt'\n"
     ]
    }
   ],
   "source": [
    "read()"
   ]
  },
  {
   "cell_type": "code",
   "execution_count": 7,
   "id": "6db1170b-b98f-42e6-966a-3c8e915aaf6e",
   "metadata": {},
   "outputs": [],
   "source": [
    "def write():\n",
    "    with open('test.txt','w') as file:\n",
    "        data = file.write(\"This is my data\")"
   ]
  },
  {
   "cell_type": "code",
   "execution_count": 8,
   "id": "26fe739b-7628-49e4-92a0-3b8cf4fcb494",
   "metadata": {},
   "outputs": [],
   "source": [
    "write()"
   ]
  },
  {
   "cell_type": "code",
   "execution_count": 26,
   "id": "cf87432d-eece-4162-bb3c-4737e736269d",
   "metadata": {},
   "outputs": [],
   "source": [
    "class File:\n",
    "    \n",
    "    def read(self):\n",
    "        \n",
    "        try:\n",
    "            with open('test.txt','r') as file:\n",
    "                data = file.read()\n",
    "                return data\n",
    "        except FileNotFoundError as e:\n",
    "            print(e)\n",
    "    \n",
    "    def write(self,data1):\n",
    "        try:\n",
    "            with open('test.txt','a') as file:\n",
    "                data = file.write(data1)\n",
    "        except Exception as e:\n",
    "            print(e)\n",
    "    \n",
    "    \n",
    "    \n",
    "    "
   ]
  },
  {
   "cell_type": "code",
   "execution_count": 27,
   "id": "acaa8e85-647e-4d62-af10-9db332bb3dcb",
   "metadata": {},
   "outputs": [],
   "source": [
    "file_obj = File()"
   ]
  },
  {
   "cell_type": "code",
   "execution_count": 28,
   "id": "4ffef3ab-7f36-43df-88af-5d89f6519d07",
   "metadata": {},
   "outputs": [
    {
     "data": {
      "text/plain": [
       "'HEY THIS IS NEW DATA'"
      ]
     },
     "execution_count": 28,
     "metadata": {},
     "output_type": "execute_result"
    }
   ],
   "source": [
    "file_obj.read()"
   ]
  },
  {
   "cell_type": "code",
   "execution_count": 29,
   "id": "8ecdd602-e931-4e66-b14b-22ce8137af22",
   "metadata": {},
   "outputs": [],
   "source": [
    "file_obj.write(\"HEY THIS IS NEW DATA\")"
   ]
  },
  {
   "cell_type": "code",
   "execution_count": 12,
   "id": "fd5a3d3d-e0ee-489c-8da9-49e788b1e0a5",
   "metadata": {},
   "outputs": [],
   "source": [
    "import logging\n",
    "logging.basicConfig(filename=\"File_class.log\", level = logging.DEBUG, filemode = \"w\", format = \"%(asctime)s %(levelname)s %(message)s\" )\n",
    "\n",
    "class File:\n",
    "    \n",
    "    def __init__(self, filename):\n",
    "        self.filename = filename\n",
    "    \n",
    "    def read(self):\n",
    "         \n",
    "        logging.info(\"This is start of read operation\")\n",
    "        try:\n",
    "            logging.info(\"I am inside of try block of read method\")\n",
    "            with open(self.filename,'r') as file:\n",
    "                data = file.read()\n",
    "                logging.info(\"I am able to read the file\")\n",
    "                return data\n",
    "        except FileNotFoundError as e:\n",
    "            #print(e)\n",
    "            logging.error(\"There is some issue with the file read operation\")\n",
    "            logging.error(e)\n",
    "    \n",
    "    def write(self,data1):\n",
    "        try:\n",
    "            logging.info(\"I am inside try block to write data\")\n",
    "            with open(self.filename,'a') as file:\n",
    "                data = file.write(data1)\n",
    "                logging.info(\"I am able to write the data\")\n",
    "        except Exception as e:\n",
    "            #print(e)\n",
    "            logging.error(\"THere is some issue in writing the file\")\n",
    "            logging.error(e)\n",
    "            \n",
    "    \n",
    "    \n",
    "    \n",
    "    "
   ]
  },
  {
   "cell_type": "code",
   "execution_count": 13,
   "id": "5d324db7-7f6f-4492-b20e-6ffcdf42863c",
   "metadata": {},
   "outputs": [],
   "source": [
    "file_obj = File(\"new.txt\")"
   ]
  },
  {
   "cell_type": "code",
   "execution_count": 14,
   "id": "b3feac55-7fb6-4709-89aa-54e248c1d47c",
   "metadata": {},
   "outputs": [
    {
     "data": {
      "text/plain": [
       "'logging is also addedlogging is also addedlogging is also added'"
      ]
     },
     "execution_count": 14,
     "metadata": {},
     "output_type": "execute_result"
    }
   ],
   "source": [
    "file_obj.read()"
   ]
  },
  {
   "cell_type": "code",
   "execution_count": 15,
   "id": "38403305-bb09-4bb5-8ab4-44519f275892",
   "metadata": {},
   "outputs": [],
   "source": [
    "file_obj.write(\"logging is also added\")"
   ]
  },
  {
   "cell_type": "code",
   "execution_count": null,
   "id": "c7e2bfca-4672-483e-90df-c550d9acab4b",
   "metadata": {},
   "outputs": [],
   "source": []
  }
 ],
 "metadata": {
  "kernelspec": {
   "display_name": "Python 3 (ipykernel)",
   "language": "python",
   "name": "python3"
  },
  "language_info": {
   "codemirror_mode": {
    "name": "ipython",
    "version": 3
   },
   "file_extension": ".py",
   "mimetype": "text/x-python",
   "name": "python",
   "nbconvert_exporter": "python",
   "pygments_lexer": "ipython3",
   "version": "3.10.6"
  }
 },
 "nbformat": 4,
 "nbformat_minor": 5
}
