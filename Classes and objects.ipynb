{
 "cells": [
  {
   "cell_type": "markdown",
   "id": "9b58b51e-dcd1-460f-b0da-cfb79cb4626a",
   "metadata": {},
   "source": [
    "# Custom logger"
   ]
  },
  {
   "cell_type": "code",
   "execution_count": 2,
   "id": "246b267f-915f-4e2c-8dec-e679b695ae70",
   "metadata": {},
   "outputs": [
    {
     "name": "stderr",
     "output_type": "stream",
     "text": [
      "__main__ - WARNING - This is a warning\n",
      "__main__ - ERROR - This is a error\n"
     ]
    }
   ],
   "source": [
    "import logging\n",
    "\n",
    "#create a custom Logger\n",
    "\n",
    "logger = logging.getLogger(__name__)\n",
    "\n",
    "#Create handlers\n",
    "\n",
    "c_handler = logging.StreamHandler()\n",
    "f_handler = logging.FileHandler('abc.log')\n",
    "c_handler.setLevel(logging.WARNING)\n",
    "f_handler.setLevel(logging.ERROR)\n",
    "\n",
    "#Create formatters and add it to handler\n",
    "\n",
    "c_format = logging.Formatter('%(name)s - %(levelname)s - %(message)s')\n",
    "f_format = logging.Formatter('%(asctime)s - %(name)s - %(levelname)s - %(message)s')\n",
    "c_handler.setFormatter(c_format)\n",
    "f_handler.setFormatter(f_format)\n",
    "\n",
    "#Add Handler to the logger\n",
    "\n",
    "logger.addHandler(c_handler)\n",
    "logger.addHandler(f_handler)\n",
    "\n",
    "logger.warning('This is a warning')\n",
    "logger.error('This is a error')"
   ]
  },
  {
   "cell_type": "code",
   "execution_count": 3,
   "id": "657a7790-f1dc-4744-8c58-29c5bfceea79",
   "metadata": {},
   "outputs": [
    {
     "name": "stderr",
     "output_type": "stream",
     "text": [
      "2023-04-23 01:12:27,326 - __main__ - INFO - Dividing 7 by 0\n",
      "2023-04-23 01:12:27,327 - __main__ - INFO - Zero Division Error\n"
     ]
    },
    {
     "name": "stdout",
     "output_type": "stream",
     "text": [
      "None\n"
     ]
    }
   ],
   "source": [
    "import logging\n",
    "\n",
    "logger = logging.getLogger(__name__)\n",
    "logger.setLevel(logging.DEBUG)\n",
    "\n",
    "handler = logging.StreamHandler()\n",
    "\n",
    "\n",
    "formatter = logging.Formatter('%(asctime)s - %(name)s - %(levelname)s - %(message)s')\n",
    "handler.setFormatter(formatter)\n",
    "\n",
    "logger.addHandler(handler)\n",
    "\n",
    "def divide(dividend, divisor):\n",
    "    try:\n",
    "        logger.info(f'Dividing {dividend} by {divisor}')\n",
    "        return dividend/divisor\n",
    "    except ZeroDivisionError:\n",
    "        logger.info('Zero Division Error')\n",
    "        \n",
    "print(divide(7,0))\n"
   ]
  },
  {
   "cell_type": "markdown",
   "id": "fd067200-9529-4a97-9740-bc61deebe600",
   "metadata": {},
   "source": [
    "# Classes and objects"
   ]
  },
  {
   "cell_type": "code",
   "execution_count": 4,
   "id": "c026daaf-667b-4938-957f-fad774f80793",
   "metadata": {},
   "outputs": [],
   "source": [
    "#class - is a blueprint or code template for object creation\n",
    "#object - object is instance of class"
   ]
  },
  {
   "cell_type": "code",
   "execution_count": 5,
   "id": "3bb845e7-cc2b-42de-a4d0-1dc6ac1191e0",
   "metadata": {},
   "outputs": [],
   "source": [
    "#properties of object ----> attributes, instance variables\n",
    "#functionality of object ---> methods/function()\n"
   ]
  },
  {
   "cell_type": "code",
   "execution_count": 6,
   "id": "429e39de-ec53-4bc9-adc3-532ee7ad28b8",
   "metadata": {},
   "outputs": [],
   "source": [
    "class Emp:\n",
    "    pass"
   ]
  },
  {
   "cell_type": "code",
   "execution_count": 7,
   "id": "9669c4c0-b1dd-476c-a269-9d78876ea0e5",
   "metadata": {},
   "outputs": [],
   "source": [
    "e = Emp()"
   ]
  },
  {
   "cell_type": "code",
   "execution_count": 8,
   "id": "be466e05-52df-444f-8646-cd65a896756c",
   "metadata": {},
   "outputs": [
    {
     "name": "stdout",
     "output_type": "stream",
     "text": [
      "<class '__main__.Emp'>\n"
     ]
    }
   ],
   "source": [
    "print(type(e))"
   ]
  },
  {
   "cell_type": "code",
   "execution_count": 9,
   "id": "423466e8-231b-45aa-9fbe-9e74eeafc582",
   "metadata": {},
   "outputs": [
    {
     "data": {
      "text/plain": [
       "140397076823968"
      ]
     },
     "execution_count": 9,
     "metadata": {},
     "output_type": "execute_result"
    }
   ],
   "source": [
    "id(e)"
   ]
  },
  {
   "cell_type": "code",
   "execution_count": 10,
   "id": "70e52ee2-5e63-46d5-a3ca-746168ead092",
   "metadata": {},
   "outputs": [],
   "source": [
    "class Robot:\n",
    "    \n",
    "    def introduce_self(self):\n",
    "        print(f\"My name is {self.name}\") "
   ]
  },
  {
   "cell_type": "code",
   "execution_count": 11,
   "id": "fa7fa1cc-0506-4ec9-81cb-2848747f7e7d",
   "metadata": {},
   "outputs": [],
   "source": [
    "r1 = Robot()"
   ]
  },
  {
   "cell_type": "code",
   "execution_count": 12,
   "id": "ac4511ba-76a6-424c-91cf-211772a7fb76",
   "metadata": {},
   "outputs": [],
   "source": [
    "r1.name = \"eliyas\""
   ]
  },
  {
   "cell_type": "code",
   "execution_count": 13,
   "id": "265c896e-74db-401b-a826-0037be5e42fe",
   "metadata": {},
   "outputs": [
    {
     "name": "stdout",
     "output_type": "stream",
     "text": [
      "My name is eliyas\n"
     ]
    }
   ],
   "source": [
    "r1.introduce_self()"
   ]
  },
  {
   "cell_type": "code",
   "execution_count": 14,
   "id": "e2d9157f-ed11-4d82-872b-b41b36f499dc",
   "metadata": {},
   "outputs": [],
   "source": [
    "r2 = Robot()"
   ]
  },
  {
   "cell_type": "code",
   "execution_count": 15,
   "id": "7a27add7-04c5-47a0-8cef-c998498bce6b",
   "metadata": {},
   "outputs": [],
   "source": [
    "r2.name = 'xyz'"
   ]
  },
  {
   "cell_type": "code",
   "execution_count": 16,
   "id": "261a7d1e-c400-4e8a-b1ac-8b3aa6d86b77",
   "metadata": {},
   "outputs": [
    {
     "name": "stdout",
     "output_type": "stream",
     "text": [
      "My name is xyz\n"
     ]
    }
   ],
   "source": [
    "r2.introduce_self()"
   ]
  },
  {
   "cell_type": "code",
   "execution_count": 17,
   "id": "8db2908a-91d5-46c5-8062-a9a536f77d3a",
   "metadata": {},
   "outputs": [
    {
     "data": {
      "text/plain": [
       "['__class__',\n",
       " '__delattr__',\n",
       " '__dict__',\n",
       " '__dir__',\n",
       " '__doc__',\n",
       " '__eq__',\n",
       " '__format__',\n",
       " '__ge__',\n",
       " '__getattribute__',\n",
       " '__gt__',\n",
       " '__hash__',\n",
       " '__init__',\n",
       " '__init_subclass__',\n",
       " '__le__',\n",
       " '__lt__',\n",
       " '__module__',\n",
       " '__ne__',\n",
       " '__new__',\n",
       " '__reduce__',\n",
       " '__reduce_ex__',\n",
       " '__repr__',\n",
       " '__setattr__',\n",
       " '__sizeof__',\n",
       " '__str__',\n",
       " '__subclasshook__',\n",
       " '__weakref__',\n",
       " 'introduce_self',\n",
       " 'name']"
      ]
     },
     "execution_count": 17,
     "metadata": {},
     "output_type": "execute_result"
    }
   ],
   "source": [
    "dir(r1)"
   ]
  },
  {
   "cell_type": "code",
   "execution_count": 18,
   "id": "3e8a47a5-d4bd-4e94-8984-70f32827da46",
   "metadata": {},
   "outputs": [],
   "source": [
    "class Robot:\n",
    "    \n",
    "    def __init__(self, name, color, weight):\n",
    "        self.name = name\n",
    "        self.color = color\n",
    "        self.weight = weight\n",
    "    def introduce_self(self):\n",
    "        print(f\"My name is {self.name}\")"
   ]
  },
  {
   "cell_type": "code",
   "execution_count": 19,
   "id": "a31229cd-8968-4ae6-8128-98d87eab9935",
   "metadata": {},
   "outputs": [],
   "source": [
    "r1 = Robot(\"abc\", \"red\", 30)"
   ]
  },
  {
   "cell_type": "code",
   "execution_count": 20,
   "id": "d0d2b134-80c8-4292-9789-aeca05845cdc",
   "metadata": {},
   "outputs": [
    {
     "data": {
      "text/plain": [
       "'abc'"
      ]
     },
     "execution_count": 20,
     "metadata": {},
     "output_type": "execute_result"
    }
   ],
   "source": [
    "r1.name"
   ]
  },
  {
   "cell_type": "code",
   "execution_count": 21,
   "id": "37841044-80a0-4c7f-b596-1016318500a3",
   "metadata": {},
   "outputs": [
    {
     "data": {
      "text/plain": [
       "'red'"
      ]
     },
     "execution_count": 21,
     "metadata": {},
     "output_type": "execute_result"
    }
   ],
   "source": [
    "r1.color"
   ]
  },
  {
   "cell_type": "code",
   "execution_count": 22,
   "id": "c97abbf4-cf87-4312-bfb9-ccbee197dd7f",
   "metadata": {},
   "outputs": [
    {
     "data": {
      "text/plain": [
       "30"
      ]
     },
     "execution_count": 22,
     "metadata": {},
     "output_type": "execute_result"
    }
   ],
   "source": [
    "r1.weight"
   ]
  },
  {
   "cell_type": "code",
   "execution_count": 23,
   "id": "22a61bf5-437e-49d8-ad5d-8279427dfbc9",
   "metadata": {},
   "outputs": [
    {
     "name": "stdout",
     "output_type": "stream",
     "text": [
      "My name is abc\n"
     ]
    }
   ],
   "source": [
    "r1.introduce_self()"
   ]
  },
  {
   "cell_type": "code",
   "execution_count": 24,
   "id": "f03f3e12-5724-4284-89b3-5c8da5199ab4",
   "metadata": {},
   "outputs": [],
   "source": [
    "r2 = Robot(\"xyz\", \"blue\", 40)"
   ]
  },
  {
   "cell_type": "code",
   "execution_count": 25,
   "id": "e9deb51a-d97f-4a50-8536-238e6ef07b4a",
   "metadata": {},
   "outputs": [],
   "source": [
    "class Person:\n",
    "    \n",
    "    def __init__(self, name, gender, profession):\n",
    "        self.name = name\n",
    "        self.gender = gender\n",
    "        self.profession = profession\n",
    "    def show(self):\n",
    "        print(f\"Name {self.name} Gender {self.gender} Profession {self.profession}\")\n",
    "    def work(self):\n",
    "        print(f\"{self.name} working as a {self.profession}\")"
   ]
  },
  {
   "cell_type": "code",
   "execution_count": 26,
   "id": "425cc293-d687-48eb-b729-c668eb55e7cc",
   "metadata": {},
   "outputs": [],
   "source": [
    "p1 = Person(\"Eliyas\",\"male\", \"Engineer\")"
   ]
  },
  {
   "cell_type": "code",
   "execution_count": 27,
   "id": "2e4c24a3-33a1-4a97-8cda-8a1412566d96",
   "metadata": {},
   "outputs": [
    {
     "data": {
      "text/plain": [
       "'Eliyas'"
      ]
     },
     "execution_count": 27,
     "metadata": {},
     "output_type": "execute_result"
    }
   ],
   "source": [
    "p1.name"
   ]
  },
  {
   "cell_type": "code",
   "execution_count": 28,
   "id": "5171093c-58f1-4f50-9b11-7ab92910ffe6",
   "metadata": {},
   "outputs": [
    {
     "data": {
      "text/plain": [
       "'male'"
      ]
     },
     "execution_count": 28,
     "metadata": {},
     "output_type": "execute_result"
    }
   ],
   "source": [
    "p1.gender"
   ]
  },
  {
   "cell_type": "code",
   "execution_count": 29,
   "id": "f50d9de4-c72a-4355-bd3c-7e4c8fa9e9de",
   "metadata": {},
   "outputs": [
    {
     "data": {
      "text/plain": [
       "'Engineer'"
      ]
     },
     "execution_count": 29,
     "metadata": {},
     "output_type": "execute_result"
    }
   ],
   "source": [
    "p1.profession"
   ]
  },
  {
   "cell_type": "code",
   "execution_count": 30,
   "id": "bc328326-e282-43d4-b7ca-89a4eb3ee857",
   "metadata": {},
   "outputs": [
    {
     "name": "stdout",
     "output_type": "stream",
     "text": [
      "Name Eliyas Gender male Profession Engineer\n"
     ]
    }
   ],
   "source": [
    "p1.show()"
   ]
  },
  {
   "cell_type": "code",
   "execution_count": 31,
   "id": "ebfb56d6-509e-4f57-8854-a5f1be198ba0",
   "metadata": {},
   "outputs": [
    {
     "name": "stdout",
     "output_type": "stream",
     "text": [
      "Eliyas working as a Engineer\n"
     ]
    }
   ],
   "source": [
    "p1.work()"
   ]
  },
  {
   "cell_type": "code",
   "execution_count": 32,
   "id": "a9eb2854-5e57-4875-ae3f-392af34d7eec",
   "metadata": {},
   "outputs": [],
   "source": [
    "p2 = Person(\"Nuh\",\"male\", \"Teacher\")"
   ]
  },
  {
   "cell_type": "code",
   "execution_count": 33,
   "id": "a7878e70-6d0b-471b-9025-9d0580fb71f0",
   "metadata": {},
   "outputs": [
    {
     "name": "stdout",
     "output_type": "stream",
     "text": [
      "Nuh working as a Teacher\n"
     ]
    }
   ],
   "source": [
    "p2.work()"
   ]
  },
  {
   "cell_type": "code",
   "execution_count": 34,
   "id": "534cc907-667a-48e2-9fec-bd31ba2e9d29",
   "metadata": {},
   "outputs": [],
   "source": [
    "p2.name = \"mazin\""
   ]
  },
  {
   "cell_type": "code",
   "execution_count": 35,
   "id": "3c6dc044-4e93-4607-b424-ee5d04ceb010",
   "metadata": {},
   "outputs": [
    {
     "name": "stdout",
     "output_type": "stream",
     "text": [
      "mazin working as a Teacher\n"
     ]
    }
   ],
   "source": [
    "p2.work()"
   ]
  },
  {
   "cell_type": "code",
   "execution_count": 36,
   "id": "eaa2c11c-8a3d-4923-8aba-2067b304806b",
   "metadata": {},
   "outputs": [
    {
     "data": {
      "text/plain": [
       "['Emp',\n",
       " 'In',\n",
       " 'Out',\n",
       " 'Person',\n",
       " 'Robot',\n",
       " '_',\n",
       " '_17',\n",
       " '_20',\n",
       " '_21',\n",
       " '_22',\n",
       " '_27',\n",
       " '_28',\n",
       " '_29',\n",
       " '_9',\n",
       " '__',\n",
       " '___',\n",
       " '__builtin__',\n",
       " '__builtins__',\n",
       " '__doc__',\n",
       " '__loader__',\n",
       " '__name__',\n",
       " '__package__',\n",
       " '__spec__',\n",
       " '_dh',\n",
       " '_i',\n",
       " '_i1',\n",
       " '_i10',\n",
       " '_i11',\n",
       " '_i12',\n",
       " '_i13',\n",
       " '_i14',\n",
       " '_i15',\n",
       " '_i16',\n",
       " '_i17',\n",
       " '_i18',\n",
       " '_i19',\n",
       " '_i2',\n",
       " '_i20',\n",
       " '_i21',\n",
       " '_i22',\n",
       " '_i23',\n",
       " '_i24',\n",
       " '_i25',\n",
       " '_i26',\n",
       " '_i27',\n",
       " '_i28',\n",
       " '_i29',\n",
       " '_i3',\n",
       " '_i30',\n",
       " '_i31',\n",
       " '_i32',\n",
       " '_i33',\n",
       " '_i34',\n",
       " '_i35',\n",
       " '_i36',\n",
       " '_i4',\n",
       " '_i5',\n",
       " '_i6',\n",
       " '_i7',\n",
       " '_i8',\n",
       " '_i9',\n",
       " '_ih',\n",
       " '_ii',\n",
       " '_iii',\n",
       " '_oh',\n",
       " 'c_format',\n",
       " 'c_handler',\n",
       " 'divide',\n",
       " 'e',\n",
       " 'exit',\n",
       " 'f_format',\n",
       " 'f_handler',\n",
       " 'formatter',\n",
       " 'get_ipython',\n",
       " 'handler',\n",
       " 'logger',\n",
       " 'logging',\n",
       " 'p1',\n",
       " 'p2',\n",
       " 'quit',\n",
       " 'r1',\n",
       " 'r2']"
      ]
     },
     "execution_count": 36,
     "metadata": {},
     "output_type": "execute_result"
    }
   ],
   "source": [
    "dir()"
   ]
  },
  {
   "cell_type": "code",
   "execution_count": 37,
   "id": "4a896fca-3cce-42b9-b714-bd6a31e92cec",
   "metadata": {},
   "outputs": [
    {
     "data": {
      "text/plain": [
       "['__class__',\n",
       " '__delattr__',\n",
       " '__dict__',\n",
       " '__dir__',\n",
       " '__doc__',\n",
       " '__eq__',\n",
       " '__format__',\n",
       " '__ge__',\n",
       " '__getattribute__',\n",
       " '__gt__',\n",
       " '__hash__',\n",
       " '__init__',\n",
       " '__init_subclass__',\n",
       " '__le__',\n",
       " '__lt__',\n",
       " '__module__',\n",
       " '__ne__',\n",
       " '__new__',\n",
       " '__reduce__',\n",
       " '__reduce_ex__',\n",
       " '__repr__',\n",
       " '__setattr__',\n",
       " '__sizeof__',\n",
       " '__str__',\n",
       " '__subclasshook__',\n",
       " '__weakref__',\n",
       " 'gender',\n",
       " 'name',\n",
       " 'profession',\n",
       " 'show',\n",
       " 'work']"
      ]
     },
     "execution_count": 37,
     "metadata": {},
     "output_type": "execute_result"
    }
   ],
   "source": [
    "dir(p2)"
   ]
  },
  {
   "cell_type": "code",
   "execution_count": 38,
   "id": "067b2d7b-600f-4861-a6e3-0f23655ae354",
   "metadata": {},
   "outputs": [],
   "source": [
    "class Emp:\n",
    "    \n",
    "    def __init__(self):\n",
    "        print(id(self))\n",
    "        self.age = 25\n",
    "        self.name = \"eliyas\"\n",
    "        self.salary = 25000\n",
    "        "
   ]
  },
  {
   "cell_type": "code",
   "execution_count": 39,
   "id": "0568cebb-7bbe-437e-9527-40c40f023ffc",
   "metadata": {},
   "outputs": [
    {
     "name": "stdout",
     "output_type": "stream",
     "text": [
      "140397076625440\n"
     ]
    }
   ],
   "source": [
    "e1 = Emp()"
   ]
  },
  {
   "cell_type": "code",
   "execution_count": 40,
   "id": "a95cd22d-f642-40c7-97df-b5daf679ae93",
   "metadata": {},
   "outputs": [
    {
     "name": "stdout",
     "output_type": "stream",
     "text": [
      "140397076615888\n"
     ]
    }
   ],
   "source": [
    "e2 = Emp()"
   ]
  },
  {
   "cell_type": "code",
   "execution_count": 41,
   "id": "311c132d-c203-48fe-91d6-47fead1e3660",
   "metadata": {},
   "outputs": [
    {
     "data": {
      "text/plain": [
       "'eliyas'"
      ]
     },
     "execution_count": 41,
     "metadata": {},
     "output_type": "execute_result"
    }
   ],
   "source": [
    "e1.name"
   ]
  },
  {
   "cell_type": "code",
   "execution_count": 45,
   "id": "783d4191-9946-4b4b-9167-da132fbc312e",
   "metadata": {},
   "outputs": [],
   "source": [
    "class Circle:\n",
    "    \n",
    "    def __init__(self):\n",
    "        self.radius = int(input(\"Enter the radius of circle\"))\n",
    "    \n",
    "    def circumnference(self):\n",
    "        return 2 * 3.14 *self.radius\n",
    "    \n",
    "    def area(self):\n",
    "        return 3.14 * (self.radius)**2\n",
    "        "
   ]
  },
  {
   "cell_type": "code",
   "execution_count": 46,
   "id": "661038e1-012c-47b7-9607-456897cf0704",
   "metadata": {},
   "outputs": [
    {
     "name": "stdin",
     "output_type": "stream",
     "text": [
      "Enter the radius of circle 3\n"
     ]
    }
   ],
   "source": [
    "c1 = Circle()"
   ]
  },
  {
   "cell_type": "code",
   "execution_count": 47,
   "id": "13f6f452-2ea3-45d0-851c-a5218c627e2f",
   "metadata": {},
   "outputs": [
    {
     "data": {
      "text/plain": [
       "28.26"
      ]
     },
     "execution_count": 47,
     "metadata": {},
     "output_type": "execute_result"
    }
   ],
   "source": [
    "c1.area()"
   ]
  },
  {
   "cell_type": "code",
   "execution_count": 48,
   "id": "1f7fc115-3a2e-4e5b-b4e6-13d33eb7d7d0",
   "metadata": {},
   "outputs": [
    {
     "data": {
      "text/plain": [
       "18.84"
      ]
     },
     "execution_count": 48,
     "metadata": {},
     "output_type": "execute_result"
    }
   ],
   "source": [
    "c1.circumnference()"
   ]
  },
  {
   "cell_type": "code",
   "execution_count": null,
   "id": "f30f2255-8934-4952-b9df-b50d8d6202b0",
   "metadata": {},
   "outputs": [],
   "source": [
    "1.Create Bank account\n",
    "2.Create Constructor Account Number,Name, Balance\n",
    "3.deposit()\n",
    "4.withdrawal()\n",
    "5.display account details()\n"
   ]
  },
  {
   "cell_type": "code",
   "execution_count": 59,
   "id": "f93b32c4-58c0-41e7-9ccd-73f7ad8a05ad",
   "metadata": {},
   "outputs": [],
   "source": [
    "class BankAc:\n",
    "    def __init__(self, ac_no, name, balance):\n",
    "        self.ac_no = ac_no\n",
    "        self.name = name\n",
    "        self.balance = balance\n",
    "    \n",
    "    def display(self):\n",
    "        print(f\"\"\"\n",
    "        Name:{self.name}\n",
    "        Account Number:{self.ac_no}\n",
    "        Balance:{self.balance}\n",
    "        \"\"\")\n",
    "    \n",
    "    def withdrawal(self,amount):\n",
    "        if self.balance > amount:\n",
    "            self.balance -= amount\n",
    "            print(f\"Successfully debited with {amount}.New balance is {self.balance}\")\n",
    "        else:\n",
    "            print(\"Insufficient balance\")\n",
    "    \n",
    "    def deposit(self,amount):\n",
    "        self.balance += amount\n",
    "        print(f\"Successfully credited with {amount}.New balance is {self.balance}\")"
   ]
  },
  {
   "cell_type": "code",
   "execution_count": 60,
   "id": "79a409b6-62a5-4c0c-ae32-6491b63d3590",
   "metadata": {},
   "outputs": [],
   "source": [
    "b1 = BankAc(1234567890,\"eliyas\",30000)"
   ]
  },
  {
   "cell_type": "code",
   "execution_count": 61,
   "id": "ecf42c92-2460-491d-a438-9614f4d58beb",
   "metadata": {},
   "outputs": [
    {
     "name": "stdout",
     "output_type": "stream",
     "text": [
      "\n",
      "        Name:eliyas\n",
      "        Account Number:1234567890\n",
      "        Balance:30000\n",
      "        \n"
     ]
    }
   ],
   "source": [
    "b1.display()"
   ]
  },
  {
   "cell_type": "code",
   "execution_count": 62,
   "id": "e68455bb-14a3-44ed-81a2-a4f72d82363e",
   "metadata": {},
   "outputs": [
    {
     "name": "stdout",
     "output_type": "stream",
     "text": [
      "Successfully credited with 10000.New balance is 40000\n"
     ]
    }
   ],
   "source": [
    "b1.deposit(10000)"
   ]
  },
  {
   "cell_type": "code",
   "execution_count": 63,
   "id": "45ee0854-5076-416f-8258-75b80e569c06",
   "metadata": {},
   "outputs": [
    {
     "name": "stdout",
     "output_type": "stream",
     "text": [
      "Insufficient balance\n"
     ]
    }
   ],
   "source": [
    "b1.withdrawal(60000)"
   ]
  },
  {
   "cell_type": "code",
   "execution_count": 64,
   "id": "2357c925-27a7-4436-97ed-625763038921",
   "metadata": {},
   "outputs": [
    {
     "name": "stdout",
     "output_type": "stream",
     "text": [
      "Successfully debited with 5000.New balance is 35000\n"
     ]
    }
   ],
   "source": [
    "b1.withdrawal(5000)"
   ]
  },
  {
   "cell_type": "code",
   "execution_count": null,
   "id": "8a018fdc-c0de-456a-82e7-de523dbfe81a",
   "metadata": {},
   "outputs": [],
   "source": []
  }
 ],
 "metadata": {
  "kernelspec": {
   "display_name": "Python 3 (ipykernel)",
   "language": "python",
   "name": "python3"
  },
  "language_info": {
   "codemirror_mode": {
    "name": "ipython",
    "version": 3
   },
   "file_extension": ".py",
   "mimetype": "text/x-python",
   "name": "python",
   "nbconvert_exporter": "python",
   "pygments_lexer": "ipython3",
   "version": "3.10.6"
  }
 },
 "nbformat": 4,
 "nbformat_minor": 5
}
