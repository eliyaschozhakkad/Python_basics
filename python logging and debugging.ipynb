{
 "cells": [
  {
   "cell_type": "code",
   "execution_count": 3,
   "id": "57897004-8f4f-4c5e-8b97-2c8107a9140c",
   "metadata": {},
   "outputs": [
    {
     "name": "stdout",
     "output_type": "stream",
     "text": [
      "30\n",
      "10\n",
      "200\n",
      "2.0\n"
     ]
    }
   ],
   "source": [
    "def add(x,y):\n",
    "    return x+y\n",
    "\n",
    "def subtract(x,y):\n",
    "    return x-y\n",
    "\n",
    "def multiply(x,y):\n",
    "    return x*y\n",
    "\n",
    "def divide(x,y):\n",
    "    return x/y\n",
    "\n",
    "num1 = 20\n",
    "num2 = 10\n",
    "add_result = add(num1,num2)\n",
    "print(add_result)\n",
    "subtract_result = subtract(num1,num2)\n",
    "print(subtract_result)\n",
    "multiply_result = multiply(num1,num2)\n",
    "print(multiply_result)\n",
    "divide_result = divide(num1,num2)\n",
    "print(divide_result)"
   ]
  },
  {
   "cell_type": "markdown",
   "id": "84f54738-cf66-4640-be36-cbd8f30eebe9",
   "metadata": {},
   "source": [
    "# Logging"
   ]
  },
  {
   "cell_type": "code",
   "execution_count": 4,
   "id": "ac39e67e-f394-4f36-8b78-ed33b7838074",
   "metadata": {},
   "outputs": [],
   "source": [
    "# logging is the module which help us to track and record the log information"
   ]
  },
  {
   "cell_type": "code",
   "execution_count": 5,
   "id": "2b656bde-b2c6-4ad6-92db-8e3b497c7225",
   "metadata": {},
   "outputs": [],
   "source": [
    "# log- critical part of system documentation about runtime status of application"
   ]
  },
  {
   "cell_type": "code",
   "execution_count": 1,
   "id": "0e6994f3-90e5-4b33-8069-e68f218f0bb8",
   "metadata": {},
   "outputs": [],
   "source": [
    "import logging\n",
    "\n",
    "logging.basicConfig(level = logging.DEBUG,filename = \"testlog.log\")\n",
    "\n",
    "def add(x,y):\n",
    "    return x+y\n",
    "\n",
    "def subtract(x,y):\n",
    "    return x-y\n",
    "\n",
    "def multiply(x,y):\n",
    "    return x*y\n",
    "\n",
    "def divide(x,y):\n",
    "    return x/y\n",
    "\n",
    "num1 = 20\n",
    "num2 = 10\n",
    "add_result = add(num1,num2)\n",
    "logging.debug(add_result)\n",
    "subtract_result = subtract(num1,num2)\n",
    "logging.debug(subtract_result)\n",
    "multiply_result = multiply(num1,num2)\n",
    "logging.debug(multiply_result)\n",
    "divide_result = divide(num1,num2)\n",
    "logging.debug(divide_result)"
   ]
  },
  {
   "cell_type": "code",
   "execution_count": 1,
   "id": "74f26ccc-e671-4d09-8e90-fb86d8399d2e",
   "metadata": {},
   "outputs": [],
   "source": [
    "import logging\n",
    "\n",
    "logging.basicConfig(filename='demo1.log',level = logging.DEBUG,format= '%(asctime)s - %(levelname)s - %(message)s')\n",
    "\n",
    "\n",
    "def namecheck(name):\n",
    "    if len(name) < 2:\n",
    "        logging.debug('Checking for name length')\n",
    "        return 'Invalid name'\n",
    "    elif name.isspace():\n",
    "        logging.debug('Checking name for space')\n",
    "        return 'Invalid name'\n",
    "    elif name.isalpha():\n",
    "        logging.debug('Checking name for alphabet')\n",
    "        return 'Valid name'\n",
    "    elif name.replace(' ', '').isalpha():\n",
    "        logging.debug('Checking for full name')\n",
    "        return  'Valid name'\n",
    "    else:\n",
    "        logging.debug('Failed all checks')\n",
    "        return 'Invalid name'\n",
    "    \n",
    "    "
   ]
  },
  {
   "cell_type": "code",
   "execution_count": 2,
   "id": "5e73f202-34e7-430c-a9ef-728bd2af0976",
   "metadata": {},
   "outputs": [
    {
     "name": "stdout",
     "output_type": "stream",
     "text": [
      "Valid name\n"
     ]
    }
   ],
   "source": [
    "print(namecheck('eliyas'))"
   ]
  },
  {
   "cell_type": "code",
   "execution_count": 3,
   "id": "3b7a8021-9fdb-4ccd-bed7-56311acabb3c",
   "metadata": {},
   "outputs": [
    {
     "name": "stdout",
     "output_type": "stream",
     "text": [
      "Valid name\n"
     ]
    }
   ],
   "source": [
    "print(namecheck('eliyas ch'))"
   ]
  },
  {
   "cell_type": "code",
   "execution_count": 4,
   "id": "8095e2fb-f9f6-4230-bf54-5482f55a3f04",
   "metadata": {},
   "outputs": [
    {
     "name": "stdout",
     "output_type": "stream",
     "text": [
      "Invalid name\n"
     ]
    }
   ],
   "source": [
    "print(namecheck('123eliyas'))"
   ]
  },
  {
   "cell_type": "code",
   "execution_count": null,
   "id": "a6639283-e5ff-47a7-ac13-d99c96e04f17",
   "metadata": {},
   "outputs": [],
   "source": [
    "1.Create logger in your code\n",
    "2.Create function which can take any number of inputs as arguments and will return sum\n",
    "3.Capture user input in log file\n",
    "4.Read a log file from python code and show it in a console"
   ]
  },
  {
   "cell_type": "code",
   "execution_count": 12,
   "id": "a51480cd-f2ff-420a-926c-1f4d26d3c68b",
   "metadata": {},
   "outputs": [],
   "source": [
    "import logging\n",
    "\n",
    "logging.basicConfig(level = logging.DEBUG,filename='sum_log.log')\n",
    "\n",
    "def sum_of_arguments(*args):\n",
    "    logging.debug(args)\n",
    "    result = sum(args)\n",
    "    return result"
   ]
  },
  {
   "cell_type": "code",
   "execution_count": 13,
   "id": "0f01a1e4-facb-41fe-b1d9-a64b3b46127c",
   "metadata": {},
   "outputs": [
    {
     "data": {
      "text/plain": [
       "15"
      ]
     },
     "execution_count": 13,
     "metadata": {},
     "output_type": "execute_result"
    }
   ],
   "source": [
    "sum_of_arguments(1,2,3,4,5)"
   ]
  },
  {
   "cell_type": "code",
   "execution_count": 1,
   "id": "a1005292-b4b1-47a2-aa4d-8d8f6a0c6886",
   "metadata": {},
   "outputs": [
    {
     "name": "stdout",
     "output_type": "stream",
     "text": [
      "(1, 2, 3, 4, 5)\n",
      "The sum is 15\n",
      "DEBUG:root:The inputs are (1, 2, 3, 4, 5)\n",
      "\n"
     ]
    }
   ],
   "source": [
    "import logging\n",
    "\n",
    "logging.basicConfig(level = logging.DEBUG,filename='sum_log.log')\n",
    "   \n",
    "\n",
    "def sum_of_arguments(*args):\n",
    "    print(args)\n",
    "    \n",
    "    logging.debug(f\"The inputs are {args}\")\n",
    "    result = sum(args)\n",
    "    return result\n",
    "\n",
    "\n",
    "res = sum_of_arguments(1,2,3,4,5)\n",
    "print(f\"The sum is {res}\")\n",
    "with open(\"sum_log.log\",\"r\") as f:\n",
    "    log = f.read()\n",
    "    print(log)"
   ]
  }
 ],
 "metadata": {
  "kernelspec": {
   "display_name": "Python 3 (ipykernel)",
   "language": "python",
   "name": "python3"
  },
  "language_info": {
   "codemirror_mode": {
    "name": "ipython",
    "version": 3
   },
   "file_extension": ".py",
   "mimetype": "text/x-python",
   "name": "python",
   "nbconvert_exporter": "python",
   "pygments_lexer": "ipython3",
   "version": "3.10.6"
  }
 },
 "nbformat": 4,
 "nbformat_minor": 5
}
