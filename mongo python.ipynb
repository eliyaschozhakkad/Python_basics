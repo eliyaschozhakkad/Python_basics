{
 "cells": [
  {
   "cell_type": "code",
   "execution_count": 3,
   "id": "0c519fad-78b0-497c-a1d0-11b569dd70bb",
   "metadata": {},
   "outputs": [
    {
     "name": "stdout",
     "output_type": "stream",
     "text": [
      "Requirement already satisfied: pymongo in /opt/conda/lib/python3.10/site-packages (4.3.3)\n",
      "Requirement already satisfied: dnspython<3.0.0,>=1.16.0 in /opt/conda/lib/python3.10/site-packages (from pymongo) (2.3.0)\n",
      "Note: you may need to restart the kernel to use updated packages.\n"
     ]
    }
   ],
   "source": [
    "pip install pymongo"
   ]
  },
  {
   "cell_type": "code",
   "execution_count": 4,
   "id": "c44be4ae-13b1-4735-bfb8-916ef5d079ea",
   "metadata": {},
   "outputs": [
    {
     "name": "stdout",
     "output_type": "stream",
     "text": [
      "Database(MongoClient(host=['ac-teeqhmo-shard-00-01.r0x1dwo.mongodb.net:27017', 'ac-teeqhmo-shard-00-00.r0x1dwo.mongodb.net:27017', 'ac-teeqhmo-shard-00-02.r0x1dwo.mongodb.net:27017'], document_class=dict, tz_aware=False, connect=True, retrywrites=True, w='majority', authsource='admin', replicaset='atlas-wydyus-shard-0', tls=True), 'test')\n"
     ]
    }
   ],
   "source": [
    "import pymongo\n",
    "\n",
    "client = pymongo.MongoClient(\"mongodb+srv://elyas:<password>@ineuron.r0x1dwo.mongodb.net/?retryWrites=true&w=majority\")\n",
    "db = client.test\n",
    "print(db)"
   ]
  },
  {
   "cell_type": "code",
   "execution_count": 5,
   "id": "035821d3-7a2d-4802-bb8d-6ceccf56b4c9",
   "metadata": {},
   "outputs": [],
   "source": [
    "database = client['ineuron']"
   ]
  },
  {
   "cell_type": "code",
   "execution_count": 6,
   "id": "cc126c36-262e-468c-b84a-5c372cc49dec",
   "metadata": {},
   "outputs": [],
   "source": [
    "#collection\n",
    "coll = database['fsds_8th']"
   ]
  },
  {
   "cell_type": "code",
   "execution_count": 9,
   "id": "69774221-abc1-4e60-a1f9-8de512d3ea07",
   "metadata": {},
   "outputs": [],
   "source": [
    "data = {\"class name\":\"datascience fullstack 2.0\",\n",
    "        \"topic name\":\"mongodb nosql\",\n",
    "        \"todays date\": \"27th April 2023\"\n",
    "\n",
    "}"
   ]
  },
  {
   "cell_type": "code",
   "execution_count": null,
   "id": "f356af4e-c680-4bec-b3f6-303f0303e478",
   "metadata": {},
   "outputs": [],
   "source": [
    "coll.insert_one(data)"
   ]
  },
  {
   "cell_type": "code",
   "execution_count": 14,
   "id": "502b2a03-ad4e-49be-a277-0f9940759dff",
   "metadata": {},
   "outputs": [],
   "source": [
    "many_data = [{\"class name\":\"datascience fullstack 2.0\",\n",
    "        \"topic name\":\"mongodb nosql\",\n",
    "        \"todays date\": \"27th April 2023\"\n",
    "\n",
    "},\n",
    "            {\"class name\":\"datascience fullstack 2.0\",\n",
    "        \"topic name\":\"mongodb nosql\",\n",
    "        \"todays date\": \"27th April 2023\"\n",
    "\n",
    "},\n",
    "            {\"class name\":\"datascience fullstack 2.0\",\n",
    "        \"topic name\":\"mongodb nosql\",\n",
    "        \"todays date\": \"27th April 2023\"\n",
    "\n",
    "},\n",
    "             {\"class name\":\"datascience fullstack 2.0\",\n",
    "        \"topic name\":\"mongodb nosql\",\n",
    "        \"todays date\": \"27th April 2023\"\n",
    "\n",
    "},\n",
    "{\"class name\":\"datascience fullstack 2.0\",\n",
    "        \"topic name\":\"mongodb nosql\",\n",
    "        \"todays date\": \"27th April 2023\"\n",
    "\n",
    "}]"
   ]
  },
  {
   "cell_type": "code",
   "execution_count": null,
   "id": "8fe9669c-28ec-4037-8cd4-70682d3c013b",
   "metadata": {},
   "outputs": [],
   "source": [
    "coll.insert_many(many_data)"
   ]
  },
  {
   "cell_type": "code",
   "execution_count": 17,
   "id": "16ab1acd-8ad9-46e0-b8eb-dbf979e6c3d6",
   "metadata": {},
   "outputs": [],
   "source": [
    "data1 = {\"class name\":\"datascience full stack 2.0\",\n",
    "         \"topic name\":\"mongo db nosql\",\n",
    "         \"todays task\":\"mysql based task\",\n",
    "         \"todays configuration\":[\"mongo atlas\", \"mysql workbench\", \"mongo compass\"]}"
   ]
  },
  {
   "cell_type": "code",
   "execution_count": 19,
   "id": "d7ace269-708f-4ec2-a710-140dc0785ab9",
   "metadata": {},
   "outputs": [
    {
     "data": {
      "text/plain": [
       "<pymongo.results.InsertOneResult at 0x7ffa5af4d330>"
      ]
     },
     "execution_count": 19,
     "metadata": {},
     "output_type": "execute_result"
    }
   ],
   "source": [
    "coll.insert_one(data1)"
   ]
  },
  {
   "cell_type": "code",
   "execution_count": 21,
   "id": "1cec9d1c-8c22-4fcb-9e49-0e55b16c1d3b",
   "metadata": {},
   "outputs": [],
   "source": [
    "data2 = {\"_id\":123,\n",
    "         \"topic name\":\"mongo db nosql\",\n",
    "         \"todays task\":\"mysql based task\",\n",
    "         \"todays configuration\":[\"mongo atlas\", \"mysql workbench\", \"mongo compass\"]}"
   ]
  },
  {
   "cell_type": "code",
   "execution_count": 22,
   "id": "a2b23e19-c486-4370-bf5d-8de62dd66975",
   "metadata": {},
   "outputs": [
    {
     "data": {
      "text/plain": [
       "<pymongo.results.InsertOneResult at 0x7ffa1ffb3a90>"
      ]
     },
     "execution_count": 22,
     "metadata": {},
     "output_type": "execute_result"
    }
   ],
   "source": [
    "coll.insert_one(data2)"
   ]
  },
  {
   "cell_type": "code",
   "execution_count": null,
   "id": "613df152-2e6d-45b5-8d81-56d3e91069c0",
   "metadata": {},
   "outputs": [],
   "source": []
  }
 ],
 "metadata": {
  "kernelspec": {
   "display_name": "Python 3 (ipykernel)",
   "language": "python",
   "name": "python3"
  },
  "language_info": {
   "codemirror_mode": {
    "name": "ipython",
    "version": 3
   },
   "file_extension": ".py",
   "mimetype": "text/x-python",
   "name": "python",
   "nbconvert_exporter": "python",
   "pygments_lexer": "ipython3",
   "version": "3.10.6"
  }
 },
 "nbformat": 4,
 "nbformat_minor": 5
}
