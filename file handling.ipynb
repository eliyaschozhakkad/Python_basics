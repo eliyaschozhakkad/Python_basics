{
 "cells": [
  {
   "cell_type": "markdown",
   "id": "077fe03f-a7c7-4e2c-89f4-3bf70909a7ad",
   "metadata": {},
   "source": [
    "# File handling"
   ]
  },
  {
   "cell_type": "code",
   "execution_count": 1,
   "id": "c48dfcf9-6275-4443-9076-37030324ba94",
   "metadata": {},
   "outputs": [
    {
     "name": "stdout",
     "output_type": "stream",
     "text": [
      "'19 nov.ipynb'   \u001b[0m\u001b[01;34m'exceptional handling'\u001b[0m/   test.txt\n",
      "'4th dec.ipynb'   \u001b[01;34mfunctions\u001b[0m/\n"
     ]
    }
   ],
   "source": [
    "%ls"
   ]
  },
  {
   "cell_type": "code",
   "execution_count": 2,
   "id": "954bf54f-34e7-47e0-9263-311ed611d927",
   "metadata": {},
   "outputs": [
    {
     "data": {
      "text/plain": [
       "'/home/jovyan/work/python'"
      ]
     },
     "execution_count": 2,
     "metadata": {},
     "output_type": "execute_result"
    }
   ],
   "source": [
    "pwd()"
   ]
  },
  {
   "cell_type": "code",
   "execution_count": 3,
   "id": "d9d76e2a-a8d7-4c62-a444-5f8a609550e6",
   "metadata": {},
   "outputs": [],
   "source": [
    "#used to open file\n",
    "f = open(\"test.txt\")"
   ]
  },
  {
   "cell_type": "code",
   "execution_count": 4,
   "id": "7a3828c1-f186-45bd-bcc8-b5ecdaba3651",
   "metadata": {},
   "outputs": [
    {
     "data": {
      "text/plain": [
       "_io.TextIOWrapper"
      ]
     },
     "execution_count": 4,
     "metadata": {},
     "output_type": "execute_result"
    }
   ],
   "source": [
    "type(f)"
   ]
  },
  {
   "cell_type": "code",
   "execution_count": 5,
   "id": "65d2f50e-73c1-42c8-9437-91d01a95381a",
   "metadata": {},
   "outputs": [],
   "source": [
    "f.close()"
   ]
  },
  {
   "cell_type": "code",
   "execution_count": 6,
   "id": "881de108-b2ba-41d3-9877-c2d5311293f9",
   "metadata": {},
   "outputs": [],
   "source": [
    "#f = open(r\"/home/eliyas/Desktop/nginx.txt\")"
   ]
  },
  {
   "cell_type": "code",
   "execution_count": 79,
   "id": "4d463dbc-23dc-49bf-913d-090767ec1cca",
   "metadata": {},
   "outputs": [],
   "source": [
    "#read a file\n",
    "f = open(\"test.txt\")"
   ]
  },
  {
   "cell_type": "code",
   "execution_count": 8,
   "id": "17733493-4009-4649-b542-62f85b34af91",
   "metadata": {},
   "outputs": [
    {
     "data": {
      "text/plain": [
       "'I write code\\nfirst line\\nsecond line\\nthird line\\neliyas\\nhello'"
      ]
     },
     "execution_count": 8,
     "metadata": {},
     "output_type": "execute_result"
    }
   ],
   "source": [
    "f.read()"
   ]
  },
  {
   "cell_type": "code",
   "execution_count": 9,
   "id": "f719e482-01aa-41c2-8d46-97e96e08e3ff",
   "metadata": {},
   "outputs": [
    {
     "data": {
      "text/plain": [
       "''"
      ]
     },
     "execution_count": 9,
     "metadata": {},
     "output_type": "execute_result"
    }
   ],
   "source": [
    "f.read()"
   ]
  },
  {
   "cell_type": "code",
   "execution_count": 81,
   "id": "d70e0529-8ea0-441e-a617-15f2491c1e0a",
   "metadata": {},
   "outputs": [
    {
     "data": {
      "text/plain": [
       "'I wr'"
      ]
     },
     "execution_count": 81,
     "metadata": {},
     "output_type": "execute_result"
    }
   ],
   "source": [
    "f.read(4)\n",
    "# read first 4 data"
   ]
  },
  {
   "cell_type": "code",
   "execution_count": 11,
   "id": "bc94c767-9767-4bd7-baae-c242e9dcf002",
   "metadata": {},
   "outputs": [
    {
     "data": {
      "text/plain": [
       "''"
      ]
     },
     "execution_count": 11,
     "metadata": {},
     "output_type": "execute_result"
    }
   ],
   "source": [
    "f.read(5)"
   ]
  },
  {
   "cell_type": "code",
   "execution_count": 82,
   "id": "530f80d3-e74c-438e-9389-1cd77067ef20",
   "metadata": {},
   "outputs": [
    {
     "data": {
      "text/plain": [
       "4"
      ]
     },
     "execution_count": 82,
     "metadata": {},
     "output_type": "execute_result"
    }
   ],
   "source": [
    "f.tell()"
   ]
  },
  {
   "cell_type": "code",
   "execution_count": 29,
   "id": "07361aa8-d0a0-4d0d-8c21-4d6763010d7a",
   "metadata": {},
   "outputs": [
    {
     "data": {
      "text/plain": [
       "0"
      ]
     },
     "execution_count": 29,
     "metadata": {},
     "output_type": "execute_result"
    }
   ],
   "source": [
    "f.seek(0)\n",
    "#reset the file position"
   ]
  },
  {
   "cell_type": "code",
   "execution_count": 21,
   "id": "50017259-1df2-4b53-86a9-44a91f7d79a5",
   "metadata": {},
   "outputs": [
    {
     "data": {
      "text/plain": [
       "59"
      ]
     },
     "execution_count": 21,
     "metadata": {},
     "output_type": "execute_result"
    }
   ],
   "source": [
    "f.tell()"
   ]
  },
  {
   "cell_type": "code",
   "execution_count": 15,
   "id": "999ae850-696e-4976-b192-1c27ce5c5330",
   "metadata": {},
   "outputs": [
    {
     "data": {
      "text/plain": [
       "'I'"
      ]
     },
     "execution_count": 15,
     "metadata": {},
     "output_type": "execute_result"
    }
   ],
   "source": [
    "f.read(1)"
   ]
  },
  {
   "cell_type": "code",
   "execution_count": 16,
   "id": "d95ae503-d784-42fd-8216-929a61aa3283",
   "metadata": {},
   "outputs": [
    {
     "data": {
      "text/plain": [
       "' write code\\nfirst line\\nsecond line\\nthird line\\neliyas\\nhello'"
      ]
     },
     "execution_count": 16,
     "metadata": {},
     "output_type": "execute_result"
    }
   ],
   "source": [
    "f.read()"
   ]
  },
  {
   "cell_type": "code",
   "execution_count": 20,
   "id": "40cb8e9f-346a-4a1a-9f67-1ba7833dda74",
   "metadata": {},
   "outputs": [
    {
     "data": {
      "text/plain": [
       "['I write code\\n',\n",
       " 'first line\\n',\n",
       " 'second line\\n',\n",
       " 'third line\\n',\n",
       " 'eliyas\\n',\n",
       " 'hello']"
      ]
     },
     "execution_count": 20,
     "metadata": {},
     "output_type": "execute_result"
    }
   ],
   "source": [
    "f.readlines()"
   ]
  },
  {
   "cell_type": "code",
   "execution_count": 30,
   "id": "af71867e-f79c-4a7f-878f-7de6c7878452",
   "metadata": {},
   "outputs": [
    {
     "data": {
      "text/plain": [
       "['I write code\\n']"
      ]
     },
     "execution_count": 30,
     "metadata": {},
     "output_type": "execute_result"
    }
   ],
   "source": [
    "f.readlines(2)"
   ]
  },
  {
   "cell_type": "code",
   "execution_count": 31,
   "id": "4a649db5-d3d6-4126-95dd-5153074d160c",
   "metadata": {},
   "outputs": [],
   "source": [
    "try:\n",
    "    f = open(\"test.txt\")\n",
    "finally:\n",
    "    f.close()"
   ]
  },
  {
   "cell_type": "code",
   "execution_count": 35,
   "id": "a5715719-139f-44b2-a259-13db09543750",
   "metadata": {},
   "outputs": [],
   "source": [
    "#automatically close the file\n",
    "with open(\"test.txt\") as f:\n",
    "    #file operation\n",
    "    f.read()\n",
    "    pass\n",
    "    "
   ]
  },
  {
   "cell_type": "code",
   "execution_count": 36,
   "id": "b3000a2b-0633-460e-b27e-bbd812f0dbb5",
   "metadata": {},
   "outputs": [],
   "source": [
    "#writing a file"
   ]
  },
  {
   "cell_type": "code",
   "execution_count": 39,
   "id": "95f86c50-0b9d-4eb8-9628-418ea5cd2357",
   "metadata": {},
   "outputs": [
    {
     "name": "stdout",
     "output_type": "stream",
     "text": [
      "done\n"
     ]
    }
   ],
   "source": [
    "data = \"python\"\n",
    "f = open(\"test1.txt\",\"w\")\n",
    "f.write(data)\n",
    "print(\"done\")\n",
    "f.close()\n"
   ]
  },
  {
   "cell_type": "code",
   "execution_count": 42,
   "id": "3f08f649-2df3-422c-8d40-6b6215467681",
   "metadata": {},
   "outputs": [],
   "source": [
    "with open(\"test2.txt\",\"w\") as f:\n",
    "    f.write(\"python first line\\n\")\n",
    "    f.write(\"python second line\")"
   ]
  },
  {
   "cell_type": "code",
   "execution_count": 54,
   "id": "8daae771-5629-4c3f-87af-a7ea78df82d2",
   "metadata": {},
   "outputs": [
    {
     "name": "stdin",
     "output_type": "stream",
     "text": [
      "Enter the first number: 4\n",
      "Enter the second number: 0\n"
     ]
    },
    {
     "name": "stdout",
     "output_type": "stream",
     "text": [
      "there is some issue with the code\n"
     ]
    }
   ],
   "source": [
    "try:\n",
    "    a = int(input(\"Enter the first number:\"))\n",
    "    b = int(input(\"Enter the second number:\"))\n",
    "    c = a/b\n",
    "    \n",
    "except ArithmeticError as e:\n",
    "    print(\"there is some issue with the code\")\n",
    "    f = open(\"error.txt\",\"w+\")\n",
    "    data = \"h\"\n",
    "    f.write(str(e))\n",
    "    f.read()\n",
    "    \n",
    "\n",
    "else:\n",
    "    print(\"this will execute once try is executed successfully\")\n",
    "    try:\n",
    "        f = open(\"test3.txt\",\"w\")\n",
    "    except:\n",
    "        print(\"issue with try block\")\n"
   ]
  },
  {
   "cell_type": "code",
   "execution_count": 57,
   "id": "3e01df27-f4be-4819-83d9-49e4886121f2",
   "metadata": {},
   "outputs": [
    {
     "name": "stdout",
     "output_type": "stream",
     "text": [
      "The file does not exist [Errno 2] No such file or directory: 'erro.txt'\n"
     ]
    }
   ],
   "source": [
    "try:\n",
    "    with open(\"erro.txt\") as f:\n",
    "        f.read()\n",
    "except Exception as e:\n",
    "    print(\"The file does not exist\",e)\n",
    "else:\n",
    "    print(\"The file read successfully\")"
   ]
  },
  {
   "cell_type": "code",
   "execution_count": 59,
   "id": "ca2225bd-084e-45ae-8ada-dbd2d1aa1a36",
   "metadata": {},
   "outputs": [
    {
     "name": "stdout",
     "output_type": "stream",
     "text": [
      "The size of test.txt is 59 bytes\n"
     ]
    }
   ],
   "source": [
    "#file size\n",
    "\n",
    "import os\n",
    "\n",
    "file_path = \"test.txt\"\n",
    "file_size = os.path.getsize(file_path)\n",
    "\n",
    "print(f\"The size of {file_path} is {file_size} bytes\" )"
   ]
  },
  {
   "cell_type": "code",
   "execution_count": 70,
   "id": "847196b8-8b2a-44c9-903c-84ad61c1f3e2",
   "metadata": {},
   "outputs": [
    {
     "name": "stdout",
     "output_type": "stream",
     "text": [
      "59\n",
      "The size is 59 bytes\n"
     ]
    }
   ],
   "source": [
    "with open(\"test.txt\",\"rb\") as f:\n",
    "    f.seek(0,2)\n",
    "    print(f.tell())\n",
    "    file_size = f.tell()\n",
    "print(f\"The size is {file_size} bytes\")"
   ]
  },
  {
   "cell_type": "code",
   "execution_count": 78,
   "id": "aefe15f8-1551-42c4-a044-39ec589c68a0",
   "metadata": {},
   "outputs": [
    {
     "name": "stdout",
     "output_type": "stream",
     "text": [
      "The no of lines is 6\n"
     ]
    }
   ],
   "source": [
    "# no of lines in python code\n",
    "\n",
    "with open(\"test.txt\",\"r\") as f:\n",
    "    num_lines = 0\n",
    "    for a in f:\n",
    "        num_lines += 1\n",
    "print(f\"The no of lines is {num_lines}\")\n",
    "        \n",
    "        "
   ]
  },
  {
   "cell_type": "code",
   "execution_count": 1,
   "id": "8882447a-a659-4ebc-9fe1-f0f1b2b80a30",
   "metadata": {},
   "outputs": [],
   "source": [
    "# r opens a file for reading\n",
    "# w opens a file for writing and creates a new file if it does not exists or truncated if it exists\n",
    "# x opens a file for exclusive creation if the file already exists operation(if file exists-error)\n",
    "# a opens a file for appending at the end of file\n",
    "# + opens a file for updating(reading or writing)\n"
   ]
  },
  {
   "cell_type": "code",
   "execution_count": 13,
   "id": "a76f6b18-6b1f-4ede-99d9-6bcbf5fb337a",
   "metadata": {},
   "outputs": [
    {
     "name": "stdout",
     "output_type": "stream",
     "text": [
      "hello world\n"
     ]
    }
   ],
   "source": [
    "with open(\"test4.txt\",\"x\") as f:\n",
    "    f.write(\"hello world\")\n",
    "\n",
    "with open(\"test4.txt\",\"r\") as f:\n",
    "    content = f.read()\n",
    "    print(content)"
   ]
  },
  {
   "cell_type": "code",
   "execution_count": 16,
   "id": "de8ebbd1-115f-4baf-a1d3-f4f55d4214f9",
   "metadata": {},
   "outputs": [],
   "source": [
    "with open(\"test4.txt\",\"a\") as f:\n",
    "    f.write(\" new word\")\n",
    "    "
   ]
  },
  {
   "cell_type": "code",
   "execution_count": null,
   "id": "f7edd71f-57b5-4c76-a504-b885a5a54899",
   "metadata": {},
   "outputs": [],
   "source": []
  }
 ],
 "metadata": {
  "kernelspec": {
   "display_name": "Python 3 (ipykernel)",
   "language": "python",
   "name": "python3"
  },
  "language_info": {
   "codemirror_mode": {
    "name": "ipython",
    "version": 3
   },
   "file_extension": ".py",
   "mimetype": "text/x-python",
   "name": "python",
   "nbconvert_exporter": "python",
   "pygments_lexer": "ipython3",
   "version": "3.10.6"
  }
 },
 "nbformat": 4,
 "nbformat_minor": 5
}
