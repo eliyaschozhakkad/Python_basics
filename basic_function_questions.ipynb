{
 "cells": [
  {
   "cell_type": "markdown",
   "id": "54acdad5",
   "metadata": {},
   "source": [
    "1. Write a function which will try to find out len of a string without using an inbuilt len function "
   ]
  },
  {
   "cell_type": "code",
   "execution_count": 13,
   "id": "8e45e785",
   "metadata": {},
   "outputs": [],
   "source": [
    "# To find length of a string\n",
    "\n",
    "def length(st):\n",
    "    \"\"\"Function to find the length of a string without inbuilt function\"\"\"\n",
    "    count = 0\n",
    "    for i in st:\n",
    "        if i != '\\n':\n",
    "            count += 1\n",
    "    return(f\"The length of {st} is {count}\")\n",
    "\n"
   ]
  },
  {
   "cell_type": "code",
   "execution_count": 9,
   "id": "ea4ed0da",
   "metadata": {},
   "outputs": [
    {
     "data": {
      "text/plain": [
       "'The length of eliyas is 6'"
      ]
     },
     "execution_count": 9,
     "metadata": {},
     "output_type": "execute_result"
    }
   ],
   "source": [
    "#Checking the length of string\n",
    "\n",
    "length(\"eliyas\")"
   ]
  },
  {
   "cell_type": "markdown",
   "id": "8d9f89b1",
   "metadata": {},
   "source": [
    "2. Write a function which  will be able to print an index of list element without using an index function"
   ]
  },
  {
   "cell_type": "code",
   "execution_count": 14,
   "id": "07a87e08",
   "metadata": {},
   "outputs": [],
   "source": [
    "def find_index(ls,item):\n",
    "    \"\"\"Function to find index of an list item\"\"\"\n",
    "    index = -1\n",
    "    for i in ls:\n",
    "        index += 1\n",
    "        if i == item:\n",
    "            return (f\"The {item} is found at index {index}\")\n",
    "            break\n",
    "    \n",
    "        "
   ]
  },
  {
   "cell_type": "code",
   "execution_count": 12,
   "id": "272ec95b",
   "metadata": {},
   "outputs": [
    {
     "data": {
      "text/plain": [
       "'The 4 is found at index 3'"
      ]
     },
     "execution_count": 12,
     "metadata": {},
     "output_type": "execute_result"
    }
   ],
   "source": [
    "#Checking the index of list\n",
    "list = [1,2,3,4,5,6]\n",
    "find_index(list,4)"
   ]
  },
  {
   "cell_type": "markdown",
   "id": "4067fefd",
   "metadata": {},
   "source": [
    "3. Write a function which will be able to print an ip address of your system"
   ]
  },
  {
   "cell_type": "code",
   "execution_count": 23,
   "id": "f2107f0e",
   "metadata": {},
   "outputs": [],
   "source": [
    "#Function to find the IP address\n",
    "import socket\n",
    "\n",
    "def get_ip():\n",
    "    \"\"\"Function to find IP address of host\"\"\"\n",
    "    hostname = socket.gethostname()\n",
    "    IP_address = socket.gethostbyname(hostname)\n",
    "    print(f\"The IP address of host {hostname} is {IP_address}\")\n"
   ]
  },
  {
   "cell_type": "code",
   "execution_count": 24,
   "id": "7e7d9d7c",
   "metadata": {},
   "outputs": [
    {
     "name": "stdout",
     "output_type": "stream",
     "text": [
      "The IP address of host eliyas-Vostro-3405 is 127.0.1.1\n"
     ]
    }
   ],
   "source": [
    "get_ip()"
   ]
  },
  {
   "cell_type": "markdown",
   "id": "ffea5a0d",
   "metadata": {},
   "source": [
    "4. Write a function which will shutdown your system"
   ]
  },
  {
   "cell_type": "code",
   "execution_count": 80,
   "id": "a5a4f231",
   "metadata": {},
   "outputs": [],
   "source": [
    "import os\n",
    "def shutdown():\n",
    "    os.system('shutdown /s /t 1')"
   ]
  },
  {
   "cell_type": "code",
   "execution_count": 81,
   "id": "b4b4b1d1",
   "metadata": {},
   "outputs": [
    {
     "name": "stderr",
     "output_type": "stream",
     "text": [
      "Failed to parse time specification: /s\n"
     ]
    }
   ],
   "source": [
    "shutdown()"
   ]
  },
  {
   "cell_type": "markdown",
   "id": "7ebdd600",
   "metadata": {},
   "source": [
    "5. Write a function which will take input as a list with any kind of numeric value and give an out as a multiplication of \n",
    "all the numeric data l = [3.5, 6.56, 4,5,\"sudh\" , \"ineuron\" , 'fsda bootcamp 2.0']"
   ]
  },
  {
   "cell_type": "code",
   "execution_count": 48,
   "id": "bedf9552",
   "metadata": {},
   "outputs": [],
   "source": [
    "#Function to find multiplication of numeric items in list\n",
    "\n",
    "def mul_list(ls):\n",
    "    \"\"\"Function to find multiplication of numeric items in list\"\"\"\n",
    "    new_list = [ x for x in ls if type(x) != str ]\n",
    "    print(f\"The new list is {new_list}\")\n",
    "    product = 1\n",
    "    \n",
    "    for item in new_list:\n",
    "        product *= item\n",
    "    \n",
    "    print(f\"The product of list items is {round(product,2)}\")\n",
    "    \n",
    "    "
   ]
  },
  {
   "cell_type": "code",
   "execution_count": 49,
   "id": "d52ac976",
   "metadata": {},
   "outputs": [
    {
     "name": "stdout",
     "output_type": "stream",
     "text": [
      "The new list is [3.5, 6.56, 4, 5]\n",
      "The product of list items is 459.2\n"
     ]
    }
   ],
   "source": [
    "mul_list([3.5, 6.56, 4,5,\"sudh\" , \"ineuron\" , 'fsda bootcamp 2.0'])"
   ]
  },
  {
   "cell_type": "markdown",
   "id": "c0c783db",
   "metadata": {},
   "source": [
    "6. Write a function which will be able to read all the mails \n"
   ]
  },
  {
   "cell_type": "code",
   "execution_count": 54,
   "id": "6d16b808",
   "metadata": {},
   "outputs": [],
   "source": [
    "import imaplib\n",
    "import email\n",
    "\n",
    "def read_mail():\n",
    "    #connect to IMAP server\n",
    "    mail = imaplib.IMAP4_SSL('imap.gmail.com')\n",
    "    mail.login('your_gmail@gmail.com','your_password')\n",
    "    mail.select('inbox')\n",
    "\n",
    "    #search for all mails\n",
    "    typ, data = mail.search(None, 'ALL')\n",
    "    mail_ids = data[0].split()\n",
    "\n",
    "\n",
    "    #loop through all mails and print their content\n",
    "    for mail_id in mail_ids:\n",
    "        typ,data = mail.fetch(mail_id,'(RFC822)')\n",
    "        email_message = email.message_from_bytes(data[0][1])\n",
    "        print('Subject:', email_message['Subject'])\n",
    "        print('From:', email_message['From'])\n",
    "        print('To:', email_message['To'])\n",
    "        print('Date:', email_message['Date'])\n",
    "        print('Body:', email_message.get_payload())\n",
    "\n",
    "    # disconnect from the IMAP server\n",
    "    mail.close()\n",
    "    mail.logout()\n"
   ]
  },
  {
   "cell_type": "code",
   "execution_count": null,
   "id": "4859df22",
   "metadata": {},
   "outputs": [],
   "source": [
    "read_mail()"
   ]
  },
  {
   "cell_type": "markdown",
   "id": "86243c5e",
   "metadata": {},
   "source": [
    "7 . Write a function which will be able to send a mail to anyone "
   ]
  },
  {
   "cell_type": "code",
   "execution_count": 57,
   "id": "02dc75bf",
   "metadata": {},
   "outputs": [],
   "source": [
    "import smtplib\n",
    "from email.mime.text import MIMEText\n",
    "from email.mime.multipart import MIMEMultipart\n",
    "\n",
    "def send_email():\n",
    "    # create the email message\n",
    "    msg = MIMEMultipart()\n",
    "    msg['From'] = 'your_email_address'\n",
    "    msg['To'] = 'recipient_email_address'\n",
    "    msg['Subject'] = 'Subject of the email'\n",
    "    body = 'Body of the email'\n",
    "    msg.attach(MIMEText(body, 'plain'))\n",
    "\n",
    "    # connect to the SMTP server\n",
    "    server = smtplib.SMTP('smtp.gmail.com', 587)\n",
    "    server.starttls()\n",
    "    server.login('your_email_address', 'your_password')\n",
    "\n",
    "    # send the email\n",
    "    text = msg.as_string()\n",
    "    server.sendmail('your_email_address', 'recipient_email_address', text)\n",
    "\n",
    "    # disconnect from the SMTP server\n",
    "    server.quit()\n"
   ]
  },
  {
   "cell_type": "code",
   "execution_count": null,
   "id": "d791c546",
   "metadata": {},
   "outputs": [],
   "source": [
    "send_email()"
   ]
  },
  {
   "cell_type": "markdown",
   "id": "bb197292",
   "metadata": {},
   "source": [
    "8. Write a function which will be able to read a doc/word file from your system "
   ]
  },
  {
   "cell_type": "code",
   "execution_count": 69,
   "id": "cd1cae80",
   "metadata": {},
   "outputs": [],
   "source": [
    "#Function to read file\n",
    "def read_file():\n",
    "    '''Fuction to read a file from system'''\n",
    "    with open('/home/eliyas/Desktop/Full Stack Data Science BootCamp 2.0/python/009.29th Oct Live Class Function basic 1/work/text','r') as f:\n",
    "        doc = f.read()\n",
    "        print(doc)"
   ]
  },
  {
   "cell_type": "code",
   "execution_count": 70,
   "id": "e00c9696",
   "metadata": {},
   "outputs": [
    {
     "name": "stdout",
     "output_type": "stream",
     "text": [
      "Hello I am here \n"
     ]
    }
   ],
   "source": [
    "read_file()"
   ]
  },
  {
   "cell_type": "code",
   "execution_count": null,
   "id": "8f59a4d3",
   "metadata": {},
   "outputs": [],
   "source": []
  }
 ],
 "metadata": {
  "kernelspec": {
   "display_name": "Python 3 (ipykernel)",
   "language": "python",
   "name": "python3"
  },
  "language_info": {
   "codemirror_mode": {
    "name": "ipython",
    "version": 3
   },
   "file_extension": ".py",
   "mimetype": "text/x-python",
   "name": "python",
   "nbconvert_exporter": "python",
   "pygments_lexer": "ipython3",
   "version": "3.9.12"
  }
 },
 "nbformat": 4,
 "nbformat_minor": 5
}
