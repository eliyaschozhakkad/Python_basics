{
 "cells": [
  {
   "cell_type": "code",
   "execution_count": 72,
   "id": "dfbc2eff-416f-439f-95b5-ccfe521e17a6",
   "metadata": {},
   "outputs": [],
   "source": [
    "class Car:\n",
    "    \n",
    "    def __init__(self, milage, year, make,model):\n",
    "        self.milage = milage\n",
    "        self.year = year\n",
    "        self.make = make\n",
    "        self.model = model\n",
    "    \n",
    "    def age(self,current_year):\n",
    "        return  current_year - self.year \n",
    "    \n",
    "    def milage1(self):\n",
    "        return(f\"Print milage of the car is {self.milage}\")\n",
    "    \n",
    "    def __str__(self):\n",
    "        return \"This is from the class Car\"\n",
    "    \n",
    "    \n",
    "        "
   ]
  },
  {
   "cell_type": "code",
   "execution_count": 73,
   "id": "20c6a2d7-87b0-4f66-b3f9-5d17c56dc146",
   "metadata": {},
   "outputs": [],
   "source": [
    "ritz = Car(20,2013,45,\"abc\")"
   ]
  },
  {
   "cell_type": "code",
   "execution_count": 74,
   "id": "b16eedf6-9229-4888-bbfc-2a43993d6918",
   "metadata": {},
   "outputs": [
    {
     "data": {
      "text/plain": [
       "20"
      ]
     },
     "execution_count": 74,
     "metadata": {},
     "output_type": "execute_result"
    }
   ],
   "source": [
    "ritz.milage"
   ]
  },
  {
   "cell_type": "code",
   "execution_count": 75,
   "id": "49e1d905-0b20-4db9-9697-638338d2251b",
   "metadata": {},
   "outputs": [
    {
     "data": {
      "text/plain": [
       "2013"
      ]
     },
     "execution_count": 75,
     "metadata": {},
     "output_type": "execute_result"
    }
   ],
   "source": [
    "ritz.year"
   ]
  },
  {
   "cell_type": "code",
   "execution_count": 76,
   "id": "026af384-e6e0-4e9a-8997-03d8bdfbbd4a",
   "metadata": {},
   "outputs": [
    {
     "data": {
      "text/plain": [
       "45"
      ]
     },
     "execution_count": 76,
     "metadata": {},
     "output_type": "execute_result"
    }
   ],
   "source": [
    "ritz.make"
   ]
  },
  {
   "cell_type": "code",
   "execution_count": 77,
   "id": "fb57c128-8558-4244-87c2-ba159dc34ff7",
   "metadata": {},
   "outputs": [
    {
     "data": {
      "text/plain": [
       "'abc'"
      ]
     },
     "execution_count": 77,
     "metadata": {},
     "output_type": "execute_result"
    }
   ],
   "source": [
    "ritz.model"
   ]
  },
  {
   "cell_type": "code",
   "execution_count": 78,
   "id": "f5461579-9742-47f0-9cae-968b76150754",
   "metadata": {},
   "outputs": [
    {
     "data": {
      "text/plain": [
       "10"
      ]
     },
     "execution_count": 78,
     "metadata": {},
     "output_type": "execute_result"
    }
   ],
   "source": [
    "ritz.age(2023)"
   ]
  },
  {
   "cell_type": "code",
   "execution_count": 81,
   "id": "9a50c8ea-f10b-4fa9-a376-b145ebca4551",
   "metadata": {},
   "outputs": [
    {
     "name": "stdout",
     "output_type": "stream",
     "text": [
      "This is from the class Car\n"
     ]
    }
   ],
   "source": [
    "print(ritz)"
   ]
  },
  {
   "cell_type": "code",
   "execution_count": 87,
   "id": "65865d37-43cb-42c7-8c60-884a8e9988b4",
   "metadata": {},
   "outputs": [],
   "source": [
    "class Person:\n",
    "    \n",
    "    def __init__(self, first_name, last_name, age):\n",
    "        self.first_name = first_name\n",
    "        self.last_name = last_name\n",
    "        self.age = age\n",
    "    \n",
    "    def __str__(self):\n",
    "        return f\"I am {self.first_name} {self.last_name} of age {self.age}\"\n",
    "        "
   ]
  },
  {
   "cell_type": "code",
   "execution_count": 88,
   "id": "96f69bba-c6ee-429f-8e90-9a3acd2491d7",
   "metadata": {},
   "outputs": [],
   "source": [
    "person = Person(\"eliyas\",\"ch\",29)"
   ]
  },
  {
   "cell_type": "code",
   "execution_count": 89,
   "id": "a70e4a4d-ab9c-43c0-a289-75aa2aef2f18",
   "metadata": {},
   "outputs": [
    {
     "name": "stdout",
     "output_type": "stream",
     "text": [
      "I am eliyas ch of age 29\n"
     ]
    }
   ],
   "source": [
    "print(person)"
   ]
  },
  {
   "cell_type": "code",
   "execution_count": 90,
   "id": "3dff83f9-8448-462f-b81b-802fc9278488",
   "metadata": {},
   "outputs": [],
   "source": [
    "class Student:\n",
    "    \n",
    "    def __init__(self, name, rollno, joining_date, current_topic):\n",
    "        self.name = name\n",
    "        self.rollno = rollno\n",
    "        self.joining_date = joining_date\n",
    "        self.current_topic = current_topic\n",
    "        \n",
    "    def cur_topic(self):\n",
    "        print(\"Current topic is \",self.current_topic)\n",
    "        \n",
    "    def str_rollno(self):\n",
    "        \n",
    "        try:\n",
    "            if type(self.rollno) == str:\n",
    "                print(\"nothing\")\n",
    "            else:\n",
    "                return str(self.rollno)\n",
    "        except Exception as e:\n",
    "            print(\"This is my error message\",e)\n",
    "    \n",
    "    def duration(self,current_date):\n",
    "        print(\"Duration of student in my class is \",current_date - self.joining_date)\n",
    "        \n",
    "    def __str__(self):\n",
    "        return f\"This is {self.name}\""
   ]
  },
  {
   "cell_type": "code",
   "execution_count": 99,
   "id": "18412fa0-9fdf-4d58-93ea-859fe6594136",
   "metadata": {},
   "outputs": [],
   "source": [
    "s1 = Student(\"eliyas\",45,2017,\"Data Science\")"
   ]
  },
  {
   "cell_type": "code",
   "execution_count": 92,
   "id": "637f5909-306b-41a8-a608-14a36e521f0a",
   "metadata": {},
   "outputs": [
    {
     "name": "stdout",
     "output_type": "stream",
     "text": [
      "Current topic is  Data Science\n"
     ]
    }
   ],
   "source": [
    "s1.cur_topic()"
   ]
  },
  {
   "cell_type": "code",
   "execution_count": 94,
   "id": "42603f47-0c78-475c-8811-5aee34080fe1",
   "metadata": {},
   "outputs": [
    {
     "name": "stdout",
     "output_type": "stream",
     "text": [
      "Duration of student in my class is  6\n"
     ]
    }
   ],
   "source": [
    "s1.duration(2023)"
   ]
  },
  {
   "cell_type": "code",
   "execution_count": 95,
   "id": "ff5b949f-dedd-41ca-90c8-2fafae284d99",
   "metadata": {},
   "outputs": [
    {
     "data": {
      "text/plain": [
       "'45'"
      ]
     },
     "execution_count": 95,
     "metadata": {},
     "output_type": "execute_result"
    }
   ],
   "source": [
    "s1.str_rollno()"
   ]
  },
  {
   "cell_type": "code",
   "execution_count": 97,
   "id": "8285df2a-3307-442e-944a-d57a2cecd35f",
   "metadata": {},
   "outputs": [
    {
     "name": "stdout",
     "output_type": "stream",
     "text": [
      "This is eliyas\n"
     ]
    }
   ],
   "source": [
    "print(s1)"
   ]
  },
  {
   "cell_type": "code",
   "execution_count": 100,
   "id": "e5ab9870-1f9d-4e65-803f-0a5ccead814a",
   "metadata": {},
   "outputs": [],
   "source": [
    "s2 = Student(\"eliyas\",'35',2017,\"Data Science\")"
   ]
  },
  {
   "cell_type": "code",
   "execution_count": 101,
   "id": "dde2d8e7-f8a2-4615-87b6-d157f875bffb",
   "metadata": {},
   "outputs": [
    {
     "name": "stdout",
     "output_type": "stream",
     "text": [
      "nothing\n"
     ]
    }
   ],
   "source": [
    "s2.str_rollno()"
   ]
  },
  {
   "cell_type": "code",
   "execution_count": 15,
   "id": "8f61d0ab-8ce1-4202-9636-de4833b215a8",
   "metadata": {},
   "outputs": [],
   "source": [
    "class Calculator:\n",
    "    \n",
    "    def __init__(self):\n",
    "        self.num1 = int(input(\"Enter first number:\"))\n",
    "        self.num2 = int(input(\"Enter second number:\"))\n",
    "    \n",
    "    def add(self):\n",
    "        return self.num1+self.num2\n",
    "    \n",
    "    def subtract(self):\n",
    "        return self.num1-self.num2\n",
    "    \n",
    "    def multiply(self):\n",
    "        return self.num1*self.num2\n",
    "    \n",
    "    def divide(self):\n",
    "        return self.num1/self.num2\n",
    "  "
   ]
  },
  {
   "cell_type": "code",
   "execution_count": 16,
   "id": "6d8762eb-d18e-48bb-b9da-8eab2ce896a8",
   "metadata": {},
   "outputs": [
    {
     "name": "stdin",
     "output_type": "stream",
     "text": [
      "Enter first number: 23\n",
      "Enter second number: 4\n"
     ]
    },
    {
     "name": "stdout",
     "output_type": "stream",
     "text": [
      "Calculator\n",
      "             1.Addition\n",
      "             2.Subtraction\n",
      "             3.Multiplication\n",
      "             4.Divison\n"
     ]
    },
    {
     "name": "stdin",
     "output_type": "stream",
     "text": [
      "Enter the option 1\n"
     ]
    },
    {
     "name": "stdout",
     "output_type": "stream",
     "text": [
      "The result is  27\n"
     ]
    }
   ],
   "source": [
    "cal = Calculator() \n",
    "print(\"\"\"Calculator\n",
    "             1.Addition\n",
    "             2.Subtraction\n",
    "             3.Multiplication\n",
    "             4.Divison\"\"\")\n",
    "option = int(input(\"Enter the option\"))\n",
    "\n",
    "match(option):\n",
    "    case 1: \n",
    "        print(\"The result is \",cal.add())\n",
    "    case 2: \n",
    "        print(\"The result is \",cal.subtract())\n",
    "    case 3:\n",
    "        print(\"The result is \",cal.multiply())\n",
    "    case 4:\n",
    "        print(\"The result is \",cal.divide())\n",
    "    case default:\n",
    "        print(\"Wrong choice\")\n",
    "    "
   ]
  },
  {
   "cell_type": "code",
   "execution_count": 17,
   "id": "ec114a04-826f-4c26-9e06-2640cb95bdfa",
   "metadata": {},
   "outputs": [],
   "source": [
    "# Default constructor\n",
    "class Student:\n",
    "    \n",
    "    def who(self):\n",
    "        print(\"I am a student\")"
   ]
  },
  {
   "cell_type": "code",
   "execution_count": 18,
   "id": "8b41b399-8991-4b04-9da4-cefa880591d8",
   "metadata": {},
   "outputs": [],
   "source": [
    "s1 = Student()"
   ]
  },
  {
   "cell_type": "code",
   "execution_count": 19,
   "id": "01933345-d78e-4790-9edd-7c3054b7f151",
   "metadata": {},
   "outputs": [
    {
     "name": "stdout",
     "output_type": "stream",
     "text": [
      "I am a student\n"
     ]
    }
   ],
   "source": [
    "s1.who()"
   ]
  },
  {
   "cell_type": "code",
   "execution_count": 21,
   "id": "4489c4c1-79e4-4896-8691-0c22219815d0",
   "metadata": {},
   "outputs": [],
   "source": [
    "# Non Parameterized constructor\n",
    "\n",
    "class Company:\n",
    "    \n",
    "    def __init__(self):\n",
    "        self.name = \"Brototype\"\n",
    "        self.address = \"Calicut\"\n",
    "    \n",
    "    def show(self):\n",
    "        print(f\"Company: {self.name} , Location:{self.address}\")\n"
   ]
  },
  {
   "cell_type": "code",
   "execution_count": 22,
   "id": "dcf1e717-2cff-44f3-9f4d-4c1aff9223d7",
   "metadata": {},
   "outputs": [],
   "source": [
    "cmp = Company()"
   ]
  },
  {
   "cell_type": "code",
   "execution_count": 23,
   "id": "d838b032-be86-421a-97e6-b5cdea2668c4",
   "metadata": {},
   "outputs": [
    {
     "name": "stdout",
     "output_type": "stream",
     "text": [
      "Company: Brototype , Location:Calicut\n"
     ]
    }
   ],
   "source": [
    "cmp.show()"
   ]
  },
  {
   "cell_type": "code",
   "execution_count": 24,
   "id": "ebcd932f-91b3-459b-8954-14ca62116fac",
   "metadata": {},
   "outputs": [],
   "source": [
    "# Parameterized constructor\n",
    "class Person:\n",
    "    \n",
    "    def __init__(self, first_name, last_name, age):\n",
    "        self.first_name = first_name\n",
    "        self.last_name = last_name\n",
    "        self.age = age\n",
    "    \n",
    "    def __str__(self):\n",
    "        return f\"I am {self.first_name} {self.last_name} of age {self.age}\""
   ]
  },
  {
   "cell_type": "markdown",
   "id": "cb187ea1-e686-4b68-90db-3dd72c0953ef",
   "metadata": {},
   "source": [
    "# Data Encapsulation\n",
    "1.Methods and attributes bundled together\n",
    "2.Classes can work independently"
   ]
  },
  {
   "cell_type": "code",
   "execution_count": 44,
   "id": "80e29d21-da5e-4be3-a30f-3b2dfa6c5468",
   "metadata": {},
   "outputs": [],
   "source": [
    "\n",
    "class Pub_mod:\n",
    "    \n",
    "    def __init__(self, name, age):\n",
    "        self.__name = name\n",
    "        self.age = age\n",
    "    \n",
    "    def age1(self):\n",
    "        print(\"age\",self.age)"
   ]
  },
  {
   "cell_type": "code",
   "execution_count": 45,
   "id": "b239febc-6463-465e-a146-767cd4c78000",
   "metadata": {},
   "outputs": [],
   "source": [
    "c1 = Pub_mod(\"eliyas\",29)"
   ]
  },
  {
   "cell_type": "code",
   "execution_count": 46,
   "id": "7df64249-1add-4149-9120-0f6bb4429f6e",
   "metadata": {},
   "outputs": [
    {
     "ename": "AttributeError",
     "evalue": "'Pub_mod' object has no attribute 'name'",
     "output_type": "error",
     "traceback": [
      "\u001b[0;31m---------------------------------------------------------------------------\u001b[0m",
      "\u001b[0;31mAttributeError\u001b[0m                            Traceback (most recent call last)",
      "Cell \u001b[0;32mIn [46], line 1\u001b[0m\n\u001b[0;32m----> 1\u001b[0m \u001b[43mc1\u001b[49m\u001b[38;5;241;43m.\u001b[39;49m\u001b[43mname\u001b[49m\n",
      "\u001b[0;31mAttributeError\u001b[0m: 'Pub_mod' object has no attribute 'name'"
     ]
    }
   ],
   "source": [
    "c1.name"
   ]
  },
  {
   "cell_type": "code",
   "execution_count": 47,
   "id": "df018509-3f17-4e49-b552-e71aa692db85",
   "metadata": {},
   "outputs": [],
   "source": [
    "class Rectangle:\n",
    "    #__length = 0\n",
    "    #__breadth = 0\n",
    "    \n",
    "    def __init__(self):\n",
    "        self.length = 5\n",
    "        self.__breadth = 3 #private variable\n",
    "        print(self.length)\n",
    "        print(self.__breadth)"
   ]
  },
  {
   "cell_type": "code",
   "execution_count": 48,
   "id": "a57b6fcb-3c6c-47ea-93c4-62bb9107aa44",
   "metadata": {},
   "outputs": [
    {
     "name": "stdout",
     "output_type": "stream",
     "text": [
      "5\n",
      "3\n"
     ]
    }
   ],
   "source": [
    "r1 = Rectangle()"
   ]
  },
  {
   "cell_type": "code",
   "execution_count": 57,
   "id": "4396ecc3-a545-4f59-bae4-440c5c580429",
   "metadata": {},
   "outputs": [
    {
     "name": "stdout",
     "output_type": "stream",
     "text": [
      "5\n",
      "3\n",
      "5\n"
     ]
    },
    {
     "ename": "AttributeError",
     "evalue": "'Rectangle' object has no attribute 'breadth'",
     "output_type": "error",
     "traceback": [
      "\u001b[0;31m---------------------------------------------------------------------------\u001b[0m",
      "\u001b[0;31mAttributeError\u001b[0m                            Traceback (most recent call last)",
      "Cell \u001b[0;32mIn [57], line 16\u001b[0m\n\u001b[1;32m     14\u001b[0m rect \u001b[38;5;241m=\u001b[39m Rectangle()\n\u001b[1;32m     15\u001b[0m \u001b[38;5;28mprint\u001b[39m(rect\u001b[38;5;241m.\u001b[39mlength)\n\u001b[0;32m---> 16\u001b[0m \u001b[38;5;28mprint\u001b[39m(\u001b[43mrect\u001b[49m\u001b[38;5;241;43m.\u001b[39;49m\u001b[43mbreadth\u001b[49m)\n",
      "\u001b[0;31mAttributeError\u001b[0m: 'Rectangle' object has no attribute 'breadth'"
     ]
    }
   ],
   "source": [
    "class Rectangle:\n",
    "    #__length = 0\n",
    "    #__breadth = 0\n",
    "    \n",
    "    def __init__(self):\n",
    "        self.length = 5\n",
    "        self.__breadth = 3 #private variable\n",
    "        print(self.length)\n",
    "        print(self.__breadth)\n",
    "    \n",
    "    def show(self):\n",
    "        print(\"This is printing private variable\",self.__breadth)\n",
    "\n",
    "rect = Rectangle()\n",
    "print(rect.length)\n",
    "print(rect.breadth)"
   ]
  },
  {
   "cell_type": "code",
   "execution_count": 58,
   "id": "edead331-fc4d-4b71-9714-27477c761ad0",
   "metadata": {},
   "outputs": [
    {
     "name": "stdout",
     "output_type": "stream",
     "text": [
      "5\n",
      "3\n"
     ]
    }
   ],
   "source": [
    "rect = Rectangle()"
   ]
  },
  {
   "cell_type": "code",
   "execution_count": 59,
   "id": "ae1f0722-a47d-4bda-b3f7-d8a1771a7c8b",
   "metadata": {},
   "outputs": [
    {
     "name": "stdout",
     "output_type": "stream",
     "text": [
      "This is printing private variable 3\n"
     ]
    }
   ],
   "source": [
    "rect.show()"
   ]
  },
  {
   "cell_type": "code",
   "execution_count": 60,
   "id": "5f6effb9-052b-432c-85da-6fc2a6b266a4",
   "metadata": {},
   "outputs": [
    {
     "data": {
      "text/plain": [
       "3"
      ]
     },
     "execution_count": 60,
     "metadata": {},
     "output_type": "execute_result"
    }
   ],
   "source": [
    "#syntax to access private variable - object name._classname__privatevariable\n",
    "rect._Rectangle__breadth"
   ]
  },
  {
   "cell_type": "code",
   "execution_count": 64,
   "id": "d50cdf08-9bc2-4674-963b-606a5c66bb13",
   "metadata": {},
   "outputs": [],
   "source": [
    "class Test:\n",
    "    \n",
    "    def __init__(self):\n",
    "        self.a = 10\n",
    "        self._b = 20\n",
    "        self.__c = 30\n",
    "        \n",
    "        print(f\"public :{self.a}, protected:{self._b}, private:{self.__c}\")"
   ]
  },
  {
   "cell_type": "code",
   "execution_count": 65,
   "id": "bdecf5b3-873b-4ec4-ba9f-d540331c47d9",
   "metadata": {},
   "outputs": [
    {
     "name": "stdout",
     "output_type": "stream",
     "text": [
      "public :10, protected:20, private:30\n"
     ]
    }
   ],
   "source": [
    "t = Test()"
   ]
  },
  {
   "cell_type": "code",
   "execution_count": 66,
   "id": "69325505-07d0-44cc-8f36-d4e2be3c7c99",
   "metadata": {},
   "outputs": [
    {
     "data": {
      "text/plain": [
       "10"
      ]
     },
     "execution_count": 66,
     "metadata": {},
     "output_type": "execute_result"
    }
   ],
   "source": [
    "t.a"
   ]
  },
  {
   "cell_type": "code",
   "execution_count": 67,
   "id": "c01e8db1-f873-49aa-a578-bf7a9de701d4",
   "metadata": {},
   "outputs": [
    {
     "ename": "AttributeError",
     "evalue": "'Test' object has no attribute 'b'",
     "output_type": "error",
     "traceback": [
      "\u001b[0;31m---------------------------------------------------------------------------\u001b[0m",
      "\u001b[0;31mAttributeError\u001b[0m                            Traceback (most recent call last)",
      "Cell \u001b[0;32mIn [67], line 1\u001b[0m\n\u001b[0;32m----> 1\u001b[0m \u001b[43mt\u001b[49m\u001b[38;5;241;43m.\u001b[39;49m\u001b[43mb\u001b[49m\n",
      "\u001b[0;31mAttributeError\u001b[0m: 'Test' object has no attribute 'b'"
     ]
    }
   ],
   "source": [
    "t.b"
   ]
  },
  {
   "cell_type": "code",
   "execution_count": 68,
   "id": "7077a855-ca68-46b7-91ad-f73fe4492e5f",
   "metadata": {},
   "outputs": [
    {
     "ename": "AttributeError",
     "evalue": "'Test' object has no attribute 'c'",
     "output_type": "error",
     "traceback": [
      "\u001b[0;31m---------------------------------------------------------------------------\u001b[0m",
      "\u001b[0;31mAttributeError\u001b[0m                            Traceback (most recent call last)",
      "Cell \u001b[0;32mIn [68], line 1\u001b[0m\n\u001b[0;32m----> 1\u001b[0m \u001b[43mt\u001b[49m\u001b[38;5;241;43m.\u001b[39;49m\u001b[43mc\u001b[49m\n",
      "\u001b[0;31mAttributeError\u001b[0m: 'Test' object has no attribute 'c'"
     ]
    }
   ],
   "source": [
    "t.c"
   ]
  },
  {
   "cell_type": "code",
   "execution_count": 69,
   "id": "b303778a-3e15-426a-937a-22f2adba0305",
   "metadata": {},
   "outputs": [],
   "source": [
    "class Test:\n",
    "    \n",
    "    def __init__(self):\n",
    "        self.a = 10\n",
    "        self._b = 20\n",
    "        self.__c = 30\n",
    "        \n",
    "        print(f\"public :{self.a}, protected:{self._b}, private:{self.__c}\")\n",
    "    \n",
    "    def show(self):\n",
    "        print(f\"protected:{self._b}, private:{self.__c}\")\n",
    "        "
   ]
  },
  {
   "cell_type": "code",
   "execution_count": 70,
   "id": "31752e2c-efa8-4818-8a23-9193a087252a",
   "metadata": {},
   "outputs": [
    {
     "name": "stdout",
     "output_type": "stream",
     "text": [
      "public :10, protected:20, private:30\n"
     ]
    }
   ],
   "source": [
    "t2 = Test()"
   ]
  },
  {
   "cell_type": "code",
   "execution_count": 71,
   "id": "d62463dc-f6aa-4492-9d73-b78d37c593c8",
   "metadata": {},
   "outputs": [
    {
     "name": "stdout",
     "output_type": "stream",
     "text": [
      "protected:20, private:30\n"
     ]
    }
   ],
   "source": [
    "t2.show()"
   ]
  },
  {
   "cell_type": "code",
   "execution_count": 74,
   "id": "0c32ff47-f729-4291-a7bf-a6a4e1245122",
   "metadata": {},
   "outputs": [
    {
     "data": {
      "text/plain": [
       "30"
      ]
     },
     "execution_count": 74,
     "metadata": {},
     "output_type": "execute_result"
    }
   ],
   "source": [
    "t2._Test__c # Name mangling to access private variable - Bad practise"
   ]
  },
  {
   "cell_type": "code",
   "execution_count": 77,
   "id": "3c928754-eb1b-4ceb-9580-21034c18cee1",
   "metadata": {},
   "outputs": [
    {
     "data": {
      "text/plain": [
       "20"
      ]
     },
     "execution_count": 77,
     "metadata": {},
     "output_type": "execute_result"
    }
   ],
   "source": [
    "t2._b # Access protected variable"
   ]
  },
  {
   "cell_type": "code",
   "execution_count": 7,
   "id": "a3cf327d-65be-4f0d-87a4-ff13c74ac6e9",
   "metadata": {},
   "outputs": [],
   "source": [
    "class Tyres:\n",
    "    \n",
    "    def __init__(self, branch, belted_bias, opt_pressure):\n",
    "        self.branch = branch\n",
    "        self.belted_bias = belted_bias\n",
    "        self.opt_pressure = opt_pressure\n",
    "    \n",
    "    def __str__(self):\n",
    "        return f\"Tyres: \\n \\t Branch:{self.branch} \\n \\t Belted bias:{self.belted_bias} \\n \\t optimal pressure:{self.opt_pressure}\"\n",
    "   \n",
    "class Engine:\n",
    "    \n",
    "    def __init__(self, fuel_type, noise_level):\n",
    "        self.fuel_type = fuel_type\n",
    "        self.noise_level = noise_level\n",
    "    \n",
    "    def __str__(self):\n",
    "        return f\"Engine:\\n \\t Fuel type: {self.fuel_type} \\n \\t Noise level: {self.noise_level}\"\n",
    "\n",
    "class Body:\n",
    "    \n",
    "    def __init__(self, size):\n",
    "        self.size = size\n",
    "    \n",
    "    def __str__(self):\n",
    "        return f\"Body: \\n \\t {self.size}\"\n",
    "\n",
    "class Car:\n",
    "    \n",
    "    def __init__(self,tyres,engine, body):\n",
    "                \n",
    "        self.tyres = tyres\n",
    "        self.engine = engine\n",
    "        self.body = body\n",
    "    \n",
    "    def __str__(self):\n",
    "                \n",
    "        return f\"{self.tyres} \\n {self.engine} \\n {self.body} \"\n",
    "    "
   ]
  },
  {
   "cell_type": "code",
   "execution_count": 8,
   "id": "1abd1afe-7728-4ed4-916c-1767c2c93158",
   "metadata": {},
   "outputs": [],
   "source": [
    "t = Tyres('bangalore', True, 2.0)\n",
    "e = Engine('Diesel', 3)\n",
    "b = Body('Medium')"
   ]
  },
  {
   "cell_type": "code",
   "execution_count": 9,
   "id": "8d98499e-fddd-49b8-a162-dc43f037a235",
   "metadata": {},
   "outputs": [],
   "source": [
    "c = Car(t,e,b)"
   ]
  },
  {
   "cell_type": "code",
   "execution_count": 10,
   "id": "7f6fba8d-f16f-4c70-a177-00befd28f8be",
   "metadata": {},
   "outputs": [
    {
     "name": "stdout",
     "output_type": "stream",
     "text": [
      "Tyres: \n",
      " \t Branch:bangalore \n",
      " \t Belted bias:True \n",
      " \t optimal pressure:2.0 \n",
      " Engine:\n",
      " \t Fuel type: Diesel \n",
      " \t Noise level: 3 \n",
      " Body: \n",
      " \t Medium \n"
     ]
    }
   ],
   "source": [
    "print(c)"
   ]
  }
 ],
 "metadata": {
  "kernelspec": {
   "display_name": "Python 3 (ipykernel)",
   "language": "python",
   "name": "python3"
  },
  "language_info": {
   "codemirror_mode": {
    "name": "ipython",
    "version": 3
   },
   "file_extension": ".py",
   "mimetype": "text/x-python",
   "name": "python",
   "nbconvert_exporter": "python",
   "pygments_lexer": "ipython3",
   "version": "3.10.6"
  }
 },
 "nbformat": 4,
 "nbformat_minor": 5
}
