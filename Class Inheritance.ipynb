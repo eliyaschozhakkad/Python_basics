{
 "cells": [
  {
   "cell_type": "markdown",
   "id": "6223dae3-a420-4446-91f2-238e8921495b",
   "metadata": {},
   "source": [
    "# Single Inheritance"
   ]
  },
  {
   "cell_type": "code",
   "execution_count": 1,
   "id": "1e8a0db7-70fc-4a68-9211-a2e8b9b7611e",
   "metadata": {},
   "outputs": [],
   "source": [
    "class Parent:\n",
    "    def func1(self):\n",
    "        print(\"Hello I am Parent Class\")\n",
    "        \n",
    "class Child(Parent):\n",
    "    def func2(self):\n",
    "        print(\"Hello I am Child Class\")"
   ]
  },
  {
   "cell_type": "code",
   "execution_count": 2,
   "id": "c6031d85-0e34-4c31-8e73-fc99c8eb921b",
   "metadata": {},
   "outputs": [],
   "source": [
    "child = Child()"
   ]
  },
  {
   "cell_type": "code",
   "execution_count": 3,
   "id": "3d54a0ce-53d8-4774-8c8f-2f8696452952",
   "metadata": {},
   "outputs": [
    {
     "name": "stdout",
     "output_type": "stream",
     "text": [
      "Hello I am Parent Class\n"
     ]
    }
   ],
   "source": [
    "child.func1()"
   ]
  },
  {
   "cell_type": "code",
   "execution_count": 4,
   "id": "223885a9-a872-4a80-90f7-cf3ad6108444",
   "metadata": {},
   "outputs": [
    {
     "name": "stdout",
     "output_type": "stream",
     "text": [
      "Hello I am Child Class\n"
     ]
    }
   ],
   "source": [
    "child.func2()"
   ]
  },
  {
   "cell_type": "code",
   "execution_count": 5,
   "id": "91037f1c-4204-4d8c-ab8b-fa2fe6297fcd",
   "metadata": {},
   "outputs": [],
   "source": [
    "class Ineuron:\n",
    "    company_website = \"https://ineuron.ai\"\n",
    "    name = \"iNeuron\"\n",
    "    \n",
    "    def contact_details(self):\n",
    "        print(\"Contact us at\" , self.company_website)\n",
    "\n",
    "class Datascience(Ineuron):\n",
    "    \n",
    "    def __init__(self):\n",
    "        self.year_of_establishment = 2018\n",
    "        \n",
    "    def est_details(self):\n",
    "        print(\"est details\", self.name, self.year_of_establishment)"
   ]
  },
  {
   "cell_type": "code",
   "execution_count": 6,
   "id": "55efe351-baab-47a4-b8c7-f421ea619fd6",
   "metadata": {},
   "outputs": [],
   "source": [
    "ds = Datascience()"
   ]
  },
  {
   "cell_type": "code",
   "execution_count": 7,
   "id": "a328bfc1-fd94-431b-bf8b-3014bbe82d97",
   "metadata": {},
   "outputs": [
    {
     "name": "stdout",
     "output_type": "stream",
     "text": [
      "Contact us at https://ineuron.ai\n"
     ]
    }
   ],
   "source": [
    "ds.contact_details()"
   ]
  },
  {
   "cell_type": "markdown",
   "id": "79bc6b3d-69a3-40d1-8540-d7d339c4cb7a",
   "metadata": {},
   "source": [
    "# Multiple Inheritance|"
   ]
  },
  {
   "cell_type": "code",
   "execution_count": 8,
   "id": "71ec81a3-8601-40c8-a956-34574e076839",
   "metadata": {},
   "outputs": [],
   "source": [
    "#Example 1"
   ]
  },
  {
   "cell_type": "code",
   "execution_count": 9,
   "id": "084fa2f4-4cc6-4d3b-af79-1c7147345236",
   "metadata": {},
   "outputs": [],
   "source": [
    "\n",
    "class Parent1:\n",
    "    def func1(self):\n",
    "        print(\"Hello from Parent1\")\n",
    "\n",
    "class Parent2:\n",
    "    def func2(self):\n",
    "        print(\"Hello from Parent2\")\n",
    "\n",
    "class Child(Parent1,Parent2):\n",
    "    def func3(self):\n",
    "        print(\"Hello from child\")\n",
    "    "
   ]
  },
  {
   "cell_type": "code",
   "execution_count": 10,
   "id": "19620dc8-a2db-47d8-88af-4fff43e9434a",
   "metadata": {},
   "outputs": [],
   "source": [
    "child = Child()"
   ]
  },
  {
   "cell_type": "code",
   "execution_count": 11,
   "id": "4638e613-3316-4f4a-a420-9bebb13eca67",
   "metadata": {},
   "outputs": [
    {
     "name": "stdout",
     "output_type": "stream",
     "text": [
      "Hello from Parent1\n"
     ]
    }
   ],
   "source": [
    "child.func1()"
   ]
  },
  {
   "cell_type": "code",
   "execution_count": 12,
   "id": "c97d0c7b-8c34-4c48-88cf-42f7a73a8535",
   "metadata": {},
   "outputs": [
    {
     "name": "stdout",
     "output_type": "stream",
     "text": [
      "Hello from Parent2\n"
     ]
    }
   ],
   "source": [
    "child.func2()"
   ]
  },
  {
   "cell_type": "code",
   "execution_count": 13,
   "id": "eb139ece-292b-4873-bc8f-ec1aa97984a0",
   "metadata": {},
   "outputs": [
    {
     "name": "stdout",
     "output_type": "stream",
     "text": [
      "Hello from child\n"
     ]
    }
   ],
   "source": [
    "child.func3()"
   ]
  },
  {
   "cell_type": "code",
   "execution_count": 14,
   "id": "fee4c2a6-fa57-4bdd-9293-142819a2b011",
   "metadata": {},
   "outputs": [],
   "source": [
    "# Example 2"
   ]
  },
  {
   "cell_type": "code",
   "execution_count": 15,
   "id": "01ca96ef-f801-4c25-b1c6-8dadb2cefeb1",
   "metadata": {},
   "outputs": [],
   "source": [
    "# Parent 1\n",
    "class Batch_number:\n",
    "    \n",
    "    batch_number = \"\"\n",
    "    def __init__(self, a, b, c):\n",
    "        self.a = a\n",
    "        self.b = b\n",
    "        self.c = c\n",
    "    \n",
    "    def batch(self):\n",
    "        print(self.batch_number)\n",
    "        \n",
    "# Parent 2\n",
    "class Course_name:\n",
    "    \n",
    "    cname = \"\"\n",
    "    def course(self):\n",
    "        print(self.cname)\n",
    "        \n",
    "#Child Class\n",
    "class Student(Batch_number , Course_name):\n",
    "    \n",
    "    def show(self):\n",
    "        print(\"Batch:\",self.batch_number)\n",
    "        print(\"Course:\",self.cname)\n",
    "        "
   ]
  },
  {
   "cell_type": "code",
   "execution_count": 16,
   "id": "c8d90ad4-a562-4355-8b25-cede0784e3ec",
   "metadata": {},
   "outputs": [],
   "source": [
    "student = Student(4,5,6)"
   ]
  },
  {
   "cell_type": "code",
   "execution_count": 17,
   "id": "6a8e0f52-0c71-4ee3-b9fd-51e7c286fdae",
   "metadata": {},
   "outputs": [],
   "source": [
    "student.batch_number = \"2\"\n",
    "student.cname = \"fsds\"\n"
   ]
  },
  {
   "cell_type": "code",
   "execution_count": 18,
   "id": "fef2cba9-a528-4887-b8e3-56be84feff55",
   "metadata": {},
   "outputs": [
    {
     "name": "stdout",
     "output_type": "stream",
     "text": [
      "Batch: 2\n",
      "Course: fsds\n"
     ]
    }
   ],
   "source": [
    "student.show()"
   ]
  },
  {
   "cell_type": "code",
   "execution_count": 19,
   "id": "edad64d9-fef5-4c13-8356-962a652ceab7",
   "metadata": {},
   "outputs": [
    {
     "data": {
      "text/plain": [
       "<bound method Course_name.course of <__main__.Student object at 0x7ff9daf710f0>>"
      ]
     },
     "execution_count": 19,
     "metadata": {},
     "output_type": "execute_result"
    }
   ],
   "source": [
    "student.course"
   ]
  },
  {
   "cell_type": "code",
   "execution_count": 20,
   "id": "b49fea2c-7b5b-470f-9eeb-4119df43c3f4",
   "metadata": {},
   "outputs": [
    {
     "name": "stdout",
     "output_type": "stream",
     "text": [
      "2\n"
     ]
    }
   ],
   "source": [
    "student.batch()"
   ]
  },
  {
   "cell_type": "code",
   "execution_count": 21,
   "id": "0b4c8a41-1f43-4ae9-89fb-8b9f0f61067b",
   "metadata": {},
   "outputs": [],
   "source": [
    "#Example 3"
   ]
  },
  {
   "cell_type": "code",
   "execution_count": 22,
   "id": "d6714a2d-6e5d-4e96-b129-94cdad38a453",
   "metadata": {},
   "outputs": [],
   "source": [
    "class Person:\n",
    "    \n",
    "    def __init__(self,first_name,last_name):\n",
    "        self.fname = first_name\n",
    "        self.lname = last_name\n",
    "        \n",
    "    def show_personal(self):\n",
    "        print(\"First Name:\",self.fname)\n",
    "        print(\"Last Name:\",self.lname)\n",
    "\n",
    "class Company:\n",
    "    \n",
    "    def __init__(self,name,location):\n",
    "        self.name = name\n",
    "        self.location = location\n",
    "    \n",
    "    def show_company(self):\n",
    "        print(\"Company name:\",self.name)\n",
    "        print(\"Location:\",self.location)\n",
    "\n",
    "class Employee(Company,Person):\n",
    "    \n",
    "    def __init__(self,fname,lname,name,location):\n",
    "        Person.__init__(self,fname,lname)\n",
    "        Company.__init__(self,name,location)\n",
    "    \n",
    "    def show_all(self):\n",
    "        print(f\"First Name: {self.fname} \\n Last Name: {self.lname} \\n Company Name:{self.name} \\n Location:{self.location}\")\n",
    "        "
   ]
  },
  {
   "cell_type": "code",
   "execution_count": 23,
   "id": "c1ef2192-dda4-4c12-8fe4-c94fabcdca61",
   "metadata": {},
   "outputs": [],
   "source": [
    "p = Person(\"eliyas\", \"ch\")\n",
    "c = Company(\"ineuron\",\"bangalore\")\n",
    "e = Employee(\"eliyas\",\"ch\",\"ineuron\",\"bangalore\")"
   ]
  },
  {
   "cell_type": "code",
   "execution_count": 24,
   "id": "46060d39-b089-4629-8921-729ca63bb52e",
   "metadata": {},
   "outputs": [
    {
     "name": "stdout",
     "output_type": "stream",
     "text": [
      "First Name: eliyas \n",
      " Last Name: ch \n",
      " Company Name:ineuron \n",
      " Location:bangalore\n"
     ]
    }
   ],
   "source": [
    "e.show_all()"
   ]
  },
  {
   "cell_type": "markdown",
   "id": "eb49a3c9-d88f-4e83-92f2-89136d4b8d24",
   "metadata": {},
   "source": [
    "# Multilevel inheritance"
   ]
  },
  {
   "cell_type": "code",
   "execution_count": 25,
   "id": "70365ab9-b608-45a6-b6a6-11ac665189dd",
   "metadata": {},
   "outputs": [],
   "source": [
    "class test1:\n",
    "    def a(self):\n",
    "        print(\"Inside test1\")\n",
    "        \n",
    "class test2(test1):\n",
    "    def b(self):\n",
    "        print(\"Inside test2\")\n",
    "\n",
    "class test3(test2):\n",
    "    def c(self):\n",
    "        print(\"Inside test3\")"
   ]
  },
  {
   "cell_type": "code",
   "execution_count": 26,
   "id": "96af8ef0-6fa0-4d4e-bb32-a9163888f063",
   "metadata": {},
   "outputs": [],
   "source": [
    "t = test3()"
   ]
  },
  {
   "cell_type": "code",
   "execution_count": 27,
   "id": "16f00c07-0231-4c9e-958b-ac4617390352",
   "metadata": {},
   "outputs": [
    {
     "name": "stdout",
     "output_type": "stream",
     "text": [
      "Inside test1\n"
     ]
    }
   ],
   "source": [
    "t.a()"
   ]
  },
  {
   "cell_type": "code",
   "execution_count": 28,
   "id": "19acd183-1cb7-4b72-ac03-423611d434f5",
   "metadata": {},
   "outputs": [
    {
     "name": "stdout",
     "output_type": "stream",
     "text": [
      "Inside test2\n"
     ]
    }
   ],
   "source": [
    "t.b()"
   ]
  },
  {
   "cell_type": "code",
   "execution_count": 29,
   "id": "e1d0e0d8-8201-417f-8a4e-4b2da113a918",
   "metadata": {},
   "outputs": [],
   "source": [
    "class Vehicle:\n",
    "    def info(self):\n",
    "        print(\"Inside vehicle class\")\n",
    "        \n",
    "class Car(Vehicle):\n",
    "    def car_info(self):\n",
    "        print(\"Inside Car class\")\n",
    "\n",
    "class sportscar(Car):\n",
    "    def sportscar_info(self):\n",
    "        print(\"Inside sportscar\")"
   ]
  },
  {
   "cell_type": "code",
   "execution_count": 30,
   "id": "a1854479-1b7b-4fd9-8f74-c64e3b8a5a66",
   "metadata": {},
   "outputs": [],
   "source": [
    "s1 = sportscar()"
   ]
  },
  {
   "cell_type": "code",
   "execution_count": 31,
   "id": "2d53d87a-c0c8-426e-90e4-4bbf14595697",
   "metadata": {},
   "outputs": [
    {
     "name": "stdout",
     "output_type": "stream",
     "text": [
      "Inside vehicle class\n"
     ]
    }
   ],
   "source": [
    "s1.info()"
   ]
  },
  {
   "cell_type": "code",
   "execution_count": 32,
   "id": "c5a2f116-b02a-4bb7-8c69-f34c9f52e1bd",
   "metadata": {},
   "outputs": [
    {
     "name": "stdout",
     "output_type": "stream",
     "text": [
      "Inside Car class\n"
     ]
    }
   ],
   "source": [
    "s1.car_info()"
   ]
  },
  {
   "cell_type": "code",
   "execution_count": 35,
   "id": "e57a8421-2b9f-44ab-8ed1-986c43b134ef",
   "metadata": {},
   "outputs": [],
   "source": [
    "class Phones:\n",
    "    def __init__(self, brand, model, price):\n",
    "        self.brand = brand\n",
    "        self.model = model\n",
    "        self.price = price\n",
    "    \n",
    "    def specs(self):\n",
    "        return f\"brand : {self.brand} model : {self.model}\"\n",
    "    \n",
    "    def typeofphone(self):\n",
    "        if self.price > 25000:\n",
    "            return \"This is a budget phone\"\n",
    "        else:\n",
    "            return \"This is a midrange phone\"\n",
    "\n",
    "class Smartphone(Phones):\n",
    "    def __init__(self,brand,model,price,ram,storage):\n",
    "        super().__init__(brand,model,price)\n",
    "        self.ram = ram\n",
    "        self.storage = storage\n",
    "        \n",
    "class Flagshipphone(Smartphone):\n",
    "    def __init__(self,brand,model,price,ram,storage,frontcamera,backcamera,display):\n",
    "        super().__init__(brand,model,price,ram,storage)\n",
    "        self.frontcamera = frontcamera\n",
    "        self.backcamera = backcamera\n",
    "        self.display = display"
   ]
  },
  {
   "cell_type": "code",
   "execution_count": 36,
   "id": "0b511c95-a7bb-4fb5-b112-f29870261c37",
   "metadata": {},
   "outputs": [],
   "source": [
    "p1 = Flagshipphone('Oneplus','6plus',35000,8,128,'yes','yes','yes')"
   ]
  },
  {
   "cell_type": "code",
   "execution_count": 37,
   "id": "5ea9d777-85b8-46b5-924c-a26c27b1f832",
   "metadata": {},
   "outputs": [
    {
     "data": {
      "text/plain": [
       "'Oneplus'"
      ]
     },
     "execution_count": 37,
     "metadata": {},
     "output_type": "execute_result"
    }
   ],
   "source": [
    "p1.brand"
   ]
  },
  {
   "cell_type": "code",
   "execution_count": 38,
   "id": "2e8f0832-4879-43f3-86c5-38e8ea621d90",
   "metadata": {},
   "outputs": [
    {
     "data": {
      "text/plain": [
       "'6plus'"
      ]
     },
     "execution_count": 38,
     "metadata": {},
     "output_type": "execute_result"
    }
   ],
   "source": [
    "p1.model"
   ]
  },
  {
   "cell_type": "code",
   "execution_count": 39,
   "id": "4c96bfdb-0196-4aac-8314-4dfb9aa150f4",
   "metadata": {},
   "outputs": [
    {
     "data": {
      "text/plain": [
       "35000"
      ]
     },
     "execution_count": 39,
     "metadata": {},
     "output_type": "execute_result"
    }
   ],
   "source": [
    "p1.price"
   ]
  },
  {
   "cell_type": "code",
   "execution_count": 40,
   "id": "24589551-2060-447d-8b5f-6387dddb05f7",
   "metadata": {},
   "outputs": [
    {
     "data": {
      "text/plain": [
       "8"
      ]
     },
     "execution_count": 40,
     "metadata": {},
     "output_type": "execute_result"
    }
   ],
   "source": [
    "p1.ram"
   ]
  },
  {
   "cell_type": "code",
   "execution_count": 41,
   "id": "1c5edca8-2f4c-4459-bc90-fdd5e89734c2",
   "metadata": {},
   "outputs": [
    {
     "data": {
      "text/plain": [
       "128"
      ]
     },
     "execution_count": 41,
     "metadata": {},
     "output_type": "execute_result"
    }
   ],
   "source": [
    "p1.storage"
   ]
  },
  {
   "cell_type": "markdown",
   "id": "6a4c69ac-e902-49be-9300-a6390aaddbf6",
   "metadata": {},
   "source": [
    "# Hierarchial Inheritance"
   ]
  },
  {
   "cell_type": "code",
   "execution_count": 34,
   "id": "75600b57-4d64-4eee-b3ec-84380ef34447",
   "metadata": {},
   "outputs": [],
   "source": [
    "class Vehicle:\n",
    "    def info(self):\n",
    "        print(\"This is Vehicle\")\n",
    "\n",
    "class Car(Vehicle):\n",
    "    def car_info(self,name):\n",
    "        print(\"car_name:\",name)\n",
    "        \n",
    "class Truck(Vehicle):\n",
    "    def truck_info(self,name):\n",
    "        print(\"truck_info:\" , name)"
   ]
  },
  {
   "cell_type": "code",
   "execution_count": 35,
   "id": "697aa08a-8d71-452b-848a-29e66a570a30",
   "metadata": {},
   "outputs": [],
   "source": [
    "c = Car()"
   ]
  },
  {
   "cell_type": "code",
   "execution_count": 36,
   "id": "d75c630d-0e36-43f5-8126-af3c06424ff7",
   "metadata": {},
   "outputs": [
    {
     "name": "stdout",
     "output_type": "stream",
     "text": [
      "car_name: maruti\n"
     ]
    }
   ],
   "source": [
    "c.car_info(\"maruti\")"
   ]
  },
  {
   "cell_type": "code",
   "execution_count": 37,
   "id": "db93a5fa-c8cb-4a7c-831a-572665d5b6fd",
   "metadata": {},
   "outputs": [
    {
     "name": "stdout",
     "output_type": "stream",
     "text": [
      "This is Vehicle\n"
     ]
    }
   ],
   "source": [
    "c.info()"
   ]
  },
  {
   "cell_type": "code",
   "execution_count": 38,
   "id": "2665f430-214e-4701-bb5f-b277f67cff78",
   "metadata": {},
   "outputs": [],
   "source": [
    "t = Truck()"
   ]
  },
  {
   "cell_type": "code",
   "execution_count": 39,
   "id": "a6f6fb6a-e929-42d0-8ddb-9fafcc8f46e5",
   "metadata": {},
   "outputs": [
    {
     "name": "stdout",
     "output_type": "stream",
     "text": [
      "truck_info: ashok leyland\n"
     ]
    }
   ],
   "source": [
    "t.truck_info(\"ashok leyland\")"
   ]
  },
  {
   "cell_type": "markdown",
   "id": "7586fabd-a35a-4d96-a75d-e77dfb9098eb",
   "metadata": {},
   "source": [
    "# Hybrid Inheritance"
   ]
  },
  {
   "cell_type": "code",
   "execution_count": 2,
   "id": "a1bec38a-0133-4506-a227-f6e817443220",
   "metadata": {},
   "outputs": [],
   "source": [
    "class Vehicle:\n",
    "    def info(self):\n",
    "        print(\"This is Vehicle\")\n",
    "\n",
    "class Car(Vehicle):\n",
    "    def car_info(self,name):\n",
    "        print(\"car_name:\",name)\n",
    "        \n",
    "class Truck(Vehicle):\n",
    "    def truck_info(self,name):\n",
    "        print(\"truck_info:\" , name)\n",
    "\n",
    "class Sportscar(Car,Vehicle):\n",
    "    def sportcar(self):\n",
    "        print(\"Inside from sports class\")\n",
    "    "
   ]
  },
  {
   "cell_type": "code",
   "execution_count": 3,
   "id": "14f4bb80-5810-451f-aa0e-186fe9fb404b",
   "metadata": {},
   "outputs": [],
   "source": [
    "s1 = Sportscar()"
   ]
  },
  {
   "cell_type": "code",
   "execution_count": 4,
   "id": "c60ae498-f993-4c83-b60a-262da956f0ae",
   "metadata": {},
   "outputs": [
    {
     "name": "stdout",
     "output_type": "stream",
     "text": [
      "Inside from sports class\n"
     ]
    }
   ],
   "source": [
    "s1.sportcar()"
   ]
  },
  {
   "cell_type": "code",
   "execution_count": 6,
   "id": "8e6a1da3-40d7-4f5c-92fc-f909314706f4",
   "metadata": {},
   "outputs": [
    {
     "name": "stdout",
     "output_type": "stream",
     "text": [
      "car_name: r1\n"
     ]
    }
   ],
   "source": [
    "s1.car_info(\"r1\")"
   ]
  },
  {
   "cell_type": "markdown",
   "id": "392a1c70-a750-4e42-ac73-5dd9432babd2",
   "metadata": {},
   "source": [
    "# Super"
   ]
  },
  {
   "cell_type": "code",
   "execution_count": 41,
   "id": "bd883554-5bc5-4c16-a0d1-0420546bf78f",
   "metadata": {},
   "outputs": [],
   "source": [
    "#1. super() is used when we need to build classes(child class) that extend the functionality of previously build classes(parent class)\n",
    "#2. super function in python is used to access method of immediate parent class"
   ]
  },
  {
   "cell_type": "code",
   "execution_count": 62,
   "id": "d0cebf45-40b6-4abd-96cf-3e8fa4673565",
   "metadata": {},
   "outputs": [],
   "source": [
    "class Company:\n",
    "    def company_name(self):\n",
    "        return 'ineuron'\n",
    "\n",
    "class Employee(Company):\n",
    "    def info(self):\n",
    "        c_name =super().company_name()\n",
    "        print(f\"I work at {c_name}\")"
   ]
  },
  {
   "cell_type": "code",
   "execution_count": 63,
   "id": "1f646dd3-4393-440f-8437-603e67800cbb",
   "metadata": {},
   "outputs": [],
   "source": [
    "e1 = Employee()"
   ]
  },
  {
   "cell_type": "code",
   "execution_count": 64,
   "id": "eafd6696-a0a7-4b4b-893f-cbc7b13e072c",
   "metadata": {},
   "outputs": [
    {
     "data": {
      "text/plain": [
       "'ineuron'"
      ]
     },
     "execution_count": 64,
     "metadata": {},
     "output_type": "execute_result"
    }
   ],
   "source": [
    "e1.company_name()"
   ]
  },
  {
   "cell_type": "code",
   "execution_count": 65,
   "id": "c6f804aa-53f0-4a8c-a031-3b57aab00685",
   "metadata": {},
   "outputs": [
    {
     "name": "stdout",
     "output_type": "stream",
     "text": [
      "I work at ineuron\n"
     ]
    }
   ],
   "source": [
    "e1.info()"
   ]
  },
  {
   "cell_type": "code",
   "execution_count": 66,
   "id": "83ac91db-db7f-4700-8452-de0f0d07f723",
   "metadata": {},
   "outputs": [],
   "source": [
    "# When you initialize  a child class in python you can call super().__init__() method \n",
    "# this initialize the parent class object into child class"
   ]
  },
  {
   "cell_type": "code",
   "execution_count": 67,
   "id": "ff05d0df-ae42-477e-815f-ee1767d9131e",
   "metadata": {},
   "outputs": [],
   "source": [
    "class Parent:\n",
    "    def __init__(self,v1,v2):\n",
    "        self.v1 = v1\n",
    "        self.v2 = v2\n",
    "\n",
    "class Child(Parent):\n",
    "    def __init__(self,v1,v2,v3):\n",
    "        super().__init__(v1,v2)\n",
    "        self.v3 = v3"
   ]
  },
  {
   "cell_type": "code",
   "execution_count": 69,
   "id": "2d92e8e6-82ef-4f88-9809-7153df1910ea",
   "metadata": {},
   "outputs": [],
   "source": [
    "c1 = Child(1,2,3)"
   ]
  },
  {
   "cell_type": "code",
   "execution_count": 70,
   "id": "8cade1e9-d26f-4c1e-a842-ec85b92faa25",
   "metadata": {},
   "outputs": [
    {
     "data": {
      "text/plain": [
       "1"
      ]
     },
     "execution_count": 70,
     "metadata": {},
     "output_type": "execute_result"
    }
   ],
   "source": [
    "c1.v1"
   ]
  },
  {
   "cell_type": "code",
   "execution_count": 71,
   "id": "919ca21c-4db1-47db-81a3-6856c4694e51",
   "metadata": {},
   "outputs": [
    {
     "data": {
      "text/plain": [
       "2"
      ]
     },
     "execution_count": 71,
     "metadata": {},
     "output_type": "execute_result"
    }
   ],
   "source": [
    "c1.v2"
   ]
  },
  {
   "cell_type": "code",
   "execution_count": 72,
   "id": "225e4fc3-962b-4d54-8ed3-2d5552bdd9e0",
   "metadata": {},
   "outputs": [
    {
     "data": {
      "text/plain": [
       "3"
      ]
     },
     "execution_count": 72,
     "metadata": {},
     "output_type": "execute_result"
    }
   ],
   "source": [
    "c1.v3"
   ]
  },
  {
   "cell_type": "code",
   "execution_count": null,
   "id": "a10ba11d-954d-4759-8c78-424eadf0ff34",
   "metadata": {},
   "outputs": [],
   "source": [
    "class classname(parentclass):\n",
    "    def method(self,arg):\n",
    "        super([classname],[self]).method(args)"
   ]
  },
  {
   "cell_type": "code",
   "execution_count": 83,
   "id": "d1ea180b-a05b-42dc-af59-e9e759d5c5c1",
   "metadata": {},
   "outputs": [],
   "source": [
    "class Parent:\n",
    "    def __init__(self):\n",
    "        print(\"This is parent class\")\n",
    "\n",
    "class Parent1:\n",
    "    def __init__(self):\n",
    "        print(\"This is parent1 class\")\n",
    "\n",
    "\n",
    "class Parent2:\n",
    "    def __init__(self):\n",
    "        print(\"This is parent2 class\")\n",
    "\n",
    "class Parent:\n",
    "    def __init__(self):\n",
    "        print(\"This is parent class\")\n",
    "\n",
    "class Child(Parent2,Parent1,Parent):\n",
    "    def __init__(self):\n",
    "        super().__init__()\n",
    "    "
   ]
  },
  {
   "cell_type": "code",
   "execution_count": 84,
   "id": "45ad3744-e9a7-45e6-a2b1-cdbb25ff7ff2",
   "metadata": {},
   "outputs": [
    {
     "name": "stdout",
     "output_type": "stream",
     "text": [
      "This is parent2 class\n"
     ]
    }
   ],
   "source": [
    "c1 = Child()"
   ]
  },
  {
   "cell_type": "code",
   "execution_count": null,
   "id": "e2eba16b-21b3-46e2-9eb7-348553cb757e",
   "metadata": {},
   "outputs": [],
   "source": []
  }
 ],
 "metadata": {
  "kernelspec": {
   "display_name": "Python 3 (ipykernel)",
   "language": "python",
   "name": "python3"
  },
  "language_info": {
   "codemirror_mode": {
    "name": "ipython",
    "version": 3
   },
   "file_extension": ".py",
   "mimetype": "text/x-python",
   "name": "python",
   "nbconvert_exporter": "python",
   "pygments_lexer": "ipython3",
   "version": "3.10.6"
  }
 },
 "nbformat": 4,
 "nbformat_minor": 5
}
