{
 "cells": [
  {
   "cell_type": "code",
   "execution_count": 41,
   "id": "7e160ab7-2ffe-4f82-8a0e-050905df08e0",
   "metadata": {},
   "outputs": [],
   "source": [
    "def test1(fun):\n",
    "    def test2():\n",
    "        print(\"i am inside test2\")\n",
    "        fun()\n",
    "        print(fun())\n",
    "        print(\"function execution completed\")\n",
    "        return fun()\n",
    "    return test2\n",
    "\n",
    "        "
   ]
  },
  {
   "cell_type": "code",
   "execution_count": 42,
   "id": "59e4c66a-ec9d-4d3c-9cfd-92dbdc542cad",
   "metadata": {},
   "outputs": [],
   "source": [
    "@test1\n",
    "def test3():\n",
    "    print(\"This is my test3\")"
   ]
  },
  {
   "cell_type": "code",
   "execution_count": 43,
   "id": "e0ecb5c3-068a-42cc-b1bd-f7c88fcc7dd2",
   "metadata": {},
   "outputs": [
    {
     "name": "stdout",
     "output_type": "stream",
     "text": [
      "i am inside test2\n",
      "This is my test3\n",
      "This is my test3\n",
      "None\n",
      "function execution completed\n",
      "This is my test3\n"
     ]
    }
   ],
   "source": [
    "test3()"
   ]
  },
  {
   "cell_type": "code",
   "execution_count": 44,
   "id": "580e3476-083d-43c9-8deb-58d53e768a48",
   "metadata": {},
   "outputs": [
    {
     "data": {
      "text/plain": [
       "<function __main__.test1.<locals>.test2()>"
      ]
     },
     "execution_count": 44,
     "metadata": {},
     "output_type": "execute_result"
    }
   ],
   "source": [
    "test1(test3)"
   ]
  },
  {
   "cell_type": "code",
   "execution_count": 45,
   "id": "5df26665-9871-4a23-9456-dd2e1c56faa3",
   "metadata": {},
   "outputs": [],
   "source": [
    "@test1\n",
    "def test4():\n",
    "    return 5+6"
   ]
  },
  {
   "cell_type": "code",
   "execution_count": 46,
   "id": "1361d8cf-d284-40df-b1b4-5622e7feab36",
   "metadata": {},
   "outputs": [
    {
     "name": "stdout",
     "output_type": "stream",
     "text": [
      "i am inside test2\n",
      "11\n",
      "function execution completed\n"
     ]
    },
    {
     "data": {
      "text/plain": [
       "11"
      ]
     },
     "execution_count": 46,
     "metadata": {},
     "output_type": "execute_result"
    }
   ],
   "source": [
    "test4()"
   ]
  },
  {
   "cell_type": "code",
   "execution_count": 47,
   "id": "3542f24b-089a-4c5c-8d0b-8df9de808335",
   "metadata": {},
   "outputs": [
    {
     "name": "stdout",
     "output_type": "stream",
     "text": [
      "i am inside test2\n",
      "This is my test3\n",
      "This is my test3\n",
      "None\n",
      "function execution completed\n",
      "This is my test3\n"
     ]
    }
   ],
   "source": [
    "a = test3()"
   ]
  },
  {
   "cell_type": "code",
   "execution_count": 48,
   "id": "28433817-f08d-4356-a607-69ec534f0b7a",
   "metadata": {},
   "outputs": [
    {
     "name": "stdout",
     "output_type": "stream",
     "text": [
      "None\n"
     ]
    }
   ],
   "source": [
    "print(a)"
   ]
  },
  {
   "cell_type": "code",
   "execution_count": 49,
   "id": "2f04600d-8112-463d-8fd3-97f5a0e1cdff",
   "metadata": {},
   "outputs": [
    {
     "name": "stdout",
     "output_type": "stream",
     "text": [
      "i am inside test2\n",
      "11\n",
      "function execution completed\n"
     ]
    }
   ],
   "source": [
    "b = test4()"
   ]
  },
  {
   "cell_type": "code",
   "execution_count": 50,
   "id": "692b8061-9beb-445f-98c7-6b018c210d65",
   "metadata": {},
   "outputs": [
    {
     "name": "stdout",
     "output_type": "stream",
     "text": [
      "11\n"
     ]
    }
   ],
   "source": [
    "print(b)"
   ]
  },
  {
   "cell_type": "code",
   "execution_count": 51,
   "id": "96598fef-59ce-486e-aec3-dd48ac6737aa",
   "metadata": {},
   "outputs": [
    {
     "name": "stdout",
     "output_type": "stream",
     "text": [
      "i am inside test2\n",
      "11\n",
      "function execution completed\n"
     ]
    },
    {
     "data": {
      "text/plain": [
       "23"
      ]
     },
     "execution_count": 51,
     "metadata": {},
     "output_type": "execute_result"
    }
   ],
   "source": [
    "test4() + 12\n"
   ]
  },
  {
   "cell_type": "code",
   "execution_count": 52,
   "id": "09eeef9e-d979-4e1a-8e27-96aac42d93c5",
   "metadata": {},
   "outputs": [],
   "source": [
    "def test5():\n",
    "    return 5+6"
   ]
  },
  {
   "cell_type": "code",
   "execution_count": 53,
   "id": "aef5fddb-7f00-49ff-aeb7-577fa824b0df",
   "metadata": {},
   "outputs": [
    {
     "data": {
      "text/plain": [
       "11"
      ]
     },
     "execution_count": 53,
     "metadata": {},
     "output_type": "execute_result"
    }
   ],
   "source": [
    "test5()"
   ]
  },
  {
   "cell_type": "code",
   "execution_count": 54,
   "id": "dd43541e-444e-4aec-abbe-b13afc6bde31",
   "metadata": {},
   "outputs": [
    {
     "data": {
      "text/plain": [
       "int"
      ]
     },
     "execution_count": 54,
     "metadata": {},
     "output_type": "execute_result"
    }
   ],
   "source": [
    "type(test5())"
   ]
  },
  {
   "cell_type": "code",
   "execution_count": 55,
   "id": "9cbb9855-bdca-4c92-94b7-c6ccf07d2008",
   "metadata": {},
   "outputs": [
    {
     "data": {
      "text/plain": [
       "16"
      ]
     },
     "execution_count": 55,
     "metadata": {},
     "output_type": "execute_result"
    }
   ],
   "source": [
    "test5() + 5"
   ]
  },
  {
   "cell_type": "code",
   "execution_count": 79,
   "id": "d7193d91-cf8f-45ed-ac7b-6050b1dcd0b7",
   "metadata": {},
   "outputs": [],
   "source": [
    "def test6(func):\n",
    "    def test7():\n",
    "        func()\n",
    "        print(func())\n",
    "        print(\"I am inside a decorator\")\n",
    "        return func()\n",
    "    return test7"
   ]
  },
  {
   "cell_type": "code",
   "execution_count": 80,
   "id": "43c4d5ad-a27f-4e9c-9c60-d2b15c56b2fa",
   "metadata": {},
   "outputs": [],
   "source": [
    "def test8():\n",
    "    return 5+7"
   ]
  },
  {
   "cell_type": "code",
   "execution_count": 81,
   "id": "95202cfc-cb47-473b-88d4-d88b9790a259",
   "metadata": {},
   "outputs": [
    {
     "data": {
      "text/plain": [
       "35"
      ]
     },
     "execution_count": 81,
     "metadata": {},
     "output_type": "execute_result"
    }
   ],
   "source": [
    "test8() + 23"
   ]
  },
  {
   "cell_type": "code",
   "execution_count": 82,
   "id": "e23a2011-b796-4621-863e-dbfaf1e0caa2",
   "metadata": {},
   "outputs": [],
   "source": [
    "@test6\n",
    "def test8():\n",
    "    return 5+7"
   ]
  },
  {
   "cell_type": "code",
   "execution_count": 83,
   "id": "23a24799-69fd-4ee8-b63c-b668432b5155",
   "metadata": {},
   "outputs": [
    {
     "name": "stdout",
     "output_type": "stream",
     "text": [
      "I am inside a decorator\n"
     ]
    },
    {
     "data": {
      "text/plain": [
       "12"
      ]
     },
     "execution_count": 83,
     "metadata": {},
     "output_type": "execute_result"
    }
   ],
   "source": [
    "test8()"
   ]
  },
  {
   "cell_type": "code",
   "execution_count": 84,
   "id": "f8fdc3d3-618d-4ce5-b8f2-b817f3dab36e",
   "metadata": {},
   "outputs": [
    {
     "name": "stdout",
     "output_type": "stream",
     "text": [
      "I am inside a decorator\n"
     ]
    },
    {
     "data": {
      "text/plain": [
       "24"
      ]
     },
     "execution_count": 84,
     "metadata": {},
     "output_type": "execute_result"
    }
   ],
   "source": [
    "test8() + 12"
   ]
  },
  {
   "cell_type": "code",
   "execution_count": 85,
   "id": "a008a47d-1731-4277-828e-661ef6988a2c",
   "metadata": {},
   "outputs": [
    {
     "name": "stdout",
     "output_type": "stream",
     "text": [
      "I am inside a decorator\n"
     ]
    },
    {
     "data": {
      "text/plain": [
       "int"
      ]
     },
     "execution_count": 85,
     "metadata": {},
     "output_type": "execute_result"
    }
   ],
   "source": [
    "type(test8())"
   ]
  },
  {
   "cell_type": "code",
   "execution_count": 130,
   "id": "01e6a06a-a451-48a3-a256-8c9d16d191bc",
   "metadata": {},
   "outputs": [],
   "source": [
    "def test6(func):\n",
    "    def test7(c,d):\n",
    "        func(c,d)\n",
    "        print(func(c,d))\n",
    "        print(\"I am inside a decorator\")\n",
    "        return func(c,d)\n",
    "    return test7"
   ]
  },
  {
   "cell_type": "code",
   "execution_count": 131,
   "id": "87ebd5a1-e4db-473c-aa22-a67e05cf2273",
   "metadata": {},
   "outputs": [],
   "source": [
    "@test6\n",
    "def test8(a,b):\n",
    "    return a+b"
   ]
  },
  {
   "cell_type": "code",
   "execution_count": 132,
   "id": "3f15705c-5c77-4f19-8519-31bbe829bbe4",
   "metadata": {},
   "outputs": [
    {
     "name": "stdout",
     "output_type": "stream",
     "text": [
      "ellich\n",
      "I am inside a decorator\n"
     ]
    },
    {
     "data": {
      "text/plain": [
       "'ellich'"
      ]
     },
     "execution_count": 132,
     "metadata": {},
     "output_type": "execute_result"
    }
   ],
   "source": [
    "test8(\"elli\",\"ch\")"
   ]
  },
  {
   "cell_type": "code",
   "execution_count": 152,
   "id": "28d98d80-fdb0-41ac-858a-da2e0f372356",
   "metadata": {},
   "outputs": [],
   "source": [
    "def test6(func):\n",
    "    def test7(*args,**kwargs):\n",
    "        func(*args,**kwargs)\n",
    "        print(func(*args,**kwargs))\n",
    "        print(\"I am inside a decorator\")\n",
    "        return func(*args,**kwargs)\n",
    "    return test7"
   ]
  },
  {
   "cell_type": "code",
   "execution_count": 153,
   "id": "dd7cd881-f364-4903-9787-1fa2665c75da",
   "metadata": {},
   "outputs": [],
   "source": [
    "@test6\n",
    "def test8(a,b,c):\n",
    "    return a+b+c"
   ]
  },
  {
   "cell_type": "code",
   "execution_count": 154,
   "id": "9a665503-bda2-429b-bacf-3d633fe4153f",
   "metadata": {},
   "outputs": [
    {
     "name": "stdout",
     "output_type": "stream",
     "text": [
      "ellichhello\n",
      "I am inside a decorator\n"
     ]
    },
    {
     "data": {
      "text/plain": [
       "'ellichhello'"
      ]
     },
     "execution_count": 154,
     "metadata": {},
     "output_type": "execute_result"
    }
   ],
   "source": [
    "test8(\"elli\",\"ch\",\"hello\")"
   ]
  },
  {
   "cell_type": "code",
   "execution_count": 155,
   "id": "d22e324a-586c-4f0d-b6f5-c82ee6b1f538",
   "metadata": {},
   "outputs": [],
   "source": [
    "@test6\n",
    "def test9(**kwargs):\n",
    "    return kwargs"
   ]
  },
  {
   "cell_type": "code",
   "execution_count": 156,
   "id": "ad29214c-5253-4900-8bb5-ee126f0190e4",
   "metadata": {},
   "outputs": [
    {
     "name": "stdout",
     "output_type": "stream",
     "text": [
      "{'a': 5, 'b': 6}\n",
      "I am inside a decorator\n"
     ]
    },
    {
     "data": {
      "text/plain": [
       "{'a': 5, 'b': 6}"
      ]
     },
     "execution_count": 156,
     "metadata": {},
     "output_type": "execute_result"
    }
   ],
   "source": [
    "test9(a = 5, b = 6)"
   ]
  },
  {
   "cell_type": "markdown",
   "id": "b791b020-2f02-446a-a988-fcfa470de291",
   "metadata": {},
   "source": [
    "# Lambda function"
   ]
  },
  {
   "cell_type": "code",
   "execution_count": 158,
   "id": "d169751e-b874-4838-baf6-42d641addacd",
   "metadata": {},
   "outputs": [],
   "source": [
    "def test10(a,b):\n",
    "    return a+b"
   ]
  },
  {
   "cell_type": "code",
   "execution_count": 159,
   "id": "8b68b7ff-413d-46b5-a2cf-51174d77f719",
   "metadata": {},
   "outputs": [
    {
     "data": {
      "text/plain": [
       "'ellich'"
      ]
     },
     "execution_count": 159,
     "metadata": {},
     "output_type": "execute_result"
    }
   ],
   "source": [
    "test10(\"elli\", \"ch\")"
   ]
  },
  {
   "cell_type": "code",
   "execution_count": 160,
   "id": "a355f1ef-f2a6-4d6d-b5b9-5e01ec47e48f",
   "metadata": {},
   "outputs": [
    {
     "data": {
      "text/plain": [
       "7"
      ]
     },
     "execution_count": 160,
     "metadata": {},
     "output_type": "execute_result"
    }
   ],
   "source": [
    "test10(3,4)"
   ]
  },
  {
   "cell_type": "code",
   "execution_count": 171,
   "id": "7f18b38a-0bbd-4ddd-af0c-c348f5d35782",
   "metadata": {},
   "outputs": [
    {
     "data": {
      "text/plain": [
       "<function __main__.<lambda>(x, y)>"
      ]
     },
     "execution_count": 171,
     "metadata": {},
     "output_type": "execute_result"
    }
   ],
   "source": [
    "lambda x,y: x+y"
   ]
  },
  {
   "cell_type": "code",
   "execution_count": 169,
   "id": "56afe23c-6cf5-478e-85b7-176fc780c0bc",
   "metadata": {},
   "outputs": [
    {
     "data": {
      "text/plain": [
       "<function __main__.test10(a, b)>"
      ]
     },
     "execution_count": 169,
     "metadata": {},
     "output_type": "execute_result"
    }
   ],
   "source": [
    "test10"
   ]
  },
  {
   "cell_type": "code",
   "execution_count": 173,
   "id": "64972415-2f74-409b-8a14-5d97d224d552",
   "metadata": {},
   "outputs": [],
   "source": [
    "c = lambda x,y: x+y"
   ]
  },
  {
   "cell_type": "code",
   "execution_count": 174,
   "id": "9639b503-7cac-4cef-8243-9e99b777dd9e",
   "metadata": {},
   "outputs": [
    {
     "data": {
      "text/plain": [
       "5"
      ]
     },
     "execution_count": 174,
     "metadata": {},
     "output_type": "execute_result"
    }
   ],
   "source": [
    "c(1,4)"
   ]
  },
  {
   "cell_type": "code",
   "execution_count": 175,
   "id": "d0d27309-4d98-4a4a-ac78-16f8135a9eea",
   "metadata": {},
   "outputs": [],
   "source": [
    "d = lambda a,b, c,d: a+b-c/d"
   ]
  },
  {
   "cell_type": "code",
   "execution_count": 176,
   "id": "7c153f1c-6602-4e4d-98b6-a827b7878f9b",
   "metadata": {},
   "outputs": [
    {
     "data": {
      "text/plain": [
       "2.25"
      ]
     },
     "execution_count": 176,
     "metadata": {},
     "output_type": "execute_result"
    }
   ],
   "source": [
    "d(1,2,3,4)"
   ]
  },
  {
   "cell_type": "code",
   "execution_count": 177,
   "id": "29027a9b-191d-4a11-adae-7bc91ad422a7",
   "metadata": {},
   "outputs": [],
   "source": [
    "e = lambda *args: args"
   ]
  },
  {
   "cell_type": "code",
   "execution_count": 180,
   "id": "3aae15ef-378e-40b8-a4de-7bbc5ffad256",
   "metadata": {},
   "outputs": [
    {
     "data": {
      "text/plain": [
       "(1, 2, 3, 4, 5, 5, 6)"
      ]
     },
     "execution_count": 180,
     "metadata": {},
     "output_type": "execute_result"
    }
   ],
   "source": [
    "e(1,2,3,4,5,5,6)"
   ]
  },
  {
   "cell_type": "code",
   "execution_count": 181,
   "id": "7cd7c336-6f08-42ff-bd22-1a136acfa49c",
   "metadata": {},
   "outputs": [],
   "source": [
    "f = lambda x,y: x if x>y else y"
   ]
  },
  {
   "cell_type": "code",
   "execution_count": 182,
   "id": "d37a1437-bb66-441d-a23a-f7c0aca552d2",
   "metadata": {},
   "outputs": [
    {
     "data": {
      "text/plain": [
       "4"
      ]
     },
     "execution_count": 182,
     "metadata": {},
     "output_type": "execute_result"
    }
   ],
   "source": [
    "f(4,3)"
   ]
  },
  {
   "cell_type": "code",
   "execution_count": 183,
   "id": "f72bc551-be5f-42db-b369-16c1501b43bc",
   "metadata": {},
   "outputs": [
    {
     "data": {
      "text/plain": [
       "4"
      ]
     },
     "execution_count": 183,
     "metadata": {},
     "output_type": "execute_result"
    }
   ],
   "source": [
    "f(3,4)"
   ]
  },
  {
   "cell_type": "markdown",
   "id": "6db39d64-f344-47a2-9d0e-937f980d7bf9",
   "metadata": {},
   "source": [
    "# map function"
   ]
  },
  {
   "cell_type": "code",
   "execution_count": null,
   "id": "4fe4e344-f215-4f15-a8c2-ead870403692",
   "metadata": {},
   "outputs": [],
   "source": [
    "l = [1,2,3,4,5,6,7]\n",
    "l1 = [11,12,13,14,15,16,17]"
   ]
  },
  {
   "cell_type": "code",
   "execution_count": 189,
   "id": "4c57ef40-b9e0-42c4-892d-07dd159b8c1e",
   "metadata": {},
   "outputs": [
    {
     "name": "stdout",
     "output_type": "stream",
     "text": [
      "[11, 12, 13, 14, 15, 16, 17]\n"
     ]
    }
   ],
   "source": [
    "l = [1,2,3,4,5,6,7]\n",
    "l1 = []\n",
    "for i in l:\n",
    "    l1.append(i+10)\n",
    "print(l1)"
   ]
  },
  {
   "cell_type": "code",
   "execution_count": 191,
   "id": "fc259039-5a25-4632-9ce0-029bb019ff00",
   "metadata": {},
   "outputs": [
    {
     "data": {
      "text/plain": [
       "[1, 2, 3, 4, 5, 6, 7]"
      ]
     },
     "execution_count": 191,
     "metadata": {},
     "output_type": "execute_result"
    }
   ],
   "source": [
    "l"
   ]
  },
  {
   "cell_type": "code",
   "execution_count": 193,
   "id": "3ba95a59-d9f5-47dc-be18-ea14e3f59735",
   "metadata": {},
   "outputs": [],
   "source": [
    "def test14(a):\n",
    "    return a+10"
   ]
  },
  {
   "cell_type": "code",
   "execution_count": 198,
   "id": "f8c488c7-f43f-44cc-8d82-53f5f228fb1a",
   "metadata": {},
   "outputs": [
    {
     "data": {
      "text/plain": [
       "[11, 12, 13, 14, 15, 16, 17]"
      ]
     },
     "execution_count": 198,
     "metadata": {},
     "output_type": "execute_result"
    }
   ],
   "source": [
    "list(map(test14,l))"
   ]
  },
  {
   "cell_type": "code",
   "execution_count": 200,
   "id": "540b517f-daed-4aaa-a14e-c0cf55d5fd55",
   "metadata": {},
   "outputs": [
    {
     "data": {
      "text/plain": [
       "[11, 12, 13, 14, 15, 16, 17]"
      ]
     },
     "execution_count": 200,
     "metadata": {},
     "output_type": "execute_result"
    }
   ],
   "source": [
    "list(map(lambda x: x + 10,l))"
   ]
  },
  {
   "cell_type": "code",
   "execution_count": 202,
   "id": "1c02e9f4-8e0d-4cff-a179-b8fa6e1aae02",
   "metadata": {},
   "outputs": [
    {
     "data": {
      "text/plain": [
       "[11, 12, 13, 14, 15, 16, 17]"
      ]
     },
     "execution_count": 202,
     "metadata": {},
     "output_type": "execute_result"
    }
   ],
   "source": [
    "n = lambda a : a+10\n",
    "list(map(n,l))"
   ]
  },
  {
   "cell_type": "code",
   "execution_count": 203,
   "id": "c9bd06ae-395d-4c3f-8a1c-587cfdf884da",
   "metadata": {},
   "outputs": [],
   "source": [
    "l = [\"eliyas\", \"ch\"]"
   ]
  },
  {
   "cell_type": "code",
   "execution_count": 204,
   "id": "e76a17f9-7b23-4ab1-8131-1c133f81ef70",
   "metadata": {},
   "outputs": [
    {
     "data": {
      "text/plain": [
       "['eliyas', 'ch']"
      ]
     },
     "execution_count": 204,
     "metadata": {},
     "output_type": "execute_result"
    }
   ],
   "source": [
    "l"
   ]
  },
  {
   "cell_type": "code",
   "execution_count": 205,
   "id": "dc9da741-ba36-41d4-a631-92411e4cf012",
   "metadata": {},
   "outputs": [
    {
     "data": {
      "text/plain": [
       "['ELIYAS', 'CH']"
      ]
     },
     "execution_count": 205,
     "metadata": {},
     "output_type": "execute_result"
    }
   ],
   "source": [
    "list(map(lambda x: x.upper(),l))"
   ]
  },
  {
   "cell_type": "code",
   "execution_count": 206,
   "id": "fde636c8-ca89-4c5e-8c43-ffffef23379e",
   "metadata": {},
   "outputs": [
    {
     "data": {
      "text/plain": [
       "['ELIYAS', 'CH']"
      ]
     },
     "execution_count": 206,
     "metadata": {},
     "output_type": "execute_result"
    }
   ],
   "source": [
    "list(map(str.upper,l))"
   ]
  },
  {
   "cell_type": "code",
   "execution_count": 207,
   "id": "6799b0e7-a77f-4703-b947-4062fd63e292",
   "metadata": {},
   "outputs": [],
   "source": [
    "def upper_string(a):\n",
    "    return a.upper()"
   ]
  },
  {
   "cell_type": "code",
   "execution_count": 208,
   "id": "c99b0dd6-d40b-4a9d-b0ac-04bc1d41303c",
   "metadata": {},
   "outputs": [
    {
     "data": {
      "text/plain": [
       "['ELIYAS', 'CH']"
      ]
     },
     "execution_count": 208,
     "metadata": {},
     "output_type": "execute_result"
    }
   ],
   "source": [
    "list(map(upper_string,l))"
   ]
  },
  {
   "cell_type": "code",
   "execution_count": 210,
   "id": "c19a2d78-985b-4573-bd7c-b0bc5e5bcdc2",
   "metadata": {},
   "outputs": [
    {
     "name": "stdout",
     "output_type": "stream",
     "text": [
      "['ELIYAS', 'CH']\n"
     ]
    }
   ],
   "source": [
    "l1 = []\n",
    "for i in l:\n",
    "    l1.append(i.upper())\n",
    "print(l1)"
   ]
  },
  {
   "cell_type": "code",
   "execution_count": 211,
   "id": "52e55d27-c320-431d-a408-e7cd9e8a3aa0",
   "metadata": {},
   "outputs": [
    {
     "data": {
      "text/plain": [
       "['eliyas', 'ch']"
      ]
     },
     "execution_count": 211,
     "metadata": {},
     "output_type": "execute_result"
    }
   ],
   "source": [
    "l"
   ]
  },
  {
   "cell_type": "code",
   "execution_count": 212,
   "id": "5f55eca6-2981-4a42-b705-e43d9caafab4",
   "metadata": {},
   "outputs": [
    {
     "data": {
      "text/plain": [
       "[6, 2]"
      ]
     },
     "execution_count": 212,
     "metadata": {},
     "output_type": "execute_result"
    }
   ],
   "source": [
    "list(map(lambda x:len(x),l))"
   ]
  },
  {
   "cell_type": "code",
   "execution_count": 213,
   "id": "772e8a39-ea06-4a2e-9d59-86dba49759f8",
   "metadata": {},
   "outputs": [
    {
     "data": {
      "text/plain": [
       "[6, 2]"
      ]
     },
     "execution_count": 213,
     "metadata": {},
     "output_type": "execute_result"
    }
   ],
   "source": [
    "list(map(len,l))"
   ]
  },
  {
   "cell_type": "code",
   "execution_count": 214,
   "id": "e68362ef-aa4c-46ad-a2e5-3a01f0abaf62",
   "metadata": {},
   "outputs": [],
   "source": [
    "def test23(a):\n",
    "    return len(a)"
   ]
  },
  {
   "cell_type": "code",
   "execution_count": 215,
   "id": "f15ca3f8-2f50-448e-bdd1-bb3db0dddc7f",
   "metadata": {},
   "outputs": [
    {
     "data": {
      "text/plain": [
       "[6, 2]"
      ]
     },
     "execution_count": 215,
     "metadata": {},
     "output_type": "execute_result"
    }
   ],
   "source": [
    "list(map(test23,l))"
   ]
  },
  {
   "cell_type": "markdown",
   "id": "0ad7e745-3802-4d98-afdf-8e2f85888da8",
   "metadata": {},
   "source": [
    "# filter function"
   ]
  },
  {
   "cell_type": "code",
   "execution_count": 2,
   "id": "ec5a2783-b0f6-448d-b8e1-bfd869b46995",
   "metadata": {},
   "outputs": [],
   "source": [
    "l = [1, 2, 3, 4,5,6,7,8]"
   ]
  },
  {
   "cell_type": "code",
   "execution_count": 3,
   "id": "948f7739-76b4-42f3-83b6-9a7ae6ecf4e6",
   "metadata": {},
   "outputs": [
    {
     "name": "stdout",
     "output_type": "stream",
     "text": [
      "[2, 4, 6, 8]\n"
     ]
    }
   ],
   "source": [
    "l1 = []\n",
    "for i in l:\n",
    "    if i%2 == 0:\n",
    "        l1.append(i)\n",
    "print(l1)"
   ]
  },
  {
   "cell_type": "code",
   "execution_count": 4,
   "id": "05734389-7578-4358-9370-95251e40fc6b",
   "metadata": {},
   "outputs": [],
   "source": [
    "def even(l):\n",
    "    l1 = []\n",
    "    for i in l:\n",
    "        if i%2 ==0:\n",
    "            l1.append(i)\n",
    "    return l1"
   ]
  },
  {
   "cell_type": "code",
   "execution_count": 5,
   "id": "3cb3c8c9-d548-49f7-9905-4a3e57f32e69",
   "metadata": {},
   "outputs": [
    {
     "data": {
      "text/plain": [
       "[2, 4, 6, 8]"
      ]
     },
     "execution_count": 5,
     "metadata": {},
     "output_type": "execute_result"
    }
   ],
   "source": [
    "even(l)"
   ]
  },
  {
   "cell_type": "code",
   "execution_count": 6,
   "id": "f137f30e-844d-4dab-89b2-279ecab65a14",
   "metadata": {},
   "outputs": [],
   "source": [
    "def even1(a):\n",
    "    if a%2 == 0:\n",
    "        return a\n",
    "    else:\n",
    "        pass"
   ]
  },
  {
   "cell_type": "code",
   "execution_count": 13,
   "id": "09ff1cdb-0875-4a05-adc6-35237ee9e810",
   "metadata": {},
   "outputs": [
    {
     "data": {
      "text/plain": [
       "[None, 2, None, 4, None, 6, None, 8]"
      ]
     },
     "execution_count": 13,
     "metadata": {},
     "output_type": "execute_result"
    }
   ],
   "source": [
    "l1 = list(map(even1,l))\n",
    "l1"
   ]
  },
  {
   "cell_type": "code",
   "execution_count": 10,
   "id": "a81c99d8-54f4-4328-becf-82fb5c150a95",
   "metadata": {},
   "outputs": [],
   "source": [
    "l2 = [i for i in l if i%2 ==0]"
   ]
  },
  {
   "cell_type": "code",
   "execution_count": 11,
   "id": "a0c78fd1-268c-4188-83da-e516379eac1c",
   "metadata": {},
   "outputs": [
    {
     "data": {
      "text/plain": [
       "[2, 4, 6, 8]"
      ]
     },
     "execution_count": 11,
     "metadata": {},
     "output_type": "execute_result"
    }
   ],
   "source": [
    "l2"
   ]
  },
  {
   "cell_type": "code",
   "execution_count": 42,
   "id": "32b4d5b3-5997-4b28-90b6-eb73f821427f",
   "metadata": {},
   "outputs": [],
   "source": [
    "a = lambda x:x if x%2 == 0 else None"
   ]
  },
  {
   "cell_type": "code",
   "execution_count": 43,
   "id": "6ae16552-9b58-4ab4-944d-c1eb75031e83",
   "metadata": {},
   "outputs": [
    {
     "data": {
      "text/plain": [
       "[None, 2, None, 4, None, 6, None, 8]"
      ]
     },
     "execution_count": 43,
     "metadata": {},
     "output_type": "execute_result"
    }
   ],
   "source": [
    "list(map(a,l))"
   ]
  },
  {
   "cell_type": "code",
   "execution_count": 44,
   "id": "a6c89dee-d779-4b35-8f3c-acbafd19ba2a",
   "metadata": {},
   "outputs": [],
   "source": [
    "#filter"
   ]
  },
  {
   "cell_type": "code",
   "execution_count": 45,
   "id": "fd0833fd-307c-4025-b912-3b2e4c4aed5b",
   "metadata": {},
   "outputs": [
    {
     "data": {
      "text/plain": [
       "[2, 4, 6, 8]"
      ]
     },
     "execution_count": 45,
     "metadata": {},
     "output_type": "execute_result"
    }
   ],
   "source": [
    "list(filter(a,l))"
   ]
  },
  {
   "cell_type": "code",
   "execution_count": 55,
   "id": "73da3208-72b9-4437-8ce1-af72f0f2988a",
   "metadata": {},
   "outputs": [],
   "source": [
    "def test25(a):\n",
    "    if a%2 == 0:\n",
    "        return True\n",
    "    else:\n",
    "        return False"
   ]
  },
  {
   "cell_type": "code",
   "execution_count": 56,
   "id": "a7cd518a-d3ba-4d5b-ac25-ba93d62d0842",
   "metadata": {},
   "outputs": [
    {
     "data": {
      "text/plain": [
       "True"
      ]
     },
     "execution_count": 56,
     "metadata": {},
     "output_type": "execute_result"
    }
   ],
   "source": [
    "test25(32)"
   ]
  },
  {
   "cell_type": "code",
   "execution_count": 57,
   "id": "934510cf-db7a-47e0-b1f7-9212e94413d0",
   "metadata": {},
   "outputs": [
    {
     "data": {
      "text/plain": [
       "False"
      ]
     },
     "execution_count": 57,
     "metadata": {},
     "output_type": "execute_result"
    }
   ],
   "source": [
    "test25(35)"
   ]
  },
  {
   "cell_type": "code",
   "execution_count": 58,
   "id": "e6e5b845-29f0-410c-92cd-9371622458fc",
   "metadata": {},
   "outputs": [
    {
     "data": {
      "text/plain": [
       "[2, 4, 6, 8]"
      ]
     },
     "execution_count": 58,
     "metadata": {},
     "output_type": "execute_result"
    }
   ],
   "source": [
    "list(filter(test25,l))"
   ]
  },
  {
   "cell_type": "code",
   "execution_count": 59,
   "id": "09566598-8b8e-49d8-b912-dffcf0feecb7",
   "metadata": {},
   "outputs": [
    {
     "data": {
      "text/plain": [
       "[1, 2, 3, 4, 5, 6, 7, 8]"
      ]
     },
     "execution_count": 59,
     "metadata": {},
     "output_type": "execute_result"
    }
   ],
   "source": [
    "l"
   ]
  },
  {
   "cell_type": "code",
   "execution_count": 60,
   "id": "27232da8-7f30-465c-96e4-05927e2fdcac",
   "metadata": {},
   "outputs": [
    {
     "data": {
      "text/plain": [
       "36"
      ]
     },
     "execution_count": 60,
     "metadata": {},
     "output_type": "execute_result"
    }
   ],
   "source": [
    "sum(l)"
   ]
  },
  {
   "cell_type": "markdown",
   "id": "13318477-92e1-48f9-b21d-bc73fe1220df",
   "metadata": {},
   "source": [
    "# reduce"
   ]
  },
  {
   "cell_type": "code",
   "execution_count": 61,
   "id": "da30e30e-73c0-4f01-9a82-3b606ca0fc63",
   "metadata": {},
   "outputs": [
    {
     "data": {
      "text/plain": [
       "[1, 2, 3, 4, 5, 6, 7, 8]"
      ]
     },
     "execution_count": 61,
     "metadata": {},
     "output_type": "execute_result"
    }
   ],
   "source": [
    "l"
   ]
  },
  {
   "cell_type": "code",
   "execution_count": 62,
   "id": "14d463b4-d149-4ed9-ab67-764abb9c6eaf",
   "metadata": {},
   "outputs": [
    {
     "name": "stdout",
     "output_type": "stream",
     "text": [
      "40320\n"
     ]
    }
   ],
   "source": [
    "product = 1\n",
    "for i in l:\n",
    "    product *= i\n",
    "print(product)"
   ]
  },
  {
   "cell_type": "code",
   "execution_count": 71,
   "id": "eb6f068d-bea3-4905-862d-3d65a381d63b",
   "metadata": {},
   "outputs": [],
   "source": [
    "from functools import reduce"
   ]
  },
  {
   "cell_type": "code",
   "execution_count": 72,
   "id": "81545b55-444e-4f0f-b179-c0878a23c5b4",
   "metadata": {},
   "outputs": [
    {
     "data": {
      "text/plain": [
       "[1, 2, 3, 4, 5, 6, 7, 8]"
      ]
     },
     "execution_count": 72,
     "metadata": {},
     "output_type": "execute_result"
    }
   ],
   "source": []
  },
  {
   "cell_type": "code",
   "execution_count": 76,
   "id": "5eb6fc5c-9558-4788-9e2c-45d9a5e86b99",
   "metadata": {},
   "outputs": [
    {
     "data": {
      "text/plain": [
       "40320"
      ]
     },
     "execution_count": 76,
     "metadata": {},
     "output_type": "execute_result"
    }
   ],
   "source": [
    "reduce(lambda x,y:x*y,l)"
   ]
  },
  {
   "cell_type": "code",
   "execution_count": 95,
   "id": "d3d24328-198c-404a-845e-7a0fb69d6786",
   "metadata": {},
   "outputs": [
    {
     "data": {
      "text/plain": [
       "[1, 2, 3, 4, 5, 6, 7, 8, 9]"
      ]
     },
     "execution_count": 95,
     "metadata": {},
     "output_type": "execute_result"
    }
   ],
   "source": [
    "l1"
   ]
  },
  {
   "cell_type": "code",
   "execution_count": 94,
   "id": "8dbdf22f-2cc7-4688-8b33-39817dd8c70d",
   "metadata": {},
   "outputs": [
    {
     "ename": "TypeError",
     "evalue": "<lambda>() missing 1 required positional argument: 'c'",
     "output_type": "error",
     "traceback": [
      "\u001b[0;31m---------------------------------------------------------------------------\u001b[0m",
      "\u001b[0;31mTypeError\u001b[0m                                 Traceback (most recent call last)",
      "Cell \u001b[0;32mIn [94], line 1\u001b[0m\n\u001b[0;32m----> 1\u001b[0m \u001b[43mreduce\u001b[49m\u001b[43m(\u001b[49m\u001b[38;5;28;43;01mlambda\u001b[39;49;00m\u001b[43m \u001b[49m\u001b[43ma\u001b[49m\u001b[43m,\u001b[49m\u001b[43m \u001b[49m\u001b[43mb\u001b[49m\u001b[43m,\u001b[49m\u001b[43m \u001b[49m\u001b[43mc\u001b[49m\u001b[43m \u001b[49m\u001b[43m:\u001b[49m\u001b[43m \u001b[49m\u001b[43ma\u001b[49m\u001b[38;5;241;43m*\u001b[39;49m\u001b[43mb\u001b[49m\u001b[38;5;241;43m*\u001b[39;49m\u001b[43mc\u001b[49m\u001b[43m,\u001b[49m\u001b[43m \u001b[49m\u001b[43ml1\u001b[49m\u001b[43m)\u001b[49m\n",
      "\u001b[0;31mTypeError\u001b[0m: <lambda>() missing 1 required positional argument: 'c'"
     ]
    }
   ],
   "source": [
    "reduce(lambda a, b, c : a*b*c, l1)"
   ]
  },
  {
   "cell_type": "code",
   "execution_count": 93,
   "id": "6c35667a-a33e-4e88-9514-efcf09ebd92d",
   "metadata": {},
   "outputs": [
    {
     "data": {
      "text/plain": [
       "[1, 2, 3, 4, 5, 6, 7, 8, 9]"
      ]
     },
     "execution_count": 93,
     "metadata": {},
     "output_type": "execute_result"
    }
   ],
   "source": [
    "l1"
   ]
  },
  {
   "cell_type": "code",
   "execution_count": 97,
   "id": "08ab5c80-9e0b-4055-afb8-ab792b15afb5",
   "metadata": {},
   "outputs": [
    {
     "data": {
      "text/plain": [
       "3"
      ]
     },
     "execution_count": 97,
     "metadata": {},
     "output_type": "execute_result"
    }
   ],
   "source": [
    "l1 = [3]\n",
    "reduce(lambda x,y:x*y,l1)\n",
    "#exception in reduce\n",
    "#if only one parameter is present , it is returned"
   ]
  },
  {
   "cell_type": "code",
   "execution_count": 105,
   "id": "f5621774-6e19-4cd1-a157-6151f657a64b",
   "metadata": {},
   "outputs": [],
   "source": [
    "def test26(a,b)->int:\n",
    "    \"\"\"Hello this is a docstring\"\"\"\n",
    "    return a+b"
   ]
  },
  {
   "cell_type": "code",
   "execution_count": 107,
   "id": "a68180d6-fa49-42ac-aae9-07f0f886b593",
   "metadata": {},
   "outputs": [
    {
     "data": {
      "text/plain": [
       "7"
      ]
     },
     "execution_count": 107,
     "metadata": {},
     "output_type": "execute_result"
    }
   ],
   "source": [
    "test26(3,4)"
   ]
  },
  {
   "cell_type": "code",
   "execution_count": 120,
   "id": "afd4b9a5-1247-451d-8f4e-83c8f9988813",
   "metadata": {},
   "outputs": [],
   "source": [
    "def test26(a:int,b:\"func\",c:int = 234)->int:\n",
    "    \"\"\"Hello this is a docstring\"\"\"\n",
    "    return a+b+str(c)\n",
    "# a can be int \n",
    "#defined by fuction developed programmers for ease of use for others and no datatype is explicity assigned"
   ]
  },
  {
   "cell_type": "code",
   "execution_count": 121,
   "id": "8aaac794-646d-4368-97a7-f65f62ae8b85",
   "metadata": {},
   "outputs": [
    {
     "data": {
      "text/plain": [
       "'ellich234'"
      ]
     },
     "execution_count": 121,
     "metadata": {},
     "output_type": "execute_result"
    }
   ],
   "source": [
    "test26(\"elli\", \"ch\")"
   ]
  },
  {
   "cell_type": "code",
   "execution_count": 119,
   "id": "b8ba9184-ef47-4dc5-b04c-f1d0fb309024",
   "metadata": {},
   "outputs": [
    {
     "data": {
      "text/plain": [
       "'ellich123'"
      ]
     },
     "execution_count": 119,
     "metadata": {},
     "output_type": "execute_result"
    }
   ],
   "source": [
    "test26(\"elli\", \"ch\", 123)"
   ]
  },
  {
   "cell_type": "code",
   "execution_count": null,
   "id": "a16f21d0-bf9e-41d3-8bc1-83002a159154",
   "metadata": {},
   "outputs": [],
   "source": []
  }
 ],
 "metadata": {
  "kernelspec": {
   "display_name": "Python 3 (ipykernel)",
   "language": "python",
   "name": "python3"
  },
  "language_info": {
   "codemirror_mode": {
    "name": "ipython",
    "version": 3
   },
   "file_extension": ".py",
   "mimetype": "text/x-python",
   "name": "python",
   "nbconvert_exporter": "python",
   "pygments_lexer": "ipython3",
   "version": "3.10.6"
  }
 },
 "nbformat": 4,
 "nbformat_minor": 5
}
